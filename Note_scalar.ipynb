{
 "cells": [
  {
   "cell_type": "markdown",
   "id": "52962fa5",
   "metadata": {},
   "source": [
    "# 变量与数据类型"
   ]
  },
  {
   "cell_type": "markdown",
   "id": "5a2dda73",
   "metadata": {},
   "source": [
    "## > 变量"
   ]
  },
  {
   "cell_type": "markdown",
   "id": "44ee03d1",
   "metadata": {},
   "source": [
    "- 每个变量都要有一个名字，称为 变量名。\n",
    "- 变量名只可包含字母、数字和下划线（_）。\n",
    "- 变量名不可以用数字开头。\n",
    "- 简单变量的变量名一般用小写英文单数名词 表示。\n",
    "- 变量名中不允许有空格，空格处用下划线代替。\n",
    "- 变量名对大小写字母敏感。\n",
    "- 不可使用 python 保留字作为变量名，例如：`print`。\n",
    "- 建议：[不使用拼音作为变量命名](https://mp.weixin.qq.com/s/Fo6hLn5Qq4lQRSFff9tKGw)。"
   ]
  },
  {
   "cell_type": "code",
   "execution_count": 1,
   "id": "87f4c2c2",
   "metadata": {},
   "outputs": [
    {
     "name": "stdout",
     "output_type": "stream",
     "text": [
      "1\n"
     ]
    }
   ],
   "source": [
    "# 数值变量\n",
    "a = 1\n",
    "print(a)"
   ]
  },
  {
   "cell_type": "code",
   "execution_count": 2,
   "id": "b76286e6",
   "metadata": {},
   "outputs": [
    {
     "name": "stdout",
     "output_type": "stream",
     "text": [
      "I love python\n"
     ]
    }
   ],
   "source": [
    "# 字符串变量\n",
    "a = \"I love python\"\n",
    "print(a)"
   ]
  },
  {
   "cell_type": "code",
   "execution_count": 3,
   "id": "7bb60799",
   "metadata": {},
   "outputs": [
    {
     "data": {
      "text/plain": [
       "'I love python'"
      ]
     },
     "execution_count": 3,
     "metadata": {},
     "output_type": "execute_result"
    }
   ],
   "source": [
    "a"
   ]
  },
  {
   "cell_type": "markdown",
   "id": "88f6cad2",
   "metadata": {},
   "source": [
    "# > 数据类型"
   ]
  },
  {
   "cell_type": "markdown",
   "id": "2529d2ef",
   "metadata": {},
   "source": [
    "## > 数字类型"
   ]
  },
  {
   "cell_type": "code",
   "execution_count": 4,
   "id": "9bf3e70e",
   "metadata": {},
   "outputs": [
    {
     "name": "stdout",
     "output_type": "stream",
     "text": [
      "1234.57\n"
     ]
    }
   ],
   "source": [
    "#精确到小数点后两位\n",
    "x = 1234.56789\n",
    "\n",
    "print(format(x, '0.2f'))"
   ]
  },
  {
   "cell_type": "code",
   "execution_count": 7,
   "id": "35dc9524",
   "metadata": {},
   "outputs": [
    {
     "name": "stdout",
     "output_type": "stream",
     "text": [
      "    1234.6\n",
      "1234.6    \n",
      "  1234.6  \n"
     ]
    }
   ],
   "source": [
    "# 以 10 个字符右对齐，一位数精度\n",
    "print(format(x, '>10.1f'))\n",
    "# 右对齐\n",
    "print(format(x, '<10.1f'))\n",
    "# 居中对齐\n",
    "print(format(x, '^10.1f'))"
   ]
  },
  {
   "cell_type": "code",
   "execution_count": 10,
   "id": "737ceddc",
   "metadata": {},
   "outputs": [
    {
     "name": "stdout",
     "output_type": "stream",
     "text": [
      "1,234.56789\n",
      "1,234.6\n"
     ]
    }
   ],
   "source": [
    "# 包含千位分隔符\n",
    "print(format(x, ','))\n",
    "print(format(x, '0,.1f'))"
   ]
  },
  {
   "cell_type": "code",
   "execution_count": 11,
   "id": "04454c21",
   "metadata": {},
   "outputs": [
    {
     "name": "stdout",
     "output_type": "stream",
     "text": [
      "1.234568e+03\n",
      "1.23E+03\n"
     ]
    }
   ],
   "source": [
    "# 指数记法\n",
    "print(format(x, 'e'))\n",
    "print(format(x, '0.2E'))"
   ]
  },
  {
   "cell_type": "code",
   "execution_count": 14,
   "id": "fe403cc6",
   "metadata": {},
   "outputs": [
    {
     "name": "stdout",
     "output_type": "stream",
     "text": [
      "1.0\n",
      "0.9999999999999999\n",
      "0.30000000000000004\n"
     ]
    }
   ],
   "source": [
    "# python 数值计算中的四舍五入错误\n",
    "print((1/45)*45)\n",
    "print((1/49)*49)\n",
    "print(0.1+0.2)"
   ]
  },
  {
   "cell_type": "markdown",
   "id": "308a4792",
   "metadata": {},
   "source": [
    "## > 字符串类型"
   ]
  },
  {
   "cell_type": "code",
   "execution_count": 15,
   "id": "a7f190bc",
   "metadata": {},
   "outputs": [
    {
     "name": "stdout",
     "output_type": "stream",
     "text": [
      "Hello world!\n"
     ]
    }
   ],
   "source": [
    "# 字符串（string）\n",
    "message = \"Hello world!\"\n",
    "print (message)"
   ]
  },
  {
   "cell_type": "code",
   "execution_count": 16,
   "id": "97768f3c",
   "metadata": {},
   "outputs": [
    {
     "name": "stdout",
     "output_type": "stream",
     "text": [
      "ATCG\n",
      "atcg\n"
     ]
    }
   ],
   "source": [
    "# 大小写字母转换(upper&lower)\n",
    "dna = \"atcg\"\n",
    "\n",
    "# Convert lowercase to uppercase\n",
    "dna_uppercase = dna.upper()\n",
    "print(dna_uppercase)\n",
    "\n",
    "# Convert uppercase to lowercase\n",
    "dna_lowercase = dna_uppercase.lower()\n",
    "print(dna_lowercase)"
   ]
  },
  {
   "cell_type": "code",
   "execution_count": 17,
   "id": "d96939c5",
   "metadata": {},
   "outputs": [
    {
     "name": "stdout",
     "output_type": "stream",
     "text": [
      "['a', 't', 'c', 'g']\n"
     ]
    }
   ],
   "source": [
    "# 将字符串转为列表 (list)\n",
    "dna = \"atcg\"\n",
    "\n",
    "# convert string to list\n",
    "bases = list(dna)\n",
    "print(bases)"
   ]
  },
  {
   "cell_type": "code",
   "execution_count": 18,
   "id": "eb4f0b18",
   "metadata": {},
   "outputs": [
    {
     "name": "stdout",
     "output_type": "stream",
     "text": [
      "4\n"
     ]
    }
   ],
   "source": [
    "# 计算字符串的长度 (len)\n",
    "dna = \"atcg\"\n",
    "\n",
    "dna_length = len(dna)\n",
    "\n",
    "print(dna_length)"
   ]
  },
  {
   "cell_type": "code",
   "execution_count": 19,
   "id": "fc2ddb7c",
   "metadata": {},
   "outputs": [
    {
     "name": "stdout",
     "output_type": "stream",
     "text": [
      "2\n",
      "2\n"
     ]
    }
   ],
   "source": [
    "#  查找 (find)\n",
    "dna = \"atcgtca\"\n",
    "\n",
    "# 查找 cg\n",
    "cg_index = dna.find(\"cg\")\n",
    "\n",
    "#输出位置索引值\n",
    "print(cg_index)\n",
    "\n",
    "dna = \"atcgtcacg\"\n",
    "# 查找 cg\n",
    "cg_index = dna.find(\"cg\")\n",
    "\n",
    "#输出位置索引值\n",
    "print(cg_index)"
   ]
  },
  {
   "cell_type": "code",
   "execution_count": 20,
   "id": "2c4f5a59",
   "metadata": {},
   "outputs": [
    {
     "name": "stdout",
     "output_type": "stream",
     "text": [
      "ttcg\n"
     ]
    }
   ],
   "source": [
    "#  替换 (replace)\n",
    "dna = \"atcg\"\n",
    "\n",
    "# replace\n",
    "a_to_t = dna.replace(\"a\",\"t\")\n",
    "print(a_to_t)"
   ]
  },
  {
   "cell_type": "code",
   "execution_count": 31,
   "id": "d251e951",
   "metadata": {},
   "outputs": [
    {
     "name": "stdout",
     "output_type": "stream",
     "text": [
      "['A', 'G', 'GG', 'C', 'AGA', '', 'C', 'GCGGA', 'GA']\n",
      "['ATGTGG', 'TTCTGCGGATGA']\n",
      "['ATGTGGTCTAGATTCTGCGGATGA']\n",
      "['ATGTGGTCTAGATTCTGCGGATGA']\n"
     ]
    }
   ],
   "source": [
    "# 分割 (split)\n",
    "XbaI = \"TCTAGA\"\n",
    "my_dna = \"ATGTGGTCTAGATTCTGCGGATGA\"\n",
    "XbaII='XXX'\n",
    "# split\n",
    "print(my_dna.split('T'))\n",
    "print(my_dna.split(XbaI))\n",
    "print(my_dna.split(XbaII))"
   ]
  },
  {
   "cell_type": "code",
   "execution_count": 26,
   "id": "8315e255",
   "metadata": {},
   "outputs": [
    {
     "name": "stdout",
     "output_type": "stream",
     "text": [
      "5\n"
     ]
    }
   ],
   "source": [
    "# 统计字符出现的次数 (count)\n",
    "my_dna = \"ATGTGGTCTAGATTCTGCGGATGA\"\n",
    "\n",
    "# count A\n",
    "print(my_dna.count(\"A\"))"
   ]
  },
  {
   "cell_type": "code",
   "execution_count": 43,
   "id": "1b26fdb3",
   "metadata": {},
   "outputs": [
    {
     "name": "stdout",
     "output_type": "stream",
     "text": [
      "gcta\n",
      "['g', 'c', 't', 'a']\n"
     ]
    },
    {
     "data": {
      "text/plain": [
       "['g', 'c', 't', 'a']"
      ]
     },
     "execution_count": 43,
     "metadata": {},
     "output_type": "execute_result"
    }
   ],
   "source": [
    "# 反向（reverse）\n",
    "dna = 'atcg'\n",
    "rev_dna = ''.join(reversed(dna))\n",
    "# join()是一个字符串方法，它返回被子字符串连接的字符串。\n",
    "print(rev_dna)\n",
    "\n",
    "rev_dna1 = list(reversed(dna))\n",
    "print(rev_dna1)\n",
    "\n",
    "rev_dna1 = list(reversed(dna))\n",
    "[x for x in reversed(dna)]"
   ]
  },
  {
   "cell_type": "code",
   "execution_count": 36,
   "id": "e70672cb",
   "metadata": {},
   "outputs": [
    {
     "name": "stdout",
     "output_type": "stream",
     "text": [
      "lo w\n"
     ]
    }
   ],
   "source": [
    "# 索引\n",
    "s = 'hello world'\n",
    "# 检索第4-7个字母\n",
    "print(s[3:7])"
   ]
  },
  {
   "cell_type": "markdown",
   "id": "999a7b73",
   "metadata": {},
   "source": [
    "## > 布尔值类型"
   ]
  },
  {
   "cell_type": "code",
   "execution_count": 44,
   "id": "2192ed6f",
   "metadata": {},
   "outputs": [
    {
     "name": "stdout",
     "output_type": "stream",
     "text": [
      "True\n",
      "False\n"
     ]
    }
   ],
   "source": [
    "print(8 > 7)\n",
    "print(8 == 7)"
   ]
  },
  {
   "cell_type": "markdown",
   "id": "f0ffee78",
   "metadata": {},
   "source": [
    "# > 列表（List）"
   ]
  },
  {
   "cell_type": "markdown",
   "id": "21fff581",
   "metadata": {},
   "source": [
    "- 列表可存储多个值。\n",
    "- 多个值被放在一对 方括号[ ] 内。\n",
    "- 值之间以逗号分隔。\n",
    "- 列表变量名 通常使用 复数名词。如：proteins，genes。\n",
    "- 列表中值的顺序固定。\n",
    "- 列表中可以有重复值。"
   ]
  },
  {
   "cell_type": "code",
   "execution_count": 45,
   "id": "8b33c857",
   "metadata": {},
   "outputs": [
    {
     "name": "stdout",
     "output_type": "stream",
     "text": [
      "['Met', 'Val', 'Arg']\n"
     ]
    }
   ],
   "source": [
    "amino_acids = ['Met', 'Val', 'Arg']\n",
    "print(amino_acids)"
   ]
  },
  {
   "cell_type": "code",
   "execution_count": 46,
   "id": "3126c990",
   "metadata": {},
   "outputs": [
    {
     "name": "stdout",
     "output_type": "stream",
     "text": [
      "Met\n",
      "Arg\n"
     ]
    }
   ],
   "source": [
    "# 调用列表中的值\n",
    "\n",
    "# 调用列表中的第一个值\n",
    "amino_acids = ['Met', 'Val', 'Arg']\n",
    "print(amino_acids[0])\n",
    "\n",
    "# 调用列表中的倒数第一个值\n",
    "amino_acids = ['Met', 'Val', 'Arg']\n",
    "print(amino_acids[-1])"
   ]
  },
  {
   "cell_type": "code",
   "execution_count": 47,
   "id": "86e954eb",
   "metadata": {},
   "outputs": [
    {
     "name": "stdout",
     "output_type": "stream",
     "text": [
      "['Phe', 'Val', 'Arg']\n"
     ]
    }
   ],
   "source": [
    "# 对列表重新赋值\n",
    "\n",
    "amino_acids = ['Met', 'Val', 'Arg']\n",
    "amino_acids[0] = \"Phe\"\n",
    "print(amino_acids)"
   ]
  },
  {
   "cell_type": "code",
   "execution_count": 55,
   "id": "5bc6a7c6",
   "metadata": {},
   "outputs": [
    {
     "name": "stdout",
     "output_type": "stream",
     "text": [
      "['Arg', 'Lys']\n",
      "['Phe', 'Val', 'Arg', 'Lys']\n",
      "['Phe', 'Val']\n"
     ]
    }
   ],
   "source": [
    "# 切片（slicing）\n",
    "\n",
    "# 列表切片（slicing）指提取列表中某个范围内的值。\n",
    "amino_acids = ['Phe', 'Val', 'Arg', 'Lys']\n",
    "print(amino_acids[2:4])\n",
    "print(amino_acids[0:4])\n",
    "print(amino_acids[0:2])"
   ]
  },
  {
   "cell_type": "code",
   "execution_count": 49,
   "id": "25401800",
   "metadata": {},
   "outputs": [
    {
     "name": "stdout",
     "output_type": "stream",
     "text": [
      "[1, 2, 3, 'a', 'b', 'c']\n"
     ]
    }
   ],
   "source": [
    "# 合并列表（Concatenation）\n",
    "\n",
    "numbers = [1,2,3]\n",
    "letters = [\"a\",\"b\",\"c\"]\n",
    "combine = numbers + letters\n",
    "print(combine)"
   ]
  },
  {
   "cell_type": "code",
   "execution_count": 50,
   "id": "fe3e0e26",
   "metadata": {},
   "outputs": [
    {
     "name": "stdout",
     "output_type": "stream",
     "text": [
      "['A', 'T', 'C', 'G']\n"
     ]
    }
   ],
   "source": [
    "# 将字符串转换成列表(list)\n",
    "\n",
    "dna = \"ATCG\"\n",
    "bases = list(dna)\n",
    "print(bases)"
   ]
  },
  {
   "cell_type": "code",
   "execution_count": 51,
   "id": "3d624c7d",
   "metadata": {},
   "outputs": [
    {
     "name": "stdout",
     "output_type": "stream",
     "text": [
      "['Met', 'Val', 'Arg', 'Lys']\n"
     ]
    }
   ],
   "source": [
    "# 向列表中追加值（append）\n",
    "\n",
    "amino_acids = ['Met', 'Val', 'Arg']\n",
    "amino_acids.append(\"Lys\")\n",
    "print(amino_acids)"
   ]
  },
  {
   "cell_type": "code",
   "execution_count": 56,
   "id": "f1cf50f6",
   "metadata": {},
   "outputs": [
    {
     "name": "stdout",
     "output_type": "stream",
     "text": [
      "a\n"
     ]
    }
   ],
   "source": [
    "# 嵌套列表（Nested list）\n",
    "\n",
    "my_list = [[1,2,3],['a','b','c']]\n",
    "print(my_list[1][0])"
   ]
  },
  {
   "cell_type": "code",
   "execution_count": 2,
   "id": "9a10f8bc",
   "metadata": {},
   "outputs": [
    {
     "name": "stdout",
     "output_type": "stream",
     "text": [
      "1\n",
      "2\n",
      "3\n",
      "1\n",
      "2\n",
      "[3, 4]\n",
      "5\n"
     ]
    }
   ],
   "source": [
    "# 列表拆包\n",
    "\n",
    "my_list = [1, 2, 3]\n",
    "a, b, c = my_list\n",
    "print(a)  # output: 1\n",
    "print(b)  # output: 2\n",
    "print(c)  # output: 3\n",
    "\n",
    "my_list = [1, 2, 3, 4, 5]\n",
    "a, b, *rest,c = my_list\n",
    "print(a)    # output: 1\n",
    "print(b)    # output: 2\n",
    "print(rest) # output: [3, 4]\n",
    "print(c)    # output: 5"
   ]
  },
  {
   "cell_type": "markdown",
   "id": "cf96544b",
   "metadata": {},
   "source": [
    "# > 元组（Tuple）"
   ]
  },
  {
   "cell_type": "code",
   "execution_count": 57,
   "id": "a2a1a618",
   "metadata": {},
   "outputs": [
    {
     "name": "stdout",
     "output_type": "stream",
     "text": [
      "['Met', 'Val', 'Arg']\n",
      "(1, 4, 9, 16, 25, 36)\n"
     ]
    }
   ],
   "source": [
    "# 元组中的多个值被放在一对 小括号（） 内。\n",
    "\n",
    "amino_acids = ['Met', 'Val', 'Arg']\n",
    "perfect_squares = (1,4,9,16,25,36)\n",
    "\n",
    "print(amino_acids)\n",
    "print(perfect_squares)"
   ]
  },
  {
   "cell_type": "markdown",
   "id": "9d35174e",
   "metadata": {},
   "source": [
    "### 元组与列表的区别\n",
    "- 元组中的值是 不可改变的（Inmutable），不能对元组进行重新赋值。\n",
    "- 不能删除元组中的值。\n",
    "- 不能向元组中添加新的值。\n",
    "- 元组占用的内存空间比列表小，比列表操作速度快。\n",
    "- 使用大括号{}作为定界符，“，”分隔元素"
   ]
  },
  {
   "cell_type": "code",
   "execution_count": 58,
   "id": "5703f191",
   "metadata": {},
   "outputs": [
    {
     "name": "stdout",
     "output_type": "stream",
     "text": [
      "list size =  104\n",
      "tuple size =  88\n"
     ]
    }
   ],
   "source": [
    "import sys\n",
    "\n",
    "list_eg = [1,4,9,16,25,36]\n",
    "tuple_eg = (1,4,9,16,25,36)\n",
    "\n",
    "print(\"list size = \", sys.getsizeof(list_eg))\n",
    "print(\"tuple size = \", sys.getsizeof(tuple_eg))"
   ]
  },
  {
   "cell_type": "markdown",
   "id": "c4d59ac9",
   "metadata": {},
   "source": [
    "### 如果一定要修改元组中的值"
   ]
  },
  {
   "cell_type": "code",
   "execution_count": 59,
   "id": "729a20b6",
   "metadata": {},
   "outputs": [
    {
     "name": "stdout",
     "output_type": "stream",
     "text": [
      "[1, 4, 9, 16, 25, 36]\n"
     ]
    }
   ],
   "source": [
    "# 先将元组转换成列表：\n",
    "\n",
    "tuple_eg = (1,4,9,16,25,36)\n",
    "\n",
    "list_eg  = list(tuple_eg)\n",
    "\n",
    "print(list_eg)"
   ]
  },
  {
   "cell_type": "code",
   "execution_count": 60,
   "id": "a275c712",
   "metadata": {},
   "outputs": [
    {
     "name": "stdout",
     "output_type": "stream",
     "text": [
      "[5, 4, 9, 16, 25, 36]\n"
     ]
    }
   ],
   "source": [
    "# 修改列表中的值：\n",
    "\n",
    "list_eg[0] = 5\n",
    "print(list_eg)"
   ]
  },
  {
   "cell_type": "code",
   "execution_count": 61,
   "id": "fc16f9ab",
   "metadata": {},
   "outputs": [
    {
     "name": "stdout",
     "output_type": "stream",
     "text": [
      "(5, 4, 9, 16, 25, 36)\n"
     ]
    }
   ],
   "source": [
    "# 再将列表转回成元组：\n",
    "\n",
    "tuple_eg = tuple(list_eg)\n",
    "print(tuple_eg )"
   ]
  },
  {
   "cell_type": "markdown",
   "id": "a9cedb2c",
   "metadata": {},
   "source": [
    "### 如果一定要向元组中添加新的值 \n",
    "- 原始元组（tuple1）\n",
    "- 新建一个元组（tuple2）\n",
    "- Tuple3 = tuple1 + tuple2"
   ]
  },
  {
   "cell_type": "markdown",
   "id": "6b641b60",
   "metadata": {},
   "source": [
    "### 元祖拆包"
   ]
  },
  {
   "cell_type": "code",
   "execution_count": 3,
   "id": "b5314108",
   "metadata": {},
   "outputs": [
    {
     "name": "stdout",
     "output_type": "stream",
     "text": [
      "1 2 3\n"
     ]
    }
   ],
   "source": [
    "#  Unpacking multiple values from a tuple\n",
    "t = (1, 2, 3)\n",
    "a, b, c = t\n",
    "print(a, b, c)  # Output: 1 2 3"
   ]
  },
  {
   "cell_type": "code",
   "execution_count": 12,
   "id": "cfd36731",
   "metadata": {},
   "outputs": [
    {
     "name": "stdout",
     "output_type": "stream",
     "text": [
      "(1,)\n"
     ]
    }
   ],
   "source": [
    "# Unpacking a tuple with a single element\n",
    "t = (1,)\n",
    "a = t\n",
    "print(a)  # Output: 1"
   ]
  },
  {
   "cell_type": "code",
   "execution_count": 13,
   "id": "086dfdd8",
   "metadata": {},
   "outputs": [
    {
     "name": "stdout",
     "output_type": "stream",
     "text": [
      "1 2\n",
      "3 4\n",
      "5 6\n"
     ]
    }
   ],
   "source": [
    "# Unpacking a tuple in a loop:\n",
    "list_of_tuples = [(1, 2), (3, 4), (5, 6)]\n",
    "\n",
    "for a, b in list_of_tuples:\n",
    "    print(a, b)\n",
    "# Output:\n",
    "# 1 2\n",
    "# 3 4\n",
    "# 5 6"
   ]
  },
  {
   "cell_type": "code",
   "execution_count": 14,
   "id": "5be97b8b",
   "metadata": {},
   "outputs": [
    {
     "name": "stdout",
     "output_type": "stream",
     "text": [
      "Alice 30\n"
     ]
    }
   ],
   "source": [
    "# Unpacking a function's return value\n",
    "def get_name_and_age():\n",
    "    name = \"Alice\"\n",
    "    age = 30\n",
    "    return name, age\n",
    "\n",
    "person_name, person_age = get_name_and_age()\n",
    "print(person_name, person_age)  # Output: Alice 30"
   ]
  },
  {
   "cell_type": "markdown",
   "id": "1d0d8ba4",
   "metadata": {},
   "source": [
    "### zip函数"
   ]
  },
  {
   "cell_type": "markdown",
   "id": "34b45ced",
   "metadata": {},
   "source": [
    "在 Python 中，zip 是一个内置函数，它将 一个 或 多个可迭代对象（iterable objects）作为参数，并返回一个元组迭代器（iterator of tuples），其中每个元组包含来自每个可迭代对象的一个元素。 当最短的输入迭代耗尽时，生成的迭代器停止。"
   ]
  },
  {
   "cell_type": "code",
   "execution_count": 21,
   "id": "c358e3c8",
   "metadata": {},
   "outputs": [
    {
     "name": "stdout",
     "output_type": "stream",
     "text": [
      "[(1, 'a', 7), (2, 'b', 8), (3, 'c', 9)]\n"
     ]
    }
   ],
   "source": [
    "# 例1\n",
    "numbers = [1, 2, 3]\n",
    "letters = ['a', 'b', 'c']\n",
    "temp=[7,8,9]\n",
    "zipped = zip(numbers, letters,temp)\n",
    "\n",
    "print(list(zipped))"
   ]
  },
  {
   "cell_type": "code",
   "execution_count": 16,
   "id": "b892ac91",
   "metadata": {},
   "outputs": [
    {
     "name": "stdout",
     "output_type": "stream",
     "text": [
      "[(1, 'a'), (2, 'b')]\n"
     ]
    }
   ],
   "source": [
    "# 例2\n",
    "numbers = [1, 2, 3]\n",
    "letters = ['a', 'b']\n",
    "zipped = zip(numbers, letters)\n",
    "\n",
    "print(list(zipped))"
   ]
  },
  {
   "cell_type": "markdown",
   "id": "bd78f5b9",
   "metadata": {},
   "source": [
    "# >集合（Set）"
   ]
  },
  {
   "cell_type": "markdown",
   "id": "43fe457d",
   "metadata": {},
   "source": [
    "- 列表（List）和 元组（Tuple）是标准的 Python 数据类型，它们按顺序存储值。\n",
    "- 集合（Set）是另一种标准的 Python 数据类型，它也存储值。 与列表或元组不同，集合不能多次出现同一元素，并且存储无序值。\n",
    "- 因为集合不能多次出现相同的元素，所以集合对于从列表或元组中有效地删除重复值以及执行常见的数学运算（如并集和交集）非常有用。"
   ]
  },
  {
   "cell_type": "code",
   "execution_count": 71,
   "id": "a78a8cc8",
   "metadata": {},
   "outputs": [
    {
     "name": "stdout",
     "output_type": "stream",
     "text": [
      "set()\n"
     ]
    }
   ],
   "source": [
    "# 创建空集合\n",
    "\n",
    "emptySet = set()\n",
    "print(emptySet)"
   ]
  },
  {
   "cell_type": "code",
   "execution_count": 68,
   "id": "e292ab7e",
   "metadata": {},
   "outputs": [
    {
     "name": "stdout",
     "output_type": "stream",
     "text": [
      "{'R', 'SQL', 'Git', 'SAS', 'Python'}\n",
      "{'R', 'SQL', 'Git', 'SAS', 'Python'}\n"
     ]
    }
   ],
   "source": [
    "# 从列表创建集合\n",
    "\n",
    "dataScientist1 = set(['Python', 'R', 'SQL', 'Git', 'SAS'])\n",
    "dataScientist2 = set(['Python','Python', 'R', 'SQL', 'Git', 'SAS'])\n",
    "print(dataScientist1)\n",
    "print(dataScientist2)"
   ]
  },
  {
   "cell_type": "code",
   "execution_count": 65,
   "id": "bcb38141",
   "metadata": {},
   "outputs": [
    {
     "name": "stdout",
     "output_type": "stream",
     "text": [
      "[1, 2, 3, 4]\n"
     ]
    }
   ],
   "source": [
    "# 将集合转为列表\n",
    "\n",
    "# Creating a set\n",
    "my_set = {1, 2, 3, 4}\n",
    "\n",
    "# Converting set to list\n",
    "my_list = list(my_set)\n",
    "\n",
    "# Printing the list\n",
    "print(my_list)  # Output: [1, 2, 3, 4]"
   ]
  },
  {
   "cell_type": "code",
   "execution_count": 72,
   "id": "061f1343",
   "metadata": {},
   "outputs": [
    {
     "name": "stdout",
     "output_type": "stream",
     "text": [
      "{40, 50, 30}\n",
      "{40, 50, 30}\n"
     ]
    }
   ],
   "source": [
    "# 计算交集(%//intersection)\n",
    "\n",
    "# list\n",
    "list1 = [10, 20, 30, 40, 50]\n",
    "list2 = [30, 40, 50, 60, 70]\n",
    "common_elements = set(list1) & set(list2)\n",
    "print(common_elements)\n",
    "\n",
    "# set\n",
    "set1 = {10, 20, 30, 40, 50}\n",
    "set2 = {30, 40, 50, 60, 70}\n",
    "intersection = set1.intersection(set2)\n",
    "print(intersection)"
   ]
  },
  {
   "cell_type": "code",
   "execution_count": 70,
   "id": "371a7e31",
   "metadata": {},
   "outputs": [
    {
     "name": "stdout",
     "output_type": "stream",
     "text": [
      "{70, 40, 10, 50, 20, 60, 30}\n"
     ]
    }
   ],
   "source": [
    "# 计算并集(union)\n",
    "set1 = {10, 20, 30, 40, 50}\n",
    "set2 = {30, 40, 50, 60, 70}\n",
    "union_set = set1.union(set2)\n",
    "print(union_set)"
   ]
  },
  {
   "cell_type": "markdown",
   "id": "450687b7",
   "metadata": {},
   "source": [
    "# > 字典（Dictionary）"
   ]
  },
  {
   "cell_type": "markdown",
   "id": "dda6e1ef",
   "metadata": {},
   "source": [
    "- 可存储多个数据，但不能有重复数据。\n",
    "- 所有数据被放在一对大括号 { } 内。\n",
    "- 数据之间用 逗号 分隔。\n",
    "- 每个数据由两部分组成：键（key）和值（value）。\n",
    "- 键和值之间用 冒号 分隔。\n",
    "- 可以对字典中的数据进行更改。"
   ]
  },
  {
   "cell_type": "code",
   "execution_count": 26,
   "id": "c5347eb5",
   "metadata": {},
   "outputs": [
    {
     "name": "stdout",
     "output_type": "stream",
     "text": [
      "ATG\n",
      "GTC\n",
      "71\n"
     ]
    }
   ],
   "source": [
    "# 字典的赋值和调用\n",
    "\n",
    "# 字典赋值方法一：标准方法\n",
    "codons = {'M': 'ATG', 'R': 'GTC'} \n",
    "\n",
    "# 调用字典键值：字典名[键名]\n",
    "print(codons['M'])  \n",
    "print(codons['R'])  \n",
    "\n",
    "# 字典赋值方法二：字典键值表\n",
    "aa_table = dict(A=71, C=103)\n",
    "print(aa_table['A'])"
   ]
  },
  {
   "cell_type": "code",
   "execution_count": 29,
   "id": "d6728de5",
   "metadata": {},
   "outputs": [
    {
     "name": "stdout",
     "output_type": "stream",
     "text": [
      "{'brand': 'Ford', 'electric': False, 'year': 1964, 'colors': ['red', 'white', 'blue']}\n",
      "white\n"
     ]
    }
   ],
   "source": [
    "# 字典可存储的数据类型\n",
    "\n",
    "my_dict = {\n",
    "  \"brand\": \"Ford\",\n",
    "  \"electric\": False,\n",
    "  \"year\": 1964,\n",
    "  \"colors\": [\"red\", \"white\", \"blue\"]\n",
    "}\n",
    "\n",
    "print(my_dict)\n",
    "print(my_dict[\"colors\"][1])"
   ]
  },
  {
   "cell_type": "code",
   "execution_count": 27,
   "id": "e6c5cf6e",
   "metadata": {},
   "outputs": [
    {
     "name": "stdout",
     "output_type": "stream",
     "text": [
      "{'brand': 'Ford', 'electric': False, 'year': 2018, 'colors': ['red', 'white', 'blue']}\n"
     ]
    }
   ],
   "source": [
    "# 更改字典中的值\n",
    "\n",
    "my_dict = {\n",
    "  \"brand\": \"Ford\",\n",
    "  \"electric\": False,\n",
    "  \"year\": 1964,\n",
    "  \"colors\": [\"red\", \"white\", \"blue\"]\n",
    "}\n",
    "\n",
    "my_dict[\"year\"] = 2018\n",
    "\n",
    "print(my_dict)"
   ]
  },
  {
   "cell_type": "code",
   "execution_count": 30,
   "id": "583614e8",
   "metadata": {},
   "outputs": [
    {
     "name": "stdout",
     "output_type": "stream",
     "text": [
      "{'brand': 'Ford', 'model': 'Mustang', 'year': 1964, 'color': 'red'}\n"
     ]
    }
   ],
   "source": [
    "# 向字典中添加新的数据\n",
    "\n",
    "my_dict = {\n",
    "  \"brand\": \"Ford\",\n",
    "  \"model\": \"Mustang\",\n",
    "  \"year\": 1964\n",
    "}\n",
    "\n",
    "my_dict[\"color\"] = \"red\"\n",
    "\n",
    "print(my_dict)"
   ]
  },
  {
   "cell_type": "markdown",
   "id": "fc245c51",
   "metadata": {},
   "source": [
    "### 字典操作"
   ]
  },
  {
   "cell_type": "code",
   "execution_count": 31,
   "id": "dcdf7c84",
   "metadata": {},
   "outputs": [
    {
     "name": "stdout",
     "output_type": "stream",
     "text": [
      "23\n",
      "None\n"
     ]
    }
   ],
   "source": [
    "# 获取键名对应的值 get()\n",
    "\n",
    "# 获取键名对应的值\n",
    "my_dict = {\"A\":23, \"B\":56}\n",
    "\n",
    "value = my_dict.get('A',None)\n",
    "print(value)\n",
    "\n",
    "# 当键名对应的值不存在时，输出 None\n",
    "value = my_dict.get('C',None)\n",
    "print(value)"
   ]
  },
  {
   "cell_type": "code",
   "execution_count": 32,
   "id": "22f1b952",
   "metadata": {},
   "outputs": [
    {
     "name": "stdout",
     "output_type": "stream",
     "text": [
      "dict_items([('A', 23), ('B', 56)])\n"
     ]
    }
   ],
   "source": [
    "# 获取键值对列表：items() \n",
    "# 获取包含每个键值对的元组（Tuple）的列表（List）。\n",
    "\n",
    "my_dict = {\"A\":23, \"B\":56}\n",
    "\n",
    "value = my_dict.items()\n",
    "\n",
    "print(value)"
   ]
  },
  {
   "cell_type": "code",
   "execution_count": 33,
   "id": "ab5a8a08",
   "metadata": {},
   "outputs": [
    {
     "name": "stdout",
     "output_type": "stream",
     "text": [
      "dict_keys(['brand', 'model', 'year'])\n"
     ]
    }
   ],
   "source": [
    "# 获取键名列表：keys()\n",
    "\n",
    "car = {\n",
    "  \"brand\": \"Ford\",\n",
    "  \"model\": \"Mustang\",\n",
    "  \"year\": 1964\n",
    "}\n",
    "\n",
    "car_keys = car.keys()\n",
    "\n",
    "print(car_keys)"
   ]
  },
  {
   "cell_type": "code",
   "execution_count": 34,
   "id": "9dcf821c",
   "metadata": {},
   "outputs": [
    {
     "name": "stdout",
     "output_type": "stream",
     "text": [
      "dict_values(['Ford', 'Mustang', 1964])\n"
     ]
    }
   ],
   "source": [
    "# 获取字典值列表：values() \n",
    "\n",
    "car = {\n",
    "  \"brand\": \"Ford\",\n",
    "  \"model\": \"Mustang\",\n",
    "  \"year\": 1964\n",
    "}\n",
    "\n",
    "car_values = car.values()\n",
    "\n",
    "print(car_values )"
   ]
  },
  {
   "cell_type": "code",
   "execution_count": 35,
   "id": "64f0cf7e",
   "metadata": {},
   "outputs": [
    {
     "name": "stdout",
     "output_type": "stream",
     "text": [
      "{'B': 56}\n"
     ]
    }
   ],
   "source": [
    "# 删除字典中的数据：pop() \n",
    "\n",
    "my_dict = {\"A\":23, \"B\":56}\n",
    "\n",
    "my_dict.pop(\"A\")\n",
    "print(my_dict)"
   ]
  },
  {
   "cell_type": "code",
   "execution_count": 36,
   "id": "0ab2416b",
   "metadata": {},
   "outputs": [
    {
     "name": "stdout",
     "output_type": "stream",
     "text": [
      "{}\n"
     ]
    }
   ],
   "source": [
    "# 清除字典中的数据：clear()\n",
    "\n",
    "thisdict = {\n",
    "  \"brand\": \"Ford\",\n",
    "  \"model\": \"Mustang\",\n",
    "  \"year\": 1964\n",
    "}\n",
    "\n",
    "thisdict.clear()\n",
    "\n",
    "print(thisdict)"
   ]
  },
  {
   "cell_type": "code",
   "execution_count": 47,
   "id": "df9dc939",
   "metadata": {},
   "outputs": [
    {
     "name": "stdout",
     "output_type": "stream",
     "text": [
      "{'brand': 'Ford', 'year': 1964}\n"
     ]
    },
    {
     "ename": "NameError",
     "evalue": "name 'thisdict' is not defined",
     "output_type": "error",
     "traceback": [
      "\u001b[1;31m---------------------------------------------------------------------------\u001b[0m",
      "\u001b[1;31mNameError\u001b[0m                                 Traceback (most recent call last)",
      "Cell \u001b[1;32mIn[47], line 19\u001b[0m\n\u001b[0;32m     13\u001b[0m thisdict \u001b[38;5;241m=\u001b[39m {\n\u001b[0;32m     14\u001b[0m   \u001b[38;5;124m\"\u001b[39m\u001b[38;5;124mbrand\u001b[39m\u001b[38;5;124m\"\u001b[39m: \u001b[38;5;124m\"\u001b[39m\u001b[38;5;124mFord\u001b[39m\u001b[38;5;124m\"\u001b[39m,\n\u001b[0;32m     15\u001b[0m   \u001b[38;5;124m\"\u001b[39m\u001b[38;5;124mmodel\u001b[39m\u001b[38;5;124m\"\u001b[39m: \u001b[38;5;124m\"\u001b[39m\u001b[38;5;124mMustang\u001b[39m\u001b[38;5;124m\"\u001b[39m,\n\u001b[0;32m     16\u001b[0m   \u001b[38;5;124m\"\u001b[39m\u001b[38;5;124myear\u001b[39m\u001b[38;5;124m\"\u001b[39m: \u001b[38;5;241m1964\u001b[39m\n\u001b[0;32m     17\u001b[0m }\n\u001b[0;32m     18\u001b[0m \u001b[38;5;28;01mdel\u001b[39;00m thisdict\n\u001b[1;32m---> 19\u001b[0m \u001b[38;5;28mprint\u001b[39m(\u001b[43mthisdict\u001b[49m)\n",
      "\u001b[1;31mNameError\u001b[0m: name 'thisdict' is not defined"
     ]
    }
   ],
   "source": [
    "# 删除字典中的数据：del\n",
    "\n",
    "# 删除字典元素\n",
    "thisdict = {\n",
    "  \"brand\": \"Ford\",\n",
    "  \"model\": \"Mustang\",\n",
    "  \"year\": 1964\n",
    "}\n",
    "del thisdict[\"model\"]\n",
    "print(thisdict)\n",
    "\n",
    "# 删除整个字典\n",
    "thisdict = {\n",
    "  \"brand\": \"Ford\",\n",
    "  \"model\": \"Mustang\",\n",
    "  \"year\": 1964\n",
    "}\n",
    "del thisdict\n",
    "print(thisdict)"
   ]
  },
  {
   "cell_type": "code",
   "execution_count": 40,
   "id": "3c64fa81",
   "metadata": {},
   "outputs": [
    {
     "name": "stdout",
     "output_type": "stream",
     "text": [
      "{'brand': 'Ford', 'model': 'Mustang', 'year': 1964}\n",
      "{'brand': 'Ford', 'model': 'Mustang', 'year': 1964}\n"
     ]
    }
   ],
   "source": [
    "# 拷贝字典\n",
    "\n",
    "# 使用 copy()\n",
    "thisdict = {\n",
    "  \"brand\": \"Ford\",\n",
    "  \"model\": \"Mustang\",\n",
    "  \"year\": 1964\n",
    "}\n",
    "mydict = thisdict.copy()\n",
    "print(mydict)\n",
    "\n",
    "# 使用 dict()\n",
    "thisdict = {\n",
    "  \"brand\": \"Ford\",\n",
    "  \"model\": \"Mustang\",\n",
    "  \"year\": 1964\n",
    "}\n",
    "mydict = dict(thisdict)\n",
    "print(mydict)"
   ]
  },
  {
   "cell_type": "code",
   "execution_count": 44,
   "id": "e99af42a",
   "metadata": {},
   "outputs": [
    {
     "name": "stdout",
     "output_type": "stream",
     "text": [
      "2007\n"
     ]
    }
   ],
   "source": [
    "# 嵌套字典（Nested Dictionaries）\n",
    "\n",
    "myfamily = {\n",
    "  \"child1\" : {\n",
    "    \"name\" : \"Emil\",\n",
    "    \"year\" : 2004\n",
    "  },\n",
    "  \"child2\" : {\n",
    "    \"name\" : \"Tobias\",\n",
    "    \"year\" : 2007\n",
    "  },\n",
    "  \"child3\" : {\n",
    "    \"name\" : \"Linus\",\n",
    "    \"year\" : 2011\n",
    "  }\n",
    "}\n",
    "print(myfamily[\"child2\"][\"year\"])"
   ]
  },
  {
   "cell_type": "code",
   "execution_count": 45,
   "id": "820ddc43",
   "metadata": {},
   "outputs": [
    {
     "name": "stdout",
     "output_type": "stream",
     "text": [
      "{'child1': {'name': 'Emil', 'year': 2004}, 'child2': {'name': 'Tobias', 'year': 2007}, 'child3': {'name': 'Linus', 'year': 2011}}\n"
     ]
    }
   ],
   "source": [
    "# 相当于将三个字典添加到新字典\n",
    "\n",
    "child1 = {\n",
    "  \"name\" : \"Emil\",\n",
    "  \"year\" : 2004\n",
    "}\n",
    "child2 = {\n",
    "  \"name\" : \"Tobias\",\n",
    "  \"year\" : 2007\n",
    "}\n",
    "child3 = {\n",
    "  \"name\" : \"Linus\",\n",
    "  \"year\" : 2011\n",
    "}\n",
    "\n",
    "myfamily = {\n",
    "  \"child1\" : child1,\n",
    "  \"child2\" : child2,\n",
    "  \"child3\" : child3\n",
    "}\n",
    "\n",
    "print(myfamily)"
   ]
  },
  {
   "cell_type": "markdown",
   "id": "9beab889",
   "metadata": {},
   "source": [
    "## 查看 对象（Object）类型"
   ]
  },
  {
   "cell_type": "code",
   "execution_count": 46,
   "id": "b7be023b",
   "metadata": {},
   "outputs": [
    {
     "name": "stdout",
     "output_type": "stream",
     "text": [
      "<class 'int'>\n",
      "<class 'str'>\n",
      "<class 'list'>\n",
      "<class 'tuple'>\n",
      "<class 'dict'>\n"
     ]
    }
   ],
   "source": [
    "a = 1\n",
    "print(type(a))\n",
    "\n",
    "b = \"book\"\n",
    "print(type(b))\n",
    "\n",
    "c = [1,2,3]\n",
    "print(type(c))\n",
    "\n",
    "d = (1,2,3)\n",
    "print(type(d))\n",
    "\n",
    "e = {\"A\":23, \"B\":56}\n",
    "print(type(e))"
   ]
  },
  {
   "cell_type": "code",
   "execution_count": null,
   "id": "33d3f181",
   "metadata": {},
   "outputs": [],
   "source": []
  }
 ],
 "metadata": {
  "kernelspec": {
   "display_name": "Python 3 (ipykernel)",
   "language": "python",
   "name": "python3"
  },
  "language_info": {
   "codemirror_mode": {
    "name": "ipython",
    "version": 3
   },
   "file_extension": ".py",
   "mimetype": "text/x-python",
   "name": "python",
   "nbconvert_exporter": "python",
   "pygments_lexer": "ipython3",
   "version": "3.10.11"
  }
 },
 "nbformat": 4,
 "nbformat_minor": 5
}
