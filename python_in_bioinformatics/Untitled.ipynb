{
 "cells": [
  {
   "cell_type": "code",
   "execution_count": 1,
   "id": "ee0bbb8b",
   "metadata": {},
   "outputs": [
    {
     "name": "stdout",
     "output_type": "stream",
     "text": [
      "['0' '1']\n",
      "['A' 'C' 'G' 'T']\n"
     ]
    }
   ],
   "source": [
    "import mchmm as mc\n",
    "\n",
    "obs_seq = 'AGACTGCATATATAAGGGGCAGGCTG'\n",
    "sts_seq = '00000000111111100000000000'\n",
    "\n",
    "hmm_model = mc.HiddenMarkovModel().from_seq(obs_seq, sts_seq)\n",
    "\n",
    "# states and observations\n",
    "print(hmm_model.states)\n",
    "print(hmm_model.observations)"
   ]
  },
  {
   "cell_type": "code",
   "execution_count": 2,
   "id": "48d729d2",
   "metadata": {},
   "outputs": [
    {
     "name": "stdout",
     "output_type": "stream",
     "text": [
      "[[0.94444444 0.05555556]\n",
      " [0.14285714 0.85714286]]\n"
     ]
    }
   ],
   "source": [
    "# states transition probability matrix\n",
    "print(hmm_model.tp)"
   ]
  },
  {
   "cell_type": "code",
   "execution_count": 3,
   "id": "561ce17d",
   "metadata": {},
   "outputs": [
    {
     "name": "stdout",
     "output_type": "stream",
     "text": [
      "[[0.21052632 0.21052632 0.47368421 0.10526316]\n",
      " [0.57142857 0.         0.         0.42857143]]\n"
     ]
    }
   ],
   "source": [
    "# emission probability matrix\n",
    "print(hmm_model.ep)"
   ]
  },
  {
   "cell_type": "code",
   "execution_count": 4,
   "id": "cd810446",
   "metadata": {},
   "outputs": [
    {
     "name": "stdout",
     "output_type": "stream",
     "text": [
      "Sequence:    GGCATTGGGCTATAAGAGGAGCTTG\n",
      "States:      0000000001111100000000000\n"
     ]
    }
   ],
   "source": [
    "# Viterbi algorithm\n",
    "\n",
    "new_sequence = \"GGCATTGGGCTATAAGAGGAGCTTG\"\n",
    "vs, vsi = hmm_model.viterbi(new_sequence)\n",
    "\n",
    "# observations\n",
    "print(\"Sequence:   \", new_sequence)\n",
    "\n",
    "# states sequence\n",
    "print(\"States:     \", \"\".join(vs))"
   ]
  },
  {
   "cell_type": "code",
   "execution_count": null,
   "id": "0e08192c",
   "metadata": {},
   "outputs": [],
   "source": []
  }
 ],
 "metadata": {
  "kernelspec": {
   "display_name": "Python 3 (ipykernel)",
   "language": "python",
   "name": "python3"
  },
  "language_info": {
   "codemirror_mode": {
    "name": "ipython",
    "version": 3
   },
   "file_extension": ".py",
   "mimetype": "text/x-python",
   "name": "python",
   "nbconvert_exporter": "python",
   "pygments_lexer": "ipython3",
   "version": "3.10.11"
  }
 },
 "nbformat": 4,
 "nbformat_minor": 5
}
