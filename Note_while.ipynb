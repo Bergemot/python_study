{
 "cells": [
  {
   "cell_type": "markdown",
   "id": "2cb11729",
   "metadata": {},
   "source": [
    "- 使用 while 循环，只要条件为真，就可以执行一组语句。"
   ]
  },
  {
   "cell_type": "code",
   "execution_count": 1,
   "id": "302f4fc5",
   "metadata": {},
   "outputs": [
    {
     "name": "stdout",
     "output_type": "stream",
     "text": [
      "1\n",
      "2\n",
      "3\n",
      "4\n",
      "5\n"
     ]
    }
   ],
   "source": [
    "i = 1\n",
    "\n",
    "while i < 6:\n",
    "  print(i)\n",
    "  i += 1 # i = i + 1"
   ]
  },
  {
   "cell_type": "markdown",
   "id": "afec4a95",
   "metadata": {},
   "source": [
    "- 使用 break 语句，即使 while 条件为真，也可以停止循环。"
   ]
  },
  {
   "cell_type": "code",
   "execution_count": 2,
   "id": "a10edd60",
   "metadata": {},
   "outputs": [
    {
     "name": "stdout",
     "output_type": "stream",
     "text": [
      "1\n",
      "2\n",
      "3\n"
     ]
    }
   ],
   "source": [
    "i = 1\n",
    "\n",
    "while i < 6:\n",
    "  print(i)\n",
    "  if i == 3:\n",
    "    break\n",
    "  i += 1"
   ]
  },
  {
   "cell_type": "markdown",
   "id": "86e130c5",
   "metadata": {},
   "source": [
    "- 使用 continue 语句，可以停止当前迭代，并继续下一个。"
   ]
  },
  {
   "cell_type": "code",
   "execution_count": 4,
   "id": "4e97c398",
   "metadata": {},
   "outputs": [
    {
     "name": "stdout",
     "output_type": "stream",
     "text": [
      "1\n",
      "2\n",
      "4\n",
      "5\n",
      "6\n"
     ]
    }
   ],
   "source": [
    "i = 0\n",
    "\n",
    "while i < 6:\n",
    "  i += 1\n",
    "  if i == 3:\n",
    "    continue\n",
    "  print(i)"
   ]
  },
  {
   "cell_type": "markdown",
   "id": "dd8b36cc",
   "metadata": {},
   "source": [
    "- 使用 else 语句，可以在条件不再为真时运行另一个代码块。"
   ]
  },
  {
   "cell_type": "code",
   "execution_count": 5,
   "id": "b23adc18",
   "metadata": {},
   "outputs": [
    {
     "name": "stdout",
     "output_type": "stream",
     "text": [
      "1\n",
      "2\n",
      "3\n",
      "4\n",
      "5\n",
      "i is no longer less than 6\n"
     ]
    }
   ],
   "source": [
    "i = 1\n",
    "\n",
    "while i < 6:\n",
    "  print(i)\n",
    "  i += 1\n",
    "else:\n",
    "  print(\"i is no longer less than 6\")"
   ]
  },
  {
   "cell_type": "code",
   "execution_count": null,
   "id": "90114c2e",
   "metadata": {},
   "outputs": [],
   "source": []
  }
 ],
 "metadata": {
  "kernelspec": {
   "display_name": "Python 3 (ipykernel)",
   "language": "python",
   "name": "python3"
  },
  "language_info": {
   "codemirror_mode": {
    "name": "ipython",
    "version": 3
   },
   "file_extension": ".py",
   "mimetype": "text/x-python",
   "name": "python",
   "nbconvert_exporter": "python",
   "pygments_lexer": "ipython3",
   "version": "3.10.10"
  }
 },
 "nbformat": 4,
 "nbformat_minor": 5
}
