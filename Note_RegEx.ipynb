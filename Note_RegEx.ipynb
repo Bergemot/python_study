{
 "cells": [
  {
   "cell_type": "markdown",
   "id": "4c0b2fea",
   "metadata": {},
   "source": [
    "### 正则表达式（Regular Expression 或 RegEx）用于搜索 字符串（String） 中特定的 模式（Pattern）。"
   ]
  },
  {
   "cell_type": "markdown",
   "id": "59be67f0",
   "metadata": {},
   "source": [
    "## 元字符\n",
    "---\n",
    "- `[]` 代表一组字符。\n",
    "- 例：\n",
    "    \n",
    "    `[a-m]` 表示字母 a-m 中的任何一个字符。\n",
    "    \n",
    "    `[^arn]` 表示除 a、r 和 n 之外的任何字符。\n",
    "    \n",
    "    `[0-5][0-9]` 表示从 00 到 59 的任意两位数字。\n",
    "---\n",
    "- `.` 代表任何字符（换行符除外）。\n",
    "---\n",
    "- `^` 代表以...起始。\n",
    "- 例如：`^hello` 代表以 `hello` 起始。\n",
    "---\n",
    "- `$` 代表以...结尾 。\n",
    "- 例：\n",
    "    \n",
    "    `planet$` 代表以 `planet` 结尾 。\n",
    "---\n",
    "- `*` 代表出现 0 次或 多次。\n",
    "- 例：\n",
    "    \n",
    "    `he.*o` 代表 `he` 后面跟任何字符（`.`）0 次或 多次（`*`）最后跟字母 `o`。\n",
    "    \n",
    "    `[ACTGactg]*` 代表一条 DNA 序列。\n",
    "---\n",
    "- `+` 代表出现 1 次 或 多次。\n",
    "- 例：\n",
    "    \n",
    "    `he.+o` 代表  `he` 后面跟任何字符（`.`）1 次 或 多次（`+`）最后跟字母 `o`。\n",
    "---\n",
    "- `?` 代表出现 0 次 或 1 次。\n",
    "- 例：\n",
    "    \n",
    "    `he.?o` 代表  `he` 后面跟任何字符（`.`）出现 0 次 或 1 次（`?`）最后跟字母 `o`。\n",
    "---\n",
    "- `{n}` ：代表出现指定的次数。\n",
    "- 例：\n",
    "    \n",
    "    `he.{2}o` 代表  `he` 后面跟任何字符（`.`）出现 2 次（`{2}`）最后跟字母 `o`。\n",
    "---\n",
    "- `{m,n}` 表示在 m 次 和 n 次之间重复，其中 m 和 n 是整数，且 n>= m。\n",
    "- 例：\n",
    "    \n",
    "    `[ACDEFGHIKLMNPQRSTVWY]{100,200}` ****表示长度为 `100` 到 `200` 个氨基酸序列。\n",
    "---\n",
    "- `|`  表示 “或”。\n",
    "- 例：\n",
    "    \n",
    "    `falls|stays` 表示 `falls` 或 `stays`。\n",
    "---\n",
    "- `()` 表示捕获符合某个模式的字符串。\n",
    "- 例：\n",
    "    \n",
    "    `(S.*n)`  捕获以大写字母 `S` 开始，后面跟任何字符（`.`）出现 0 次 或 多次（`*`）并以 小写字母 `n` 结尾的字符串。"
   ]
  },
  {
   "cell_type": "markdown",
   "id": "139d3474",
   "metadata": {},
   "source": [
    "## 转义操作符\n",
    "---\n",
    "- `\\A` 表示出现在字符串开头的字符。\n",
    "- 例：\n",
    "    \n",
    "    `\\AThe` 表示字符串以 `The` 开头。\n",
    "---\n",
    "- `\\b` 表示出现在单词开头或结尾的字符。\n",
    "- 例：\n",
    "    \n",
    "    `\\bain` 表示出现在单词开头的字符为 `ain`。\n",
    "    \n",
    "    `ain\\b` 表示出现在单词结尾的字符为 `ain`。\n",
    "---\n",
    "- `\\B` 表示指定的字符不出现在单词的开头或结尾。\n",
    "- 例：\n",
    "    \n",
    "    `\\Bain` 表示指定的字符“`ain`”不出现在单词的开头。\n",
    "---\n",
    "- \\d 代表数字 0 到 9。\n",
    "---\n",
    "- \\D 表示不包含数字。\n",
    "---\n",
    "- \\s 代表空格。\n",
    "---\n",
    "- \\w 代表从 a 到 Z、从 0-9 和 下划线 _ 在内的任何字符。\n",
    "---\n",
    "- \\W 代表不包含从 a 到 Z、从 0-9 和 下划线 _ 在内的任何字符。\n",
    "---\n",
    "- `\\Z` 代表出现在字符串末尾的字符。\n",
    "- 例：\n",
    "    \n",
    "    `Spain\\Z` 表示字符串以 `Spain` 结尾 。"
   ]
  },
  {
   "cell_type": "markdown",
   "id": "5c3f1222",
   "metadata": {},
   "source": [
    "## 正则表达式模块（re）"
   ]
  },
  {
   "cell_type": "markdown",
   "id": "07befcba",
   "metadata": {},
   "source": [
    "- Python 内置包 `re` 用于处理正则表达式。\n",
    "- 导入 `re` 模块：\n",
    "    \n",
    "    ```python\n",
    "    import re\n",
    "    ```\n",
    "    \n",
    "- `re` 模块提供多种 正则表达式方法。"
   ]
  },
  {
   "cell_type": "markdown",
   "id": "9b9bd464",
   "metadata": {},
   "source": [
    "- re.search() 搜索字符串中第一个出现的正则表达式模式。"
   ]
  },
  {
   "cell_type": "code",
   "execution_count": 1,
   "id": "20752676",
   "metadata": {},
   "outputs": [
    {
     "name": "stdout",
     "output_type": "stream",
     "text": [
      "Match found: Python 3\n"
     ]
    }
   ],
   "source": [
    "import re\n",
    "\n",
    "pattern = r\"Python \\d\"\n",
    "string = \"Now, I use Python 3, but I once used Python 2.\"\n",
    "\n",
    "obj = re.search(pattern, string)\n",
    "\n",
    "if obj:\n",
    "    print(\"Match found:\", obj.group())\n",
    "else:\n",
    "    print(\"No match found.\")"
   ]
  },
  {
   "cell_type": "markdown",
   "id": "886506ef",
   "metadata": {},
   "source": [
    "- 本例中，正则表达式的模式是 `Python \\d`，它匹配 字符串 Python 后面跟一个空格 和 一个数字（`\\d`）。\n",
    "- 正则表达式前的字母 “`r`” 表示“原始字符串（raw string）”。 原始字符串完全按其出现的方式使用。\n",
    "- `re.search()` 方法搜索字符串中模式的第一次出现。如果找到匹配项，则 result 变量将包含一个 `obj` 对象；如果未找到匹配项，则包含 None 。\n",
    "- 如果找到匹配项，使用 `obj` 对象的 `group()` 方法获取匹配的子字符串，然后将其打印出来。"
   ]
  },
  {
   "cell_type": "markdown",
   "id": "b558164c",
   "metadata": {},
   "source": [
    "- re.match() 查找指定模式是否出现在给定字符串的开头。"
   ]
  },
  {
   "cell_type": "code",
   "execution_count": 2,
   "id": "1ed7da51",
   "metadata": {},
   "outputs": [
    {
     "name": "stdout",
     "output_type": "stream",
     "text": [
      "<re.Match object; span=(0, 3), match='You'>\n"
     ]
    }
   ],
   "source": [
    "import re\n",
    "\n",
    "pattern = \"You\"\n",
    "string = \"You are welcome.\"\n",
    "obj = re.match(\"You\", string)\n",
    "print(obj)"
   ]
  },
  {
   "cell_type": "markdown",
   "id": "2ecee3eb",
   "metadata": {},
   "source": [
    "- 如果只想输出 span 和 match 信息："
   ]
  },
  {
   "cell_type": "code",
   "execution_count": 3,
   "id": "f9e7ad8b",
   "metadata": {},
   "outputs": [
    {
     "name": "stdout",
     "output_type": "stream",
     "text": [
      "Match found: You\n",
      "Span: (0, 3)\n"
     ]
    }
   ],
   "source": [
    "import re\n",
    "\n",
    "pattern = \"You\"\n",
    "string = \"You are welcome.\"\n",
    "obj = re.match(\"You\", string)\n",
    "\n",
    "if obj:\n",
    "    print(\"Match found:\", obj.group())\n",
    "    print(\"Span:\", obj.span())\n",
    "else:\n",
    "    print(\"No match found.\")"
   ]
  },
  {
   "cell_type": "markdown",
   "id": "95681f40",
   "metadata": {},
   "source": [
    "- findall() 函数返回一个包含所有匹配项的列表。"
   ]
  },
  {
   "cell_type": "code",
   "execution_count": 4,
   "id": "b71afe7f",
   "metadata": {},
   "outputs": [
    {
     "name": "stdout",
     "output_type": "stream",
     "text": [
      "['book', 'book']\n"
     ]
    }
   ],
   "source": [
    "import re\n",
    "\n",
    "# Return a list containing every occurrence of \"ai\":\n",
    "string = \"books in bookstore\"\n",
    "pattern = \"book\"\n",
    "result_list = re.findall(pattern, string)\n",
    "print(result_list)"
   ]
  },
  {
   "cell_type": "code",
   "execution_count": 5,
   "id": "9ffed726",
   "metadata": {},
   "outputs": [
    {
     "name": "stdout",
     "output_type": "stream",
     "text": [
      "2\n"
     ]
    }
   ],
   "source": [
    "# 统计出现的次数：\n",
    "print(len(result_list))"
   ]
  },
  {
   "cell_type": "code",
   "execution_count": 7,
   "id": "f7050676",
   "metadata": {},
   "outputs": [
    {
     "name": "stdout",
     "output_type": "stream",
     "text": [
      "[]\n",
      "No match\n"
     ]
    }
   ],
   "source": [
    "# 如果没有找到匹配项，则返回一个空列表。\n",
    "import re\n",
    "\n",
    "string = \"cars in parking lot\"\n",
    "pattern = \"book\"\n",
    "result_list = re.findall(pattern, string)\n",
    "print(result_list)\n",
    "\n",
    "if result_list:\n",
    "  print(\"Yes, there is at least one match!\")\n",
    "else:\n",
    "  print(\"No match\")"
   ]
  },
  {
   "cell_type": "markdown",
   "id": "94b243aa",
   "metadata": {},
   "source": [
    "- `re.finditer()` 函数返回目标字符串中所有匹配项的迭代器对象。\n",
    "\n",
    "- 例：查找 DNA 序列中的酶切位点。"
   ]
  },
  {
   "cell_type": "code",
   "execution_count": 8,
   "id": "30c6df6d",
   "metadata": {},
   "outputs": [
    {
     "name": "stdout",
     "output_type": "stream",
     "text": [
      "<callable_iterator object at 0x0000021F33892020>\n"
     ]
    }
   ],
   "source": [
    "import re\n",
    "\n",
    "cutting_site = \"GAATTC\"\n",
    "dna = \"ATGCTGAATTCTAGAATTCTTT\"\n",
    "cutting_site_obj = re.finditer(cutting_site, dna)\n",
    "\n",
    "print(cutting_site_obj)"
   ]
  },
  {
   "cell_type": "code",
   "execution_count": 9,
   "id": "ed0bba66",
   "metadata": {},
   "outputs": [
    {
     "name": "stdout",
     "output_type": "stream",
     "text": [
      "<re.Match object; span=(5, 11), match='GAATTC'>\n",
      "<re.Match object; span=(13, 19), match='GAATTC'>\n"
     ]
    }
   ],
   "source": [
    "import re\n",
    "\n",
    "cutting_site = \"GAATTC\"\n",
    "dna = \"ATGCTGAATTCTAGAATTCTTT\"\n",
    "cutting_site_obj = re.finditer(cutting_site, dna)\n",
    "\n",
    "for match in cutting_site_obj:\n",
    "    print(match)"
   ]
  },
  {
   "cell_type": "code",
   "execution_count": 10,
   "id": "54cc3d50",
   "metadata": {},
   "outputs": [
    {
     "name": "stdout",
     "output_type": "stream",
     "text": [
      "Cutting site found at position 5 - 11\n",
      "Cutting site found at position 13 - 19\n"
     ]
    }
   ],
   "source": [
    "import re\n",
    "\n",
    "cutting_site = \"GAATTC\"\n",
    "dna = \"ATGCTGAATTCTAGAATTCTTT\"\n",
    "cutting_site_obj = re.finditer(cutting_site, dna)\n",
    "\n",
    "for match in cutting_site_obj:\n",
    "    print(\"Cutting site found at position\", match.start(), \"-\", match.end())"
   ]
  },
  {
   "cell_type": "markdown",
   "id": "91d30c51",
   "metadata": {},
   "source": [
    "- `re.split()` 方法按指定字符或表达式分割字符串，返回一个列表，其中字符串在每次匹配时都被拆分。\n",
    "- 例：在每个空白字符处拆分。"
   ]
  },
  {
   "cell_type": "code",
   "execution_count": 11,
   "id": "d0fdfaf0",
   "metadata": {},
   "outputs": [
    {
     "name": "stdout",
     "output_type": "stream",
     "text": [
      "['The', 'rain', 'in', 'Spain']\n"
     ]
    }
   ],
   "source": [
    "import re\n",
    "\n",
    "txt = \"The rain in Spain\"\n",
    "x = re.split(\"\\s\", txt)\n",
    "print(x)"
   ]
  },
  {
   "cell_type": "markdown",
   "id": "3c050adb",
   "metadata": {},
   "source": [
    "- 可以通过指定 `maxsplit` 参数来控制出现次数。\n",
    "    \n",
    "    例：仅在第一次出现时拆分字符串。"
   ]
  },
  {
   "cell_type": "code",
   "execution_count": 12,
   "id": "24be9e6f",
   "metadata": {},
   "outputs": [
    {
     "name": "stdout",
     "output_type": "stream",
     "text": [
      "['The', 'rain in Spain']\n"
     ]
    }
   ],
   "source": [
    "import re\n",
    "\n",
    "#Split the string at the first white-space character:\n",
    "\n",
    "txt = \"The rain in Spain\"\n",
    "x = re.split(\"\\s\", txt, 1)\n",
    "print(x)"
   ]
  },
  {
   "cell_type": "markdown",
   "id": "ff912f94",
   "metadata": {},
   "source": [
    "- `sub()` 方法用正则表达式替换匹配项。\n",
    "    - `sub` 是 `substitute`（取代）的简写。"
   ]
  },
  {
   "cell_type": "code",
   "execution_count": 13,
   "id": "a9b4f523",
   "metadata": {},
   "outputs": [
    {
     "name": "stdout",
     "output_type": "stream",
     "text": [
      "The quick brown cat jumps over the lazy dog\n"
     ]
    }
   ],
   "source": [
    "import re\n",
    "\n",
    "text = \"The quick brown fox jumps over the lazy dog\"\n",
    "pattern = r\"fox\"\n",
    "replacement = \"cat\"\n",
    "new_text = re.sub(pattern, replacement, text)\n",
    "\n",
    "print(new_text)"
   ]
  },
  {
   "cell_type": "markdown",
   "id": "a14e0469",
   "metadata": {},
   "source": [
    "- 通过指定 `count` 参数控制替换次数。\n",
    "- 例：替换前 2 次出现。"
   ]
  },
  {
   "cell_type": "code",
   "execution_count": 15,
   "id": "938af13f",
   "metadata": {},
   "outputs": [
    {
     "name": "stdout",
     "output_type": "stream",
     "text": [
      "The9rain9in Spain\n"
     ]
    }
   ],
   "source": [
    "import re\n",
    "\n",
    "#Replace the first two occurrences of a white-space character with the digit 9:\n",
    "\n",
    "txt = \"The rain in Spain\"\n",
    "x = re.sub(\"\\s\", \"9\", txt, 2)\n",
    "print(x)"
   ]
  },
  {
   "cell_type": "code",
   "execution_count": null,
   "id": "4d923c4a",
   "metadata": {},
   "outputs": [],
   "source": []
  }
 ],
 "metadata": {
  "kernelspec": {
   "display_name": "Python 3 (ipykernel)",
   "language": "python",
   "name": "python3"
  },
  "language_info": {
   "codemirror_mode": {
    "name": "ipython",
    "version": 3
   },
   "file_extension": ".py",
   "mimetype": "text/x-python",
   "name": "python",
   "nbconvert_exporter": "python",
   "pygments_lexer": "ipython3",
   "version": "3.10.11"
  }
 },
 "nbformat": 4,
 "nbformat_minor": 5
}
