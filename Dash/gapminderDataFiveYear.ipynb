{
 "cells": [
  {
   "cell_type": "code",
   "execution_count": 1,
   "id": "70702bed",
   "metadata": {},
   "outputs": [
    {
     "name": "stdout",
     "output_type": "stream",
     "text": [
      "Dash is running on http://127.0.0.1:8050/\n",
      "\n",
      " * Serving Flask app '__main__'\n",
      " * Debug mode: on\n"
     ]
    },
    {
     "ename": "SystemExit",
     "evalue": "1",
     "output_type": "error",
     "traceback": [
      "An exception has occurred, use %tb to see the full traceback.\n",
      "\u001b[1;31mSystemExit\u001b[0m\u001b[1;31m:\u001b[0m 1\n"
     ]
    },
    {
     "name": "stderr",
     "output_type": "stream",
     "text": [
      "C:\\Users\\Administrator\\anaconda3\\lib\\site-packages\\IPython\\core\\interactiveshell.py:3561: UserWarning: To exit: use 'exit', 'quit', or Ctrl-D.\n",
      "  warn(\"To exit: use 'exit', 'quit', or Ctrl-D.\", stacklevel=1)\n"
     ]
    }
   ],
   "source": [
    "from dash import Dash, dcc, html, Input, Output\n",
    "import plotly.express as px\n",
    "from threading import Timer\n",
    "import webbrowser\n",
    "import os\n",
    "\n",
    "import pandas as pd\n",
    "\n",
    "df = pd.read_csv('gapminderDataFiveYear.csv')\n",
    "\n",
    "app = Dash(__name__)\n",
    "\n",
    "app.layout = html.Div([\n",
    "    dcc.Graph(id='graph-with-slider'),\n",
    "    dcc.Slider(\n",
    "        df['year'].min(),\n",
    "        df['year'].max(),\n",
    "        step=None,\n",
    "        value=df['year'].min(),\n",
    "        marks={str(year): str(year) for year in df['year'].unique()},\n",
    "        id='year-slider'\n",
    "    )\n",
    "])\n",
    "\n",
    "\n",
    "@app.callback(\n",
    "    Output('graph-with-slider', 'figure'),\n",
    "    Input('year-slider', 'value'))\n",
    "def update_figure(selected_year):\n",
    "    filtered_df = df[df.year == selected_year]\n",
    "\n",
    "    fig = px.scatter(filtered_df, x=\"gdpPercap\", y=\"lifeExp\",\n",
    "                     size=\"pop\", color=\"continent\", hover_name=\"country\",\n",
    "                     log_x=True, size_max=55)\n",
    "\n",
    "    fig.update_layout(transition_duration=500)\n",
    "\n",
    "    return fig\n",
    "\n",
    "\n",
    "def open_browser():\n",
    "    if not os.environ.get(\"WERKZEUG_RUN_MAIN\"):\n",
    "        webbrowser.open_new('http://127.0.0.1:8050/')\n",
    "\n",
    "if __name__ == '__main__':\n",
    "    Timer(1, open_browser).start()\n",
    "    app.run_server(debug=True)"
   ]
  },
  {
   "cell_type": "code",
   "execution_count": null,
   "id": "cabfc483",
   "metadata": {},
   "outputs": [],
   "source": []
  }
 ],
 "metadata": {
  "kernelspec": {
   "display_name": "Python 3",
   "language": "python",
   "name": "python3"
  },
  "language_info": {
   "codemirror_mode": {
    "name": "ipython",
    "version": 3
   },
   "file_extension": ".py",
   "mimetype": "text/x-python",
   "name": "python",
   "nbconvert_exporter": "python",
   "pygments_lexer": "ipython3",
   "version": "3.9.16"
  }
 },
 "nbformat": 4,
 "nbformat_minor": 5
}
