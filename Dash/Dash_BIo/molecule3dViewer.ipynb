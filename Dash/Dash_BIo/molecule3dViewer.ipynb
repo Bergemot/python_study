{
 "cells": [
  {
   "cell_type": "code",
   "execution_count": null,
   "id": "9ac50c4f",
   "metadata": {},
   "outputs": [],
   "source": [
    "import dash\n",
    "import dash_bio as dashbio\n",
    "from dash import html\n",
    "from dash_bio.utils import PdbParser, create_mol3d_style\n",
    "from dash.dependencies import Input, Output\n",
    "\n",
    "app = dash.Dash(__name__)\n",
    "\n",
    "#parser = PdbParser('https://git.io/4K8X.pdb')\n",
    "parser = PdbParser('6vxx.pdb')\n",
    "\n",
    "data = parser.mol3d_data()\n",
    "styles = create_mol3d_style(\n",
    "    data['atoms'], visualization_type='cartoon', color_element='residue'\n",
    ")\n",
    "\n",
    "app.layout = html.Div([\n",
    "    dashbio.Molecule3dViewer(\n",
    "        id='dashbio-default-molecule3d',\n",
    "        modelData=data,\n",
    "        styles=styles\n",
    "    ),\n",
    "    \"Selection data\",\n",
    "    html.Hr(),\n",
    "    html.Div(id='default-molecule3d-output')\n",
    "])\n",
    "\n",
    "@app.callback(\n",
    "    Output('default-molecule3d-output', 'children'),\n",
    "    Input('dashbio-default-molecule3d', 'selectedAtomIds')\n",
    ")\n",
    "def show_selected_atoms(atom_ids):\n",
    "    if atom_ids is None or len(atom_ids) == 0:\n",
    "        return 'No atom has been selected. Click somewhere on the molecular \\\n",
    "        structure to select an atom.'\n",
    "    return [html.Div([\n",
    "        html.Div('Element: {}'.format(data['atoms'][atm]['elem'])),\n",
    "        html.Div('Chain: {}'.format(data['atoms'][atm]['chain'])),\n",
    "        html.Div('Residue name: {}'.format(data['atoms'][atm]['residue_name'])),\n",
    "        html.Br()\n",
    "    ]) for atm in atom_ids]\n",
    "\n",
    "if __name__ == '__main__':\n",
    "    app.run_server(debug=True)"
   ]
  },
  {
   "cell_type": "code",
   "execution_count": null,
   "id": "f8c09cbf",
   "metadata": {},
   "outputs": [],
   "source": []
  }
 ],
 "metadata": {
  "kernelspec": {
   "display_name": "Python 3",
   "language": "python",
   "name": "python3"
  },
  "language_info": {
   "codemirror_mode": {
    "name": "ipython",
    "version": 3
   },
   "file_extension": ".py",
   "mimetype": "text/x-python",
   "name": "python",
   "nbconvert_exporter": "python",
   "pygments_lexer": "ipython3",
   "version": "3.9.16"
  }
 },
 "nbformat": 4,
 "nbformat_minor": 5
}
