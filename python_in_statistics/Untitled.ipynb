{
 "cells": [
  {
   "cell_type": "code",
   "execution_count": null,
   "id": "0ddc6cf5",
   "metadata": {},
   "outputs": [],
   "source": [
    "import numpy as np\n",
    "import matplotlib.pyplot as plt\n",
    "\n",
    "def targetdist(x):\n",
    "    probX = np.exp(-x**2/2) * (2 + np.sin(x*5) + np.sin(x*2))\n",
    "    return probX\n",
    "\n",
    "def proposal_dist(x, sigma):\n",
    "    return np.random.normal(x, sigma)\n",
    "\n",
    "def acceptance_ratio(x, x_prime, sigma):\n",
    "    numerator = targetdist(x_prime) * proposal_dist(x, sigma)\n",
    "    denominator = targetdist(x) * proposal_dist(x_prime, sigma)\n",
    "    ratio = numerator / denominator\n",
    "    return min(1, ratio)\n",
    "\n",
    "def metropolis_hastings_sampling(n_samples, sigma):\n",
    "    samples = []\n",
    "    x = 0\n",
    "\n",
    "    for _ in range(n_samples):\n",
    "        x_prime = proposal_dist(x, sigma)\n",
    "        alpha = acceptance_ratio(x, x_prime, sigma)\n",
    "\n",
    "        if np.random.uniform() < alpha:\n",
    "            x = x_prime\n",
    "\n",
    "        samples.append(x)\n",
    "\n",
    "    return samples\n",
    "\n",
    "# 设置参数\n",
    "n_samples = 10000\n",
    "sigma = 0.5\n",
    "\n",
    "# 进行抽样\n",
    "samples = metropolis_hastings_sampling(n_samples, sigma)\n",
    "\n",
    "# 绘制抽样结果的直方图\n",
    "plt.hist(samples, bins=50, density=True, alpha=0.5, label='Samples')\n",
    "\n",
    "# 绘制目标分布曲线\n",
    "x = np.arange(-3, 3, 0.01)\n",
    "plt.plot(x, targetdist(x), 'r', label='Target Distribution')\n",
    "\n",
    "plt.xlabel('x')\n",
    "plt.ylabel('Probability Density')\n",
    "plt.legend()\n",
    "plt.show()"
   ]
  },
  {
   "cell_type": "code",
   "execution_count": 4,
   "id": "20990f99",
   "metadata": {},
   "outputs": [
    {
     "data": {
      "text/plain": [
       "0.2266223523647679"
      ]
     },
     "execution_count": 4,
     "metadata": {},
     "output_type": "execute_result"
    }
   ],
   "source": [
    "import numpy as np\n",
    "np.random.uniform()"
   ]
  },
  {
   "cell_type": "code",
   "execution_count": null,
   "id": "34484e13",
   "metadata": {},
   "outputs": [],
   "source": []
  }
 ],
 "metadata": {
  "kernelspec": {
   "display_name": "Python 3 (ipykernel)",
   "language": "python",
   "name": "python3"
  },
  "language_info": {
   "codemirror_mode": {
    "name": "ipython",
    "version": 3
   },
   "file_extension": ".py",
   "mimetype": "text/x-python",
   "name": "python",
   "nbconvert_exporter": "python",
   "pygments_lexer": "ipython3",
   "version": "3.10.11"
  }
 },
 "nbformat": 4,
 "nbformat_minor": 5
}
