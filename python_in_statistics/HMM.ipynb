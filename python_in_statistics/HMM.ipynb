{
 "cells": [
  {
   "cell_type": "markdown",
   "id": "2beaa567",
   "metadata": {},
   "source": [
    "# HMM"
   ]
  },
  {
   "cell_type": "code",
   "execution_count": 1,
   "id": "3f30d559",
   "metadata": {},
   "outputs": [
    {
     "name": "stdout",
     "output_type": "stream",
     "text": [
      "states: ['R' 'S']\n",
      "observations: ['G' 'H']\n",
      "\n",
      "States transition probability matrix:\n",
      "           G         H\n",
      "R  0.600000  0.400000\n",
      "S  0.222222  0.777778\n",
      "\n",
      "Emission probability matrix:\n",
      "      G    H\n",
      "R  0.6  0.4\n",
      "S  0.2  0.8\n"
     ]
    }
   ],
   "source": [
    "import mchmm as mc\n",
    "import pandas as pd\n",
    "\n",
    "obs_seq = 'GHHHGGHGHHHGHHH'\n",
    "sts_seq = 'SSSSRRRSSSSRRSS'\n",
    "\n",
    "hmm_model = mc.HiddenMarkovModel().from_seq(obs_seq, sts_seq)\n",
    "\n",
    "# states and observations\n",
    "print(\"states:\",hmm_model.states)\n",
    "print(\"observations:\",hmm_model.observations)\n",
    "\n",
    "tp_df = pd.DataFrame(hmm_model.tp, index=hmm_model.states, columns=hmm_model.observations)\n",
    "print(\"\\nStates transition probability matrix:\\n\",tp_df )\n",
    "\n",
    "ep_df = pd.DataFrame(hmm_model.ep, index=hmm_model.states, columns=hmm_model.observations)\n",
    "print(\"\\nEmission probability matrix:\\n\",ep_df)"
   ]
  },
  {
   "cell_type": "markdown",
   "id": "df20ba19",
   "metadata": {},
   "source": [
    "# Viterbi 算法"
   ]
  },
  {
   "cell_type": "code",
   "execution_count": 2,
   "id": "7b7b1a47",
   "metadata": {},
   "outputs": [
    {
     "data": {
      "text/plain": [
       "['S', 'S', 'S', 'R', 'R', 'S']"
      ]
     },
     "execution_count": 2,
     "metadata": {},
     "output_type": "execute_result"
    }
   ],
   "source": [
    "# Transition Probabilities\n",
    "p_ss = 0.777778\n",
    "p_sr = 0.222222\n",
    "p_rs = 0.4\n",
    "p_rr = 0.6\n",
    "\n",
    "# Initial Probabilities\n",
    "p_s = 2/3\n",
    "p_r = 1/3\n",
    "\n",
    "# Emission Probabilities\n",
    "p_sh = 0.8\n",
    "p_sg = 0.2\n",
    "p_rh = 0.4\n",
    "p_rg = 0.6\n",
    "\n",
    "moods = ['H', 'H', 'G', 'G', 'G', 'H']\n",
    "probabilities = []\n",
    "weather = []\n",
    "\n",
    "if moods[0] == 'H':\n",
    "    probabilities.append((p_s*p_sh, p_r*p_rh))\n",
    "else:\n",
    "    probabilities.append((p_s*p_sg, p_r*p_rg))\n",
    "\n",
    "for i in range(1,len(moods)):\n",
    "    yesterday_sunny, yesterday_rainy = probabilities[-1]\n",
    "    if moods[i] == 'H':\n",
    "        today_sunny = max(yesterday_sunny*p_ss*p_sh, yesterday_rainy*p_rs*p_sh)\n",
    "        today_rainy = max(yesterday_sunny*p_sr*p_rh, yesterday_rainy*p_rr*p_rh)\n",
    "        probabilities.append((today_sunny, today_rainy))\n",
    "    else:\n",
    "        today_sunny = max(yesterday_sunny*p_ss*p_sg, yesterday_rainy*p_rs*p_sg)\n",
    "        today_rainy = max(yesterday_sunny*p_sr*p_rg, yesterday_rainy*p_rr*p_rg)\n",
    "        probabilities.append((today_sunny, today_rainy))\n",
    "\n",
    "for p in probabilities:\n",
    "    if p[0] > p[1]:\n",
    "        weather.append('S')\n",
    "    else:\n",
    "        weather.append('R')\n",
    "        \n",
    "weather"
   ]
  },
  {
   "cell_type": "code",
   "execution_count": null,
   "id": "43e755bb",
   "metadata": {},
   "outputs": [],
   "source": []
  }
 ],
 "metadata": {
  "kernelspec": {
   "display_name": "Python 3",
   "language": "python",
   "name": "python3"
  },
  "language_info": {
   "codemirror_mode": {
    "name": "ipython",
    "version": 3
   },
   "file_extension": ".py",
   "mimetype": "text/x-python",
   "name": "python",
   "nbconvert_exporter": "python",
   "pygments_lexer": "ipython3",
   "version": "3.9.16"
  }
 },
 "nbformat": 4,
 "nbformat_minor": 5
}
