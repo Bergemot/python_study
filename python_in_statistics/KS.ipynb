{
 "cells": [
  {
   "cell_type": "code",
   "execution_count": 5,
   "id": "7f004806",
   "metadata": {},
   "outputs": [
    {
     "name": "stdout",
     "output_type": "stream",
     "text": [
      "序列1氨基酸百分比组成: [6.2857, 5.4286, 5.5714, 4.7143, 4.8571, 5.0, 5.1429, 5.2857, 5.7143, 4.8571, 5.0, 5.2857, 4.5714, 5.4286, 4.1429, 4.0, 4.5714, 4.8571, 4.4286, 4.8571]\n",
      "序列2氨基酸百分比组成:: [4.5714, 5.2857, 4.5714, 5.4286, 4.5714, 4.8571, 6.1429, 6.2857, 4.7143, 4.2857, 5.7143, 4.5714, 4.7143, 4.8571, 3.5714, 3.7143, 5.7143, 4.5714, 6.2857, 5.5714]\n",
      "K-S统计量: 0.2\n",
      "P值: 0.8319696107963263\n"
     ]
    },
    {
     "data": {
      "image/png": "[encoded data removed]",
      "text/plain": [
       "<Figure size 720x432 with 1 Axes>"
      ]
     },
     "metadata": {
      "needs_background": "light"
     },
     "output_type": "display_data"
    }
   ],
   "source": [
    "import random\n",
    "from scipy import stats\n",
    "import seaborn as sns\n",
    "import matplotlib.pyplot as plt\n",
    "\n",
    "# 定义氨基酸字母表和其对应的百分比组成\n",
    "amino_acids = ['A', 'C', 'D', 'E', 'F', 'G', 'H', 'I', 'K', 'L', 'M', 'N', 'P', 'Q', 'R', 'S', 'T', 'V', 'W', 'Y']\n",
    "amino_acid_percentages = [8.1, 5.6, 5.4, 6.0, 7.6, 2.4, 4.3, 5.2, 2.2, 2.3, 6.5, 4.7, 5.9, 3.9, 5.0, 6.7, 5.6, 1.6, 3.0, 5.2]\n",
    "\n",
    "# 生成随机的氨基酸序列\n",
    "def generate_random_sequence(length):\n",
    "    sequence = ''.join(random.choices(amino_acids, k=length))\n",
    "    return sequence\n",
    "\n",
    "# 生成两条氨基酸序列\n",
    "sequence1 = generate_random_sequence(700)\n",
    "sequence2 = generate_random_sequence(700)\n",
    "\n",
    "# 计算氨基酸百分比组成\n",
    "sequence1_percentages = [round(sequence1.count(aa) / len(sequence1) * 100, 4) for aa in amino_acids]\n",
    "sequence2_percentages = [round(sequence2.count(aa) / len(sequence2) * 100, 4) for aa in amino_acids]\n",
    "\n",
    "# 执行K-S检验\n",
    "ks_statistic, p_value = stats.ks_2samp(sequence1_percentages, sequence2_percentages)\n",
    "\n",
    "# 输出结果\n",
    "print(\"序列1氨基酸百分比组成:\", sequence1_percentages)\n",
    "print(\"序列2氨基酸百分比组成::\", sequence2_percentages)\n",
    "print(\"K-S统计量:\", ks_statistic)\n",
    "print(\"P值:\", p_value)\n",
    "\n",
    "# 创建DataFrame存储氨基酸和百分比数据\n",
    "data = {'Amino Acid': amino_acids, 'Sequence 1': sequence1_percentages, 'Sequence 2': sequence2_percentages}\n",
    "df = pd.DataFrame(data)\n",
    "\n",
    "# 设置图的大小\n",
    "plt.figure(figsize=(10, 6))\n",
    "\n",
    "# 使用Seaborn绘制柱状图\n",
    "df = pd.melt(df, id_vars='Amino Acid', var_name='Sequence', value_name='Percentage')\n",
    "sns.barplot(x='Amino Acid', y='Percentage', hue='Sequence', data=df)\n",
    "\n",
    "# 设置图表标题和坐标轴标签\n",
    "plt.title(\"Amino Acid Composition\")\n",
    "plt.xlabel(\"Amino Acids\")\n",
    "plt.ylabel(\"Percentage\")\n",
    "\n",
    "# 显示图表\n",
    "plt.show()\n"
   ]
  },
  {
   "cell_type": "code",
   "execution_count": null,
   "id": "37b352f4",
   "metadata": {},
   "outputs": [],
   "source": []
  }
 ],
 "metadata": {
  "kernelspec": {
   "display_name": "Python 3",
   "language": "python",
   "name": "python3"
  },
  "language_info": {
   "codemirror_mode": {
    "name": "ipython",
    "version": 3
   },
   "file_extension": ".py",
   "mimetype": "text/x-python",
   "name": "python",
   "nbconvert_exporter": "python",
   "pygments_lexer": "ipython3",
   "version": "3.9.16"
  }
 },
 "nbformat": 4,
 "nbformat_minor": 5
}
