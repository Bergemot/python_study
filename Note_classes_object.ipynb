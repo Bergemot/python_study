{
 "cells": [
  {
   "cell_type": "markdown",
   "id": "1656d298",
   "metadata": {},
   "source": [
    "# 类（Class）和 对象（Object）"
   ]
  },
  {
   "cell_type": "markdown",
   "id": "373b1423",
   "metadata": {},
   "source": [
    "- Python 中，**类（Class）**可以被看作是一种 **自定义数据类型**。类提供了一种组织和封装相关 **数据（Data）** 和 **行为（Action）** 的方式。\n",
    "    - **数据（Data）**被保存在 **变量（Variable）** 中，又被称为类的 **属性（Properties）**。\n",
    "    - **行为（Action）**被定义在 **函数（Function）** 中，又被称为类的 **方法（Methods）**。"
   ]
  },
  {
   "cell_type": "markdown",
   "id": "19f724c5",
   "metadata": {},
   "source": [
    "## 定义类"
   ]
  },
  {
   "cell_type": "code",
   "execution_count": 1,
   "id": "6dd4e149",
   "metadata": {},
   "outputs": [],
   "source": [
    "# 使用关键字 class 定义类。\n",
    "class MyClass:\n",
    "  x = 5"
   ]
  },
  {
   "cell_type": "markdown",
   "id": "f2dd372d",
   "metadata": {},
   "source": [
    "## 创建对象"
   ]
  },
  {
   "cell_type": "markdown",
   "id": "77dd6e57",
   "metadata": {},
   "source": [
    "- 根据类创建对象，也被称为 **类的实例化（instantiation）。**\n",
    "- 例：使用名为 `MyClass` 的类创建一个简单对象。"
   ]
  },
  {
   "cell_type": "code",
   "execution_count": 2,
   "id": "e3a7e9b8",
   "metadata": {},
   "outputs": [
    {
     "name": "stdout",
     "output_type": "stream",
     "text": [
      "5\n"
     ]
    }
   ],
   "source": [
    "class MyClass:\n",
    "  x = 5\n",
    "\n",
    "p1 = MyClass()\n",
    "print(p1.x)"
   ]
  },
  {
   "cell_type": "markdown",
   "id": "1c8d381c",
   "metadata": {},
   "source": [
    "- `p1` 是使用类 `MyClass` 创建的一个对象。\n",
    "- `x` 是类 `MyClass` 拥有的属性。\n",
    "- 当使用类 `MyClass` 创建出 `p1`对象后，`p1` 便也拥有了 `x` 这个属性。\n",
    "- 所以，输出 `p1` 的属性 `x` ，即 `p1.x`，结果为 `5`。"
   ]
  },
  {
   "cell_type": "markdown",
   "id": "387e767a",
   "metadata": {},
   "source": [
    "## 构造函数（Constructor）"
   ]
  },
  {
   "cell_type": "markdown",
   "id": "cf4fd9d1",
   "metadata": {},
   "source": [
    "- 定义的类中有一个名为 `__init__()` 的内置函数，被称为 **构造函数（Constructor）**，它是一种特殊类型的函数，用于创建并初始化类的对象。\n",
    "- 每次使用类创建对象时，都会自动调用 `__init__()` 函数。"
   ]
  },
  {
   "cell_type": "code",
   "execution_count": 3,
   "id": "1a4fdea6",
   "metadata": {},
   "outputs": [
    {
     "name": "stdout",
     "output_type": "stream",
     "text": [
      "Hello, my name is Alice and I'm 25 years old.\n"
     ]
    }
   ],
   "source": [
    "class Person:\n",
    "    def __init__(self, name, age):\n",
    "        self.name = name\n",
    "        self.age = age\n",
    "\n",
    "    def say_hello(self):\n",
    "        print(f\"Hello, my name is {self.name} and I'm {self.age} years old.\")\n",
    "\n",
    "person = Person(\"Alice\", 25)\n",
    "person.say_hello()  # 输出：Hello, my name is Alice and I'm 25 years old."
   ]
  },
  {
   "cell_type": "markdown",
   "id": "3a03cc2c",
   "metadata": {},
   "source": [
    "- 定义一个名为 `Person` 的类。\n",
    "- 使用 `__init__()`  函数为变量 `name` 和 `age` 赋值：\n",
    "- `self` 是类中所有函数中的第一个形参，表示 **当前创建的对象**。\n",
    "- 以＂`self.`＂为前缀的 **变量** 被称为 **属性（Property）**。\n",
    "- **`Person`**类有一个名为 **`say_hello`** 的 **方法**，它打印出对象的名称和年龄。\n",
    "- `person = Person(\"Alice\", 25)` 创建了一个名为 `person` 的对象，并调用了`say_hello` 方法"
   ]
  },
  {
   "cell_type": "markdown",
   "id": "73c5913b",
   "metadata": {},
   "source": [
    "## 查看对象方法"
   ]
  },
  {
   "cell_type": "code",
   "execution_count": 4,
   "id": "e636fbd9",
   "metadata": {},
   "outputs": [
    {
     "name": "stdout",
     "output_type": "stream",
     "text": [
      "['__add__', '__class__', '__class_getitem__', '__contains__', '__delattr__', '__delitem__', '__dir__', '__doc__', '__eq__', '__format__', '__ge__', '__getattribute__', '__getitem__', '__gt__', '__hash__', '__iadd__', '__imul__', '__init__', '__init_subclass__', '__iter__', '__le__', '__len__', '__lt__', '__mul__', '__ne__', '__new__', '__reduce__', '__reduce_ex__', '__repr__', '__reversed__', '__rmul__', '__setattr__', '__setitem__', '__sizeof__', '__str__', '__subclasshook__', 'append', 'clear', 'copy', 'count', 'extend', 'index', 'insert', 'pop', 'remove', 'reverse', 'sort']\n"
     ]
    }
   ],
   "source": [
    "# 使用内置函数 dir() 查看对象方法。\n",
    "my_list = [1, 2, 3]\n",
    "print(dir(my_list))"
   ]
  },
  {
   "cell_type": "code",
   "execution_count": 5,
   "id": "bccac51d",
   "metadata": {},
   "outputs": [
    {
     "name": "stdout",
     "output_type": "stream",
     "text": [
      "['__add__', '__class__', '__contains__', '__delattr__', '__dir__', '__doc__', '__eq__', '__format__', '__ge__', '__getattribute__', '__getitem__', '__getnewargs__', '__gt__', '__hash__', '__init__', '__init_subclass__', '__iter__', '__le__', '__len__', '__lt__', '__mod__', '__mul__', '__ne__', '__new__', '__reduce__', '__reduce_ex__', '__repr__', '__rmod__', '__rmul__', '__setattr__', '__sizeof__', '__str__', '__subclasshook__', 'capitalize', 'casefold', 'center', 'count', 'encode', 'endswith', 'expandtabs', 'find', 'format', 'format_map', 'index', 'isalnum', 'isalpha', 'isascii', 'isdecimal', 'isdigit', 'isidentifier', 'islower', 'isnumeric', 'isprintable', 'isspace', 'istitle', 'isupper', 'join', 'ljust', 'lower', 'lstrip', 'maketrans', 'partition', 'removeprefix', 'removesuffix', 'replace', 'rfind', 'rindex', 'rjust', 'rpartition', 'rsplit', 'rstrip', 'split', 'splitlines', 'startswith', 'strip', 'swapcase', 'title', 'translate', 'upper', 'zfill']\n"
     ]
    }
   ],
   "source": [
    "str='kkk'\n",
    "print(dir(str))"
   ]
  },
  {
   "cell_type": "markdown",
   "id": "ceee3104",
   "metadata": {},
   "source": [
    "### 双下划线方法（Double underscore methods, Dunder methods，魔法方法）"
   ]
  },
  {
   "cell_type": "markdown",
   "id": "15b6807e",
   "metadata": {},
   "source": [
    "-  __add__(self, other)\n",
    "- `__add__()` 方法是允许对象支持 `+` 运算符的特殊方法。\n",
    "- 当使用 `+` 运算符将两个对象相加时，Python 会调用第一个对象的 **`add**()` 方法，并将其它对象作为参数传入。"
   ]
  },
  {
   "cell_type": "code",
   "execution_count": 6,
   "id": "76b5e273",
   "metadata": {},
   "outputs": [
    {
     "name": "stdout",
     "output_type": "stream",
     "text": [
      "12\n"
     ]
    }
   ],
   "source": [
    "class Number:\n",
    "    def __init__(self, x):\n",
    "        self.x = x\n",
    "    \n",
    "    def __add__(self, other):\n",
    "        sum = Number(self.x + other.x)\n",
    "        return sum\n",
    "\n",
    "v1 = Number(2)\n",
    "v2 = Number(4)\n",
    "v3 = Number(6)\n",
    "\n",
    "v4 = v1 + v2 + v3\n",
    "print(v4.x)"
   ]
  },
  {
   "cell_type": "markdown",
   "id": "3b861398",
   "metadata": {},
   "source": [
    "- 初始化和构造（Initialization and Construction）\n",
    "| Initialization and Construction | Description |\n",
    "| --- | --- |\n",
    "| __new__(cls, other) | To get called in an object's instantiation. |\n",
    "| __init__(self, other) | To get called by the __new__ method. |\n",
    "| __del__(self) | Destructor method. |"
   ]
  },
  {
   "cell_type": "markdown",
   "id": "a4e93dad",
   "metadata": {},
   "source": [
    "- 一元运算符和函数（Unary operators and functions）\n",
    "| Unary operators and functions | Description |\n",
    "| --- | --- |\n",
    "| __pos__(self) | To get called for unary positive e.g. +someobject. |\n",
    "| __neg__(self) | To get called for unary negative e.g. -someobject. |\n",
    "| __abs__(self) | To get called by built-in abs() function. |\n",
    "| __invert__(self) | To get called for inversion using the ~ operator. |\n",
    "| __round__(self,n) | To get called by built-in round() function. |\n",
    "| __floor__(self) | To get called by built-in math.floor() function. |\n",
    "| __ceil__(self) | To get called by built-in math.ceil() function. |\n",
    "| __trunc__(self) | To get called by built-in math.trunc() function. |"
   ]
  },
  {
   "cell_type": "markdown",
   "id": "0af4f11d",
   "metadata": {},
   "source": [
    "- 增强分配（Augmented Assignment）"
   ]
  },
  {
   "cell_type": "markdown",
   "id": "1d93990d",
   "metadata": {},
   "source": [
    "- 类型转换魔法方法（Type Conversion Magic Methods）"
   ]
  },
  {
   "cell_type": "markdown",
   "id": "77cce97c",
   "metadata": {},
   "source": [
    "- 字符串魔法方法（String Magic Methods）"
   ]
  },
  {
   "cell_type": "markdown",
   "id": "e27f9a9f",
   "metadata": {},
   "source": [
    "- 属性魔法方法（Attribute Magic Methods）"
   ]
  },
  {
   "cell_type": "markdown",
   "id": "1dbbddb2",
   "metadata": {},
   "source": [
    "- 运算符魔法方法（Operator Magic Methods）"
   ]
  },
  {
   "cell_type": "markdown",
   "id": "fe65c363",
   "metadata": {},
   "source": [
    "## 继承（Inheritance）"
   ]
  },
  {
   "cell_type": "markdown",
   "id": "a26c0d8a",
   "metadata": {},
   "source": [
    "- 继承（Inheritance）：使用一个已创建好的类中所有的方法和属性，创建一个新的类。\n",
    "- 父类（Parent Class）：已创建好的类，也称为基类（base class）。\n",
    "- 子类（Child Class）：根据父类创建出的新的类，也称为派生类（derived class）。"
   ]
  },
  {
   "cell_type": "markdown",
   "id": "bc7b5645",
   "metadata": {},
   "source": [
    "- 创建一个父类（Parent Class）\n",
    "    \n",
    "    ---\n",
    "    \n",
    "    - 创建一个名为 `Person` 的类，具有 `firstname` 和 `lastname` 属性，以及一个 `printname` 方法："
   ]
  },
  {
   "cell_type": "code",
   "execution_count": 7,
   "id": "c3c66e9c",
   "metadata": {},
   "outputs": [
    {
     "name": "stdout",
     "output_type": "stream",
     "text": [
      "John Doe\n"
     ]
    }
   ],
   "source": [
    "class Person:\n",
    "  def __init__(self, fname, lname):\n",
    "    self.firstname = fname\n",
    "    self.lastname = lname\n",
    "\n",
    "  def printname(self):\n",
    "    print(self.firstname, self.lastname)\n",
    "\n",
    "x = Person(\"John\", \"Doe\")\n",
    "x.printname()"
   ]
  },
  {
   "cell_type": "markdown",
   "id": "18f5173f",
   "metadata": {},
   "source": [
    "- 创建一个子类（Child Class）\n",
    "    \n",
    "    ---\n",
    "    \n",
    "    - 创建一个名为 `Student` 的类，它将继承 `Person` 类的属性和方法："
   ]
  },
  {
   "cell_type": "code",
   "execution_count": 8,
   "id": "5c2d6831",
   "metadata": {},
   "outputs": [],
   "source": [
    "class Student(Person):\n",
    "  pass"
   ]
  },
  {
   "cell_type": "markdown",
   "id": "97bcd010",
   "metadata": {},
   "source": [
    "- 现在 `Student` 类具有与 `Person` 类相同的属性和方法。\n",
    "\n",
    "- 使用 `Student` 类创建一个对象（实例化），然后执行 `printname` 方法："
   ]
  },
  {
   "cell_type": "code",
   "execution_count": 9,
   "id": "4014d951",
   "metadata": {},
   "outputs": [
    {
     "name": "stdout",
     "output_type": "stream",
     "text": [
      "Mike Olsen\n"
     ]
    }
   ],
   "source": [
    "x = Student(\"Mike\", \"Olsen\")\n",
    "x.printname()"
   ]
  },
  {
   "cell_type": "markdown",
   "id": "21fbf5bc",
   "metadata": {},
   "source": [
    "- 在子类中添加 `__init__()` 函数\n",
    "    \n",
    "    ---\n",
    "    \n",
    "    <aside>\n",
    "    💡 注意：每次使用类创建新对象时，都会自动调用 `__init__()` 函数。\n",
    "    \n",
    "    </aside>\n",
    "    \n",
    "- 将 __init__() 函数添加到 Student 类："
   ]
  },
  {
   "cell_type": "code",
   "execution_count": 16,
   "id": "7e308770",
   "metadata": {},
   "outputs": [],
   "source": [
    "class Student(Person):\n",
    "  def __init__(self, fname, lname, age):\n",
    "    self.firstname = fname\n",
    "    self.lastname = lname\n",
    "    self.age = age"
   ]
  },
  {
   "cell_type": "code",
   "execution_count": 14,
   "id": "92af6fab",
   "metadata": {},
   "outputs": [],
   "source": [
    "# 如果要保持父类中的 __init__() 函数的继承，添加对父级的 __init__() 函数的调用：\n",
    "class Student(Person):\n",
    "  def __init__(self, fname, lname):\n",
    "    Person.__init__(self, fname, lname)\n",
    "\n",
    "# 成功添加了__init__() 函数，并且保留了父类的继承。"
   ]
  },
  {
   "cell_type": "markdown",
   "id": "679cdf19",
   "metadata": {},
   "source": [
    "- 在子类中使用 super() 函数"
   ]
  },
  {
   "cell_type": "code",
   "execution_count": 15,
   "id": "386f298a",
   "metadata": {},
   "outputs": [],
   "source": [
    "# super() 函数使子类继承其父类的所有方法和属性：\n",
    "class Student(Person):\n",
    "  def __init__(self, fname, lname):\n",
    "    super().__init__(fname, lname)\n",
    "\n",
    "# 通过使用 `super()` 函数，不必使用父类的名称，它会自动继承其父类中的方法和属性。"
   ]
  },
  {
   "cell_type": "markdown",
   "id": "e0f7a636",
   "metadata": {},
   "source": [
    "- 在子类中添加属性"
   ]
  },
  {
   "cell_type": "code",
   "execution_count": 17,
   "id": "2fa164ff",
   "metadata": {},
   "outputs": [],
   "source": [
    "# 在 Student 类中添加一个名为graduationyear 的属性：\n",
    "class Student(Person):\n",
    "  def __init__(self, fname, lname):\n",
    "    super().__init__(fname, lname)\n",
    "    self.graduationyear = 2019"
   ]
  },
  {
   "cell_type": "code",
   "execution_count": 18,
   "id": "687db13a",
   "metadata": {},
   "outputs": [],
   "source": [
    "# 在下面的示例中，添加了 year 参数，并在创建对象时传递正确的年份：\n",
    "class Student(Person):\n",
    "  def __init__(self, fname, lname, year):\n",
    "    super().__init__(fname, lname)\n",
    "    self.graduationyear = year\n",
    "\n",
    "x = Student(\"Mike\", \"Olsen\", 2019)"
   ]
  },
  {
   "cell_type": "markdown",
   "id": "f23a4f4e",
   "metadata": {},
   "source": [
    "- 在子类中添加方法"
   ]
  },
  {
   "cell_type": "code",
   "execution_count": 19,
   "id": "31f23065",
   "metadata": {},
   "outputs": [],
   "source": [
    "# 在 Student 类中添加一个名为 welcome 的方法：\n",
    "class Student(Person):\n",
    "  def __init__(self, fname, lname, year):\n",
    "    super().__init__(fname, lname)\n",
    "    self.graduationyear = year\n",
    "\n",
    "  def welcome(self):\n",
    "    print(\"Welcome\", self.firstname, self.lastname, \"to the class of\", self.graduationyear)\n",
    "    \n",
    "# 如果在子类中添加与父类中的函数同名的方法，则会覆盖父类方法的继承。"
   ]
  },
  {
   "cell_type": "markdown",
   "id": "35f304f1",
   "metadata": {},
   "source": [
    "## 同一类中函数之间的相互调用"
   ]
  },
  {
   "cell_type": "markdown",
   "id": "607590a2",
   "metadata": {},
   "source": [
    "- 在 Python 中，类中的函数可以相互调用，这意味着一个函数可以调用同一个类中的另一个函数。"
   ]
  },
  {
   "cell_type": "code",
   "execution_count": 20,
   "id": "29f8dec5",
   "metadata": {},
   "outputs": [
    {
     "name": "stdout",
     "output_type": "stream",
     "text": [
      "15\n"
     ]
    }
   ],
   "source": [
    "class Calculator:\n",
    "    def add(self, a, b):\n",
    "        return a + b\n",
    "\n",
    "    def multiply(self, a, b):\n",
    "        return self.add(a, b) * b\n",
    "\n",
    "calc = Calculator()\n",
    "result = calc.multiply(2, 3)\n",
    "print(result)"
   ]
  },
  {
   "cell_type": "markdown",
   "id": "194470ee",
   "metadata": {},
   "source": [
    "- 代码中，`Calculator` 类定义了两个函数：`add` 和 `multiply`。\n",
    "- `multiply` 函数使用 `self.add` 调用 `add` 函数。`self` 表示当前实例化的对象，因此 `self.add` 相当于 `calc.add`。"
   ]
  },
  {
   "cell_type": "markdown",
   "id": "a41fee90",
   "metadata": {},
   "source": [
    "## 不同类中函数之间的相互调用"
   ]
  },
  {
   "cell_type": "markdown",
   "id": "0222f07f",
   "metadata": {},
   "source": [
    "- 例：计算总面积和总周长"
   ]
  },
  {
   "cell_type": "code",
   "execution_count": 21,
   "id": "d50eb42b",
   "metadata": {},
   "outputs": [
    {
     "name": "stdout",
     "output_type": "stream",
     "text": [
      "Total area: 78.26\n",
      "Total perimeter: 48.84\n"
     ]
    }
   ],
   "source": [
    "# 定义一个 Shape 基类\n",
    "class Shape:\n",
    "    def area(self):\n",
    "        pass\n",
    "\n",
    "    def perimeter(self):\n",
    "        pass\n",
    "'''\n",
    "Shape 类定义了两个函数：area 和 perimeter，\n",
    "并将其设置为抽象方法（只有声明没有实现），由子类实现这两个函数。\n",
    "'''\n",
    "\n",
    "# 定义两个子类 Rectangle 和 Circle\n",
    "class Rectangle(Shape):\n",
    "    def __init__(self, width, height):\n",
    "        self.width = width\n",
    "        self.height = height\n",
    "\n",
    "    def area(self):\n",
    "        return self.width * self.height\n",
    "\n",
    "    def perimeter(self):\n",
    "        return 2 * (self.width + self.height)\n",
    "\n",
    "class Circle(Shape):\n",
    "    def __init__(self, radius):\n",
    "        self.radius = radius\n",
    "\n",
    "    def area(self):\n",
    "        return 3.14 * self.radius ** 2\n",
    "\n",
    "    def perimeter(self):\n",
    "        return 2 * 3.14 * self.radius\n",
    "\n",
    "'''\n",
    "Rectangle 类和 Circle 类都从 Shape 类继承，并覆盖了 area 和 perimeter 函数。\n",
    "Rectangle 类的构造函数接受一个宽度和一个高度，\n",
    "Circle 类的构造函数接受一个半径。\n",
    "'''\n",
    "\n",
    "# 定义 Calculator 类\n",
    "class Calculator:\n",
    "    def total_area(self, shapes):\n",
    "        total = 0\n",
    "        for shape in shapes:\n",
    "            total += shape.area()\n",
    "        return total\n",
    "\n",
    "    def total_perimeter(self, shapes):\n",
    "        total = 0\n",
    "        for shape in shapes:\n",
    "            total += shape.perimeter()\n",
    "        return total\n",
    "'''\n",
    "Calculator 类中包含两个函数：total_area 和 total_perimeter。\n",
    "这两个函数接受一个 shapes 列表，并计算出所有形状的总面积和总周长。\n",
    "'''\n",
    "\n",
    "# 主程序。创建了3个对象：Rectangle、Circle 和 calculator。\n",
    "rectangle = Rectangle(5, 10)\n",
    "circle = Circle(3)\n",
    "calculator = Calculator()\n",
    "\n",
    "# 将 Rectangle 和 Circle 对象传递给 Calculator 对象的 total_area 和 total_perimeter 函数。\n",
    "total_area = calculator.total_area([rectangle, circle])\n",
    "total_perimeter = calculator.total_perimeter([rectangle, circle])\n",
    "\n",
    "# 输出结果\n",
    "print(f\"Total area: {total_area}\")\n",
    "print(f\"Total perimeter: {total_perimeter}\")"
   ]
  },
  {
   "cell_type": "markdown",
   "id": "6b472eac",
   "metadata": {},
   "source": [
    "## 为什么说 “In Python everything is an object.”"
   ]
  },
  {
   "cell_type": "markdown",
   "id": "3591e632",
   "metadata": {},
   "source": [
    "- Python 中的“一切都是对象”指的是，所有的变量、函数、模块等等，都是对象，都具有以下特征：\n",
    "    1. **类型**：每个对象都有一个类型，这个类型定义了对象可以具有的属性和方法。\n",
    "    2. **属性**：每个对象都有一组属性，这些属性可以用来描述对象的状态。\n",
    "    3. **方法**：每个对象都有一组方法，这些方法可以用来执行特定的操作。"
   ]
  },
  {
   "cell_type": "code",
   "execution_count": null,
   "id": "81d401f3",
   "metadata": {},
   "outputs": [],
   "source": []
  }
 ],
 "metadata": {
  "kernelspec": {
   "display_name": "Python 3 (ipykernel)",
   "language": "python",
   "name": "python3"
  },
  "language_info": {
   "codemirror_mode": {
    "name": "ipython",
    "version": 3
   },
   "file_extension": ".py",
   "mimetype": "text/x-python",
   "name": "python",
   "nbconvert_exporter": "python",
   "pygments_lexer": "ipython3",
   "version": "3.10.10"
  }
 },
 "nbformat": 4,
 "nbformat_minor": 5
}
