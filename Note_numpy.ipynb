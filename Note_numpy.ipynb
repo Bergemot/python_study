{
 "cells": [
  {
   "cell_type": "code",
   "execution_count": 1,
   "id": "b618eff4",
   "metadata": {},
   "outputs": [
    {
     "name": "stdout",
     "output_type": "stream",
     "text": [
      "1.24.2\n"
     ]
    }
   ],
   "source": [
    "import numpy as np\n",
    "\n",
    "print(np.__version__)"
   ]
  },
  {
   "cell_type": "markdown",
   "id": "d847f7bf",
   "metadata": {},
   "source": [
    "## 创建 NumPy 数组"
   ]
  },
  {
   "cell_type": "code",
   "execution_count": 2,
   "id": "59e3c701",
   "metadata": {},
   "outputs": [
    {
     "name": "stdout",
     "output_type": "stream",
     "text": [
      "[1 2 3 4 5]\n",
      "<class 'numpy.ndarray'>\n"
     ]
    }
   ],
   "source": [
    "import numpy as np\n",
    "\n",
    "arr = np.array([1, 2, 3, 4, 5])\n",
    "\n",
    "print(arr)\n",
    "print(type(arr))"
   ]
  },
  {
   "cell_type": "code",
   "execution_count": 3,
   "id": "ead43514",
   "metadata": {},
   "outputs": [
    {
     "name": "stdout",
     "output_type": "stream",
     "text": [
      "[1 2 3 4 5]\n"
     ]
    }
   ],
   "source": [
    "# 将元组（Tuple）传递给 array() 函数，也将被转换为 NumPy 数组。\n",
    "import numpy as np\n",
    "\n",
    "arr = np.array((1, 2, 3, 4, 5))\n",
    "print(arr)"
   ]
  },
  {
   "cell_type": "markdown",
   "id": "ffc01f4f",
   "metadata": {},
   "source": [
    "## 维度（Dimensions）"
   ]
  },
  {
   "cell_type": "code",
   "execution_count": 5,
   "id": "39cbf886",
   "metadata": {},
   "outputs": [
    {
     "name": "stdout",
     "output_type": "stream",
     "text": [
      "0\n",
      "1\n",
      "2\n",
      "3\n"
     ]
    }
   ],
   "source": [
    "import numpy as np\n",
    "\n",
    "a = np.array(42)\n",
    "b = np.array([1, 2, 3, 4, 5])\n",
    "c = np.array([[1, 2, 3], [4, 5, 6]])\n",
    "d = np.array([[[1, 2, 3], [4, 5, 6]], [[1, 2, 3], [4, 5, 6]]])\n",
    "\n",
    "print(a.ndim)\n",
    "print(b.ndim)\n",
    "print(c.ndim)\n",
    "print(d.ndim)"
   ]
  },
  {
   "cell_type": "code",
   "execution_count": 6,
   "id": "3ee34e1c",
   "metadata": {},
   "outputs": [
    {
     "name": "stdout",
     "output_type": "stream",
     "text": [
      "[[[[[1 2 3 4]]]]]\n",
      "number of dimensions : 5\n"
     ]
    }
   ],
   "source": [
    "# 创建高维数组时，使用 ndmin 参数定义维数。\n",
    "import numpy as np\n",
    "\n",
    "arr = np.array([1, 2, 3, 4], ndmin=5)\n",
    "\n",
    "print(arr)\n",
    "print('number of dimensions :', arr.ndim)"
   ]
  },
  {
   "cell_type": "markdown",
   "id": "1078e06a",
   "metadata": {},
   "source": [
    "## 索引（Indexing）"
   ]
  },
  {
   "cell_type": "code",
   "execution_count": 7,
   "id": "c0b8fbd3",
   "metadata": {},
   "outputs": [
    {
     "name": "stdout",
     "output_type": "stream",
     "text": [
      "1\n"
     ]
    }
   ],
   "source": [
    "import numpy as np\n",
    "\n",
    "arr = np.array([1, 2, 3, 4])\n",
    "print(arr[0])"
   ]
  },
  {
   "cell_type": "code",
   "execution_count": 8,
   "id": "c33a07fd",
   "metadata": {},
   "outputs": [
    {
     "name": "stdout",
     "output_type": "stream",
     "text": [
      "5th element on 2nd row:  10\n"
     ]
    }
   ],
   "source": [
    "import numpy as np\n",
    "\n",
    "arr = np.array([[1,2,3,4,5], [6,7,8,9,10]])\n",
    "print('5th element on 2nd row: ', arr[1, 4])"
   ]
  },
  {
   "cell_type": "code",
   "execution_count": 9,
   "id": "8bacf4d7",
   "metadata": {},
   "outputs": [
    {
     "name": "stdout",
     "output_type": "stream",
     "text": [
      "6\n"
     ]
    }
   ],
   "source": [
    "import numpy as np\n",
    "\n",
    "arr = np.array([[[1, 2, 3], [4, 5, 6]], [[7, 8, 9], [10, 11, 12]]])\n",
    "print(arr[0, 1, 2])"
   ]
  },
  {
   "cell_type": "code",
   "execution_count": 10,
   "id": "9c754dad",
   "metadata": {},
   "outputs": [
    {
     "name": "stdout",
     "output_type": "stream",
     "text": [
      "Last element from 2nd dim:  10\n"
     ]
    }
   ],
   "source": [
    "# 负索引\n",
    "import numpy as np\n",
    "\n",
    "arr = np.array([[1,2,3,4,5], [6,7,8,9,10]])\n",
    "print('Last element from 2nd dim: ', arr[1, -1])"
   ]
  },
  {
   "cell_type": "markdown",
   "id": "d804cae6",
   "metadata": {},
   "source": [
    "## 切片（Slicing）"
   ]
  },
  {
   "cell_type": "code",
   "execution_count": 11,
   "id": "7d46805d",
   "metadata": {},
   "outputs": [
    {
     "name": "stdout",
     "output_type": "stream",
     "text": [
      "[2 3 4 5]\n"
     ]
    }
   ],
   "source": [
    "# 切片指提取从一个索引到另一个索引的元素。\n",
    "import numpy as np\n",
    "\n",
    "arr = np.array([1, 2, 3, 4, 5, 6, 7])\n",
    "print(arr[1:5])"
   ]
  },
  {
   "cell_type": "code",
   "execution_count": 14,
   "id": "57a88796",
   "metadata": {},
   "outputs": [
    {
     "name": "stdout",
     "output_type": "stream",
     "text": [
      "[5 6 7]\n"
     ]
    }
   ],
   "source": [
    "# 从索引 4 到数组末尾的元素切片：\n",
    "import numpy as np\n",
    "\n",
    "arr = np.array([1, 2, 3, 4, 5, 6, 7])\n",
    "print(arr[4:])"
   ]
  },
  {
   "cell_type": "code",
   "execution_count": 13,
   "id": "893b0001",
   "metadata": {},
   "outputs": [
    {
     "name": "stdout",
     "output_type": "stream",
     "text": [
      "[1 2 3 4]\n"
     ]
    }
   ],
   "source": [
    "# 从开始到索引 4 切片元素（不包括在内）：\n",
    "import numpy as np\n",
    "\n",
    "arr = np.array([1, 2, 3, 4, 5, 6, 7])\n",
    "print(arr[:4])"
   ]
  },
  {
   "cell_type": "code",
   "execution_count": 15,
   "id": "3d5f34e5",
   "metadata": {},
   "outputs": [
    {
     "name": "stdout",
     "output_type": "stream",
     "text": [
      "[5 6]\n"
     ]
    }
   ],
   "source": [
    "# 负切片（Negative Slicing）\n",
    "import numpy as np\n",
    "\n",
    "arr = np.array([1, 2, 3, 4, 5, 6, 7])\n",
    "print(arr[-3:-1])"
   ]
  },
  {
   "cell_type": "code",
   "execution_count": 17,
   "id": "0426c2af",
   "metadata": {},
   "outputs": [
    {
     "name": "stdout",
     "output_type": "stream",
     "text": [
      "[2 4]\n"
     ]
    }
   ],
   "source": [
    "# 步长（Step）\n",
    "import numpy as np\n",
    "\n",
    "arr = np.array([1, 2, 3, 4, 5, 6, 7])\n",
    "print(arr[1:5:2])"
   ]
  },
  {
   "cell_type": "code",
   "execution_count": 18,
   "id": "9e220490",
   "metadata": {},
   "outputs": [
    {
     "name": "stdout",
     "output_type": "stream",
     "text": [
      "[7 8 9]\n"
     ]
    }
   ],
   "source": [
    "# 二维数组切片\n",
    "import numpy as np\n",
    "\n",
    "arr = np.array([[1, 2, 3, 4, 5], [6, 7, 8, 9, 10]])\n",
    "print(arr[1, 1:4])"
   ]
  },
  {
   "cell_type": "markdown",
   "id": "21b52c72",
   "metadata": {},
   "source": [
    "## 数据类型（Data Types）"
   ]
  },
  {
   "cell_type": "markdown",
   "id": "6758b584",
   "metadata": {},
   "source": [
    "`i` - 整数（integer）\n",
    "\n",
    "`b` - 布尔值（boolean）\n",
    "\n",
    "`u` - 无符号整数（unsigned integer）\n",
    "\n",
    "`f` - 浮点数（float）\n",
    "\n",
    "`c` - 复数浮点数（complex float）\n",
    "\n",
    "`m` - 时间增量（timedelta）\n",
    "\n",
    "`M` - 日期时间（datetime）\n",
    "\n",
    "`O` - 对象（object）\n",
    "\n",
    "`S` - 字符串（string）\n",
    "\n",
    "`U` - Unicode 字符串（unicode string）\n",
    "\n",
    "`V` - 其他类型的固定内存块（ fixed chunk of memory for other type，void ）"
   ]
  },
  {
   "cell_type": "code",
   "execution_count": 19,
   "id": "2b7082d1",
   "metadata": {},
   "outputs": [
    {
     "name": "stdout",
     "output_type": "stream",
     "text": [
      "int32\n"
     ]
    }
   ],
   "source": [
    "# NumPy 数组对象有一个名为 dtype 的属性，它返回数组的数据类型：\n",
    "import numpy as np\n",
    "\n",
    "arr = np.array([1, 2, 3, 4])\n",
    "print(arr.dtype)"
   ]
  },
  {
   "cell_type": "code",
   "execution_count": 20,
   "id": "400be68d",
   "metadata": {},
   "outputs": [
    {
     "name": "stdout",
     "output_type": "stream",
     "text": [
      "[b'1' b'2' b'3' b'4']\n",
      "|S1\n"
     ]
    }
   ],
   "source": [
    "# 定义数组的数据类型\n",
    "import numpy as np\n",
    "\n",
    "arr = np.array([1, 2, 3, 4], dtype='S')\n",
    "\n",
    "print(arr)\n",
    "print(arr.dtype)"
   ]
  },
  {
   "cell_type": "code",
   "execution_count": 21,
   "id": "ba75a341",
   "metadata": {},
   "outputs": [
    {
     "name": "stdout",
     "output_type": "stream",
     "text": [
      "[1 2 3]\n",
      "int32\n"
     ]
    }
   ],
   "source": [
    "# 使用 astype() 方法更改现有数组的数据类型，并创建数组的副本。\n",
    "import numpy as np\n",
    "\n",
    "arr = np.array([1.1, 2.1, 3.1])\n",
    "\n",
    "newarr = arr.astype('i')\n",
    "\n",
    "print(newarr)\n",
    "print(newarr.dtype)"
   ]
  },
  {
   "cell_type": "code",
   "execution_count": 22,
   "id": "cf7f590a",
   "metadata": {},
   "outputs": [
    {
     "name": "stdout",
     "output_type": "stream",
     "text": [
      "[ True False  True]\n",
      "bool\n"
     ]
    }
   ],
   "source": [
    "import numpy as np\n",
    "\n",
    "arr = np.array([1, 0, 3])\n",
    "\n",
    "newarr = arr.astype(bool)\n",
    "\n",
    "print(newarr)\n",
    "print(newarr.dtype)"
   ]
  },
  {
   "cell_type": "markdown",
   "id": "b5be7d85",
   "metadata": {},
   "source": [
    "## 拷贝（Copy）"
   ]
  },
  {
   "cell_type": "code",
   "execution_count": 23,
   "id": "e7e17fbf",
   "metadata": {},
   "outputs": [
    {
     "name": "stdout",
     "output_type": "stream",
     "text": [
      "[42  2  3  4  5]\n",
      "[1 2 3 4 5]\n"
     ]
    }
   ],
   "source": [
    "# 拷贝一个数组，更改原始数组，并显示两个数组：\n",
    "import numpy as np\n",
    "\n",
    "arr = np.array([1, 2, 3, 4, 5])\n",
    "x = arr.copy()\n",
    "arr[0] = 42\n",
    "\n",
    "print(arr)\n",
    "print(x)"
   ]
  },
  {
   "cell_type": "markdown",
   "id": "52d7d30b",
   "metadata": {},
   "source": [
    "## 形状（Shape）\n",
    "---\n",
    "- NumPy 数组有一个名为 shape 的属性，它返回一个元组，元组的长度代表数组的维度，元组中的每个值表示对应维度元素的数量。"
   ]
  },
  {
   "cell_type": "code",
   "execution_count": 26,
   "id": "a23312bb",
   "metadata": {},
   "outputs": [
    {
     "name": "stdout",
     "output_type": "stream",
     "text": [
      "(2, 4)\n"
     ]
    }
   ],
   "source": [
    "import numpy as np\n",
    "\n",
    "arr = np.array([[1, 2, 3, 4], [5, 6, 7, 8]])\n",
    "print(arr.shape)"
   ]
  },
  {
   "cell_type": "markdown",
   "id": "5b959f57",
   "metadata": {},
   "source": [
    "## 重塑（Reshape）"
   ]
  },
  {
   "cell_type": "markdown",
   "id": "07e713d2",
   "metadata": {},
   "source": [
    "- 数组重塑改变数组的形状（shape）。\n",
    "- 使用 `reshape()` 方法对数组进行重塑。"
   ]
  },
  {
   "cell_type": "markdown",
   "id": "eccf9bfc",
   "metadata": {},
   "source": [
    "- 将具有 12 个元素的一维数组转换为二维数组。设置第一个维度有 4 个元素，第二个维度有 3 个元素。"
   ]
  },
  {
   "cell_type": "code",
   "execution_count": 27,
   "id": "743701de",
   "metadata": {},
   "outputs": [
    {
     "name": "stdout",
     "output_type": "stream",
     "text": [
      "[[ 1  2  3]\n",
      " [ 4  5  6]\n",
      " [ 7  8  9]\n",
      " [10 11 12]]\n"
     ]
    }
   ],
   "source": [
    "import numpy as np\n",
    "\n",
    "arr = np.array([1, 2, 3, 4, 5, 6, 7, 8, 9, 10, 11, 12])\n",
    "\n",
    "newarr = arr.reshape(4, 3)\n",
    "print(newarr)"
   ]
  },
  {
   "cell_type": "code",
   "execution_count": 28,
   "id": "3debb59d",
   "metadata": {},
   "outputs": [
    {
     "name": "stdout",
     "output_type": "stream",
     "text": [
      "[[[ 1  2]\n",
      "  [ 3  4]\n",
      "  [ 5  6]]\n",
      "\n",
      " [[ 7  8]\n",
      "  [ 9 10]\n",
      "  [11 12]]]\n"
     ]
    }
   ],
   "source": [
    "# 从 1 维 重塑到 3 维\n",
    "import numpy as np\n",
    "\n",
    "arr = np.array([1, 2, 3, 4, 5, 6, 7, 8, 9, 10, 11, 12])\n",
    "\n",
    "newarr = arr.reshape(2, 3, 2)\n",
    "print(newarr)"
   ]
  },
  {
   "cell_type": "code",
   "execution_count": 29,
   "id": "72ef7e42",
   "metadata": {},
   "outputs": [
    {
     "ename": "ValueError",
     "evalue": "cannot reshape array of size 8 into shape (3,3)",
     "output_type": "error",
     "traceback": [
      "\u001b[1;31m---------------------------------------------------------------------------\u001b[0m",
      "\u001b[1;31mValueError\u001b[0m                                Traceback (most recent call last)",
      "Cell \u001b[1;32mIn[29], line 5\u001b[0m\n\u001b[0;32m      1\u001b[0m \u001b[38;5;28;01mimport\u001b[39;00m \u001b[38;5;21;01mnumpy\u001b[39;00m \u001b[38;5;28;01mas\u001b[39;00m \u001b[38;5;21;01mnp\u001b[39;00m\n\u001b[0;32m      3\u001b[0m arr \u001b[38;5;241m=\u001b[39m np\u001b[38;5;241m.\u001b[39marray([\u001b[38;5;241m1\u001b[39m, \u001b[38;5;241m2\u001b[39m, \u001b[38;5;241m3\u001b[39m, \u001b[38;5;241m4\u001b[39m, \u001b[38;5;241m5\u001b[39m, \u001b[38;5;241m6\u001b[39m, \u001b[38;5;241m7\u001b[39m, \u001b[38;5;241m8\u001b[39m])\n\u001b[1;32m----> 5\u001b[0m newarr \u001b[38;5;241m=\u001b[39m \u001b[43marr\u001b[49m\u001b[38;5;241;43m.\u001b[39;49m\u001b[43mreshape\u001b[49m\u001b[43m(\u001b[49m\u001b[38;5;241;43m3\u001b[39;49m\u001b[43m,\u001b[49m\u001b[43m \u001b[49m\u001b[38;5;241;43m3\u001b[39;49m\u001b[43m)\u001b[49m\n\u001b[0;32m      6\u001b[0m \u001b[38;5;28mprint\u001b[39m(newarr)\n",
      "\u001b[1;31mValueError\u001b[0m: cannot reshape array of size 8 into shape (3,3)"
     ]
    }
   ],
   "source": [
    "import numpy as np\n",
    "\n",
    "arr = np.array([1, 2, 3, 4, 5, 6, 7, 8])\n",
    "\n",
    "newarr = arr.reshape(3, 3)\n",
    "print(newarr)"
   ]
  },
  {
   "cell_type": "code",
   "execution_count": 30,
   "id": "81a97d44",
   "metadata": {},
   "outputs": [
    {
     "name": "stdout",
     "output_type": "stream",
     "text": [
      "[1 2 3 4 5 6]\n"
     ]
    }
   ],
   "source": [
    "# 展平数组（Flatten）\n",
    "# 使用 reshape(-1) 展平数组。\n",
    "import numpy as np\n",
    "\n",
    "arr = np.array([[1, 2, 3], [4, 5, 6]])\n",
    "\n",
    "newarr = arr.reshape(-1)\n",
    "print(newarr)"
   ]
  },
  {
   "cell_type": "markdown",
   "id": "b3680939",
   "metadata": {},
   "source": [
    "## 过滤（Filter）\n",
    "- 从现有数组中取出一些元素，并从中创建一个新数组的过程称为 过滤（filtering）。"
   ]
  },
  {
   "cell_type": "code",
   "execution_count": 31,
   "id": "ad8d48a1",
   "metadata": {},
   "outputs": [
    {
     "name": "stdout",
     "output_type": "stream",
     "text": [
      "[41 43]\n"
     ]
    }
   ],
   "source": [
    "#使用 布尔索引列表 过滤数组。\n",
    "import numpy as np\n",
    "\n",
    "arr = np.array([41, 42, 43, 44])\n",
    "\n",
    "x = [True, False, True, False]\n",
    "\n",
    "newarr = arr[x]\n",
    "print(newarr)"
   ]
  },
  {
   "cell_type": "code",
   "execution_count": 32,
   "id": "c592a012",
   "metadata": {},
   "outputs": [
    {
     "name": "stdout",
     "output_type": "stream",
     "text": [
      "[False, False, True, True]\n",
      "[43 44]\n"
     ]
    }
   ],
   "source": [
    "# 创建一个过滤器数组，只返回大于 42 的值。\n",
    "import numpy as np\n",
    "\n",
    "arr = np.array([41, 42, 43, 44])\n",
    "\n",
    "# Create an empty list\n",
    "filter_arr = []\n",
    "\n",
    "# go through each element in arr\n",
    "for element in arr:\n",
    "  # if the element is higher than 42, set the value to True, otherwise False:\n",
    "  if element > 42:\n",
    "    filter_arr.append(True)\n",
    "  else:\n",
    "    filter_arr.append(False)\n",
    "\n",
    "newarr = arr[filter_arr]\n",
    "\n",
    "print(filter_arr)\n",
    "print(newarr)"
   ]
  },
  {
   "cell_type": "code",
   "execution_count": 33,
   "id": "cffb068a",
   "metadata": {},
   "outputs": [
    {
     "name": "stdout",
     "output_type": "stream",
     "text": [
      "[False False  True  True]\n",
      "[43 44]\n"
     ]
    }
   ],
   "source": [
    "# 直接从数组创建过滤器\n",
    "import numpy as np\n",
    "\n",
    "arr = np.array([41, 42, 43, 44])\n",
    "\n",
    "filter_arr = arr > 42\n",
    "\n",
    "newarr = arr[filter_arr]\n",
    "\n",
    "print(filter_arr)\n",
    "print(newarr)"
   ]
  },
  {
   "cell_type": "markdown",
   "id": "7ce2fe58",
   "metadata": {},
   "source": [
    "# 线性代数"
   ]
  },
  {
   "cell_type": "markdown",
   "id": "4602860d",
   "metadata": {},
   "source": [
    "- **向量（Vector）**\n",
    "    数字数组。\n",
    "- **矩阵（Matrix）**    \n",
    "    二维数字数组。\n",
    "- **张量（Tensor）**    \n",
    "    N 维数字数组，其中 n > 2。"
   ]
  },
  {
   "cell_type": "markdown",
   "id": "d52dbbb9",
   "metadata": {},
   "source": [
    "## 向量操作（Vector Operations）"
   ]
  },
  {
   "cell_type": "code",
   "execution_count": 34,
   "id": "91c04b3c",
   "metadata": {},
   "outputs": [
    {
     "name": "stdout",
     "output_type": "stream",
     "text": [
      "[2 4 4]\n",
      "[0 0 2]\n"
     ]
    }
   ],
   "source": [
    "# 向量加减\n",
    "v1 = np.array([1,2,3])\n",
    "v2 = np.array([1,2,1])\n",
    "\n",
    "print(v1+v2)\n",
    "print(v1-v2)"
   ]
  },
  {
   "cell_type": "code",
   "execution_count": 35,
   "id": "cc597795",
   "metadata": {},
   "outputs": [
    {
     "name": "stdout",
     "output_type": "stream",
     "text": [
      "[2 4 6 8]\n"
     ]
    }
   ],
   "source": [
    "# 向量（Vector）乘以标量（Scalar）\n",
    "v = np.array([1,2,3,4])\n",
    "print(v*2)"
   ]
  },
  {
   "cell_type": "code",
   "execution_count": 36,
   "id": "36fe92ba",
   "metadata": {},
   "outputs": [
    {
     "name": "stdout",
     "output_type": "stream",
     "text": [
      "8\n"
     ]
    }
   ],
   "source": [
    "#点积（Dot product）\n",
    "v1 = np.array([1,2,3])\n",
    "v2 = np.array([1,2,1])\n",
    "\n",
    "print(np.dot(v1,v2))"
   ]
  },
  {
   "cell_type": "markdown",
   "id": "31b69201",
   "metadata": {},
   "source": [
    "## 矩阵操作（Matrix Operations）"
   ]
  },
  {
   "cell_type": "code",
   "execution_count": 37,
   "id": "37512c9d",
   "metadata": {},
   "outputs": [
    {
     "name": "stdout",
     "output_type": "stream",
     "text": [
      "[[4 3 1]\n",
      " [3 4 1]\n",
      " [2 0 3]]\n"
     ]
    }
   ],
   "source": [
    "# 方形矩阵（Square matrix）：矩阵两个维度中元素的数量（大小）相同。\n",
    "# Square matrix\n",
    "A = np.random.randint(5, size=(3,3))\n",
    "print(A)\n",
    "# 5(SEED):产生不变的随机矩阵"
   ]
  },
  {
   "cell_type": "code",
   "execution_count": 38,
   "id": "48a95068",
   "metadata": {},
   "outputs": [
    {
     "name": "stdout",
     "output_type": "stream",
     "text": [
      "[[1 0 0]\n",
      " [0 1 0]\n",
      " [0 0 1]]\n"
     ]
    }
   ],
   "source": [
    "# 单位矩阵（Identity matrix）：是一个方形矩阵，主对角线上元素的值为 1，所有其他位置元素的值为 0。\n",
    "I3 = np.identity(3, dtype=int)\n",
    "print(I3)"
   ]
  },
  {
   "cell_type": "code",
   "execution_count": 40,
   "id": "1a10042f",
   "metadata": {},
   "outputs": [
    {
     "name": "stdout",
     "output_type": "stream",
     "text": [
      "[[1 0]\n",
      " [0 4]\n",
      " [0 2]]\n",
      "[[2 4 0]\n",
      " [4 3 4]]\n"
     ]
    }
   ],
   "source": [
    "# 矩阵乘法（matmul）\n",
    "A1 = np.random.randint(5,size=(3,2))\n",
    "print(A1)\n",
    "A2 = np.random.randint(5,size=(2,3))\n",
    "print(A2)"
   ]
  },
  {
   "cell_type": "code",
   "execution_count": 41,
   "id": "8048c4ab",
   "metadata": {},
   "outputs": [
    {
     "name": "stdout",
     "output_type": "stream",
     "text": [
      "[[ 2  4  0]\n",
      " [16 12 16]\n",
      " [ 8  6  8]]\n"
     ]
    }
   ],
   "source": [
    "print(np.matmul(A1,A2))"
   ]
  },
  {
   "cell_type": "code",
   "execution_count": 43,
   "id": "a328bfd2",
   "metadata": {},
   "outputs": [
    {
     "name": "stdout",
     "output_type": "stream",
     "text": [
      "[[ 2 16]\n",
      " [ 4 20]]\n"
     ]
    }
   ],
   "source": [
    "print(np.matmul(A2,A1))"
   ]
  },
  {
   "cell_type": "code",
   "execution_count": 44,
   "id": "b44d5994",
   "metadata": {},
   "outputs": [
    {
     "name": "stdout",
     "output_type": "stream",
     "text": [
      "[[ 0.33333333  0.22222222 -0.33333333]\n",
      " [-0.16666667 -0.44444444  0.66666667]\n",
      " [ 0.          0.33333333  0.        ]]\n"
     ]
    }
   ],
   "source": [
    "# 逆矩阵（Inverse Matrix）\n",
    "A = np.random.randint(5, size=(3,3))\n",
    "AI=np.linalg.inv(A)\n",
    "print(AI)"
   ]
  },
  {
   "cell_type": "code",
   "execution_count": 45,
   "id": "204ee062",
   "metadata": {},
   "outputs": [
    {
     "name": "stdout",
     "output_type": "stream",
     "text": [
      "[[8 2 8 3]\n",
      " [1 9 6 1]\n",
      " [9 9 0 1]\n",
      " [4 2 0 5]]\n"
     ]
    }
   ],
   "source": [
    "# 矩阵的转置（Transpose）\n",
    "A = np.random.randint(10,size=(4,4))\n",
    "print(A)"
   ]
  },
  {
   "cell_type": "code",
   "execution_count": 46,
   "id": "f8fe8afe",
   "metadata": {},
   "outputs": [
    {
     "name": "stdout",
     "output_type": "stream",
     "text": [
      "[[8 1 9 4]\n",
      " [2 9 9 2]\n",
      " [8 6 0 0]\n",
      " [3 1 1 5]]\n"
     ]
    }
   ],
   "source": [
    "print(A.T)"
   ]
  },
  {
   "cell_type": "markdown",
   "id": "5793f409",
   "metadata": {},
   "source": [
    "## 线性方程组（Linear Equations）"
   ]
  },
  {
   "cell_type": "markdown",
   "id": "6a600126",
   "metadata": {},
   "source": [
    "- 例：解方程组\n",
    "    \n",
    "    8x-6y+2z = 28\n",
    "    \n",
    "    -4x+11y-7z = -40\n",
    "    \n",
    "    4x-7y+6z = 33"
   ]
  },
  {
   "cell_type": "code",
   "execution_count": 47,
   "id": "39fd6da6",
   "metadata": {},
   "outputs": [
    {
     "name": "stdout",
     "output_type": "stream",
     "text": [
      "[[ 2.]\n",
      " [-1.]\n",
      " [ 3.]]\n"
     ]
    }
   ],
   "source": [
    "from numpy import *\n",
    "import numpy as np\n",
    "\n",
    "a = np.array([[8, -6, 2],[-4, 11, -7],[4, -7, 6]])\n",
    "b = np.array([[28],[-40],[33]])\n",
    "\n",
    "x = np.linalg.solve(a, b)\n",
    "\n",
    "print(x)"
   ]
  },
  {
   "cell_type": "markdown",
   "id": "1ecf14b7",
   "metadata": {},
   "source": [
    "## 矩阵旋转：rot90 函数"
   ]
  },
  {
   "cell_type": "code",
   "execution_count": 48,
   "id": "c4961a94",
   "metadata": {},
   "outputs": [
    {
     "name": "stdout",
     "output_type": "stream",
     "text": [
      "[[3 3 5 3 3]\n",
      " [5 5 5 5 5]\n",
      " [3 3 5 3 3]\n",
      " [3 3 5 3 3]\n",
      " [3 3 5 3 1]] # orignal\n"
     ]
    },
    {
     "data": {
      "text/plain": [
       "<matplotlib.image.AxesImage at 0x19c8ef7fd90>"
      ]
     },
     "execution_count": 48,
     "metadata": {},
     "output_type": "execute_result"
    },
    {
     "data": {
      "image/png": "[encoded data removed]",
      "text/plain": [
       "<Figure size 640x480 with 1 Axes>"
      ]
     },
     "metadata": {},
     "output_type": "display_data"
    }
   ],
   "source": [
    "# 原始矩阵\n",
    "import numpy as np\n",
    "import matplotlib.pyplot as plt\n",
    "\n",
    "mat = np.array([[3,3,5,3,3],\n",
    "                [5,5,5,5,5],\n",
    "                [3,3,5,3,3],\n",
    "                [3,3,5,3,3],\n",
    "                [3,3,5,3,1]\n",
    "                ])\n",
    "\n",
    "print(mat, \"# orignal\")\n",
    "plt.imshow(mat)"
   ]
  },
  {
   "cell_type": "code",
   "execution_count": 49,
   "id": "8523e8c6",
   "metadata": {},
   "outputs": [
    {
     "name": "stdout",
     "output_type": "stream",
     "text": [
      "[[3 5 3 3 1]\n",
      " [3 5 3 3 3]\n",
      " [5 5 5 5 5]\n",
      " [3 5 3 3 3]\n",
      " [3 5 3 3 3]] # rorate 90 <left> anti-clockwise\n"
     ]
    },
    {
     "data": {
      "text/plain": [
       "<matplotlib.image.AxesImage at 0x19c8f292f50>"
      ]
     },
     "execution_count": 49,
     "metadata": {},
     "output_type": "execute_result"
    },
    {
     "data": {
      "image/png": "[encoded data removed]",
      "text/plain": [
       "<Figure size 640x480 with 1 Axes>"
      ]
     },
     "metadata": {},
     "output_type": "display_data"
    }
   ],
   "source": [
    "# 逆时针旋转 90 度\n",
    "mat90 = np.rot90(mat, 1)\n",
    "print(mat90, \"# rorate 90 <left> anti-clockwise\")\n",
    "plt.imshow(mat90)"
   ]
  },
  {
   "cell_type": "code",
   "execution_count": 50,
   "id": "c900f050",
   "metadata": {},
   "outputs": [
    {
     "name": "stdout",
     "output_type": "stream",
     "text": [
      "[[3 3 3 5 3]\n",
      " [3 3 3 5 3]\n",
      " [5 5 5 5 5]\n",
      " [3 3 3 5 3]\n",
      " [1 3 3 5 3]] # rorate 90 <right> clockwise\n"
     ]
    },
    {
     "data": {
      "text/plain": [
       "<matplotlib.image.AxesImage at 0x19c8f305a20>"
      ]
     },
     "execution_count": 50,
     "metadata": {},
     "output_type": "execute_result"
    },
    {
     "data": {
      "image/png": "[encoded data removed]",
      "text/plain": [
       "<Figure size 640x480 with 1 Axes>"
      ]
     },
     "metadata": {},
     "output_type": "display_data"
    }
   ],
   "source": [
    "# 顺时针旋转 90 度\n",
    "mat90 = np.rot90(mat, -1)\n",
    "print(mat90, \"# rorate 90 <right> clockwise\")\n",
    "plt.imshow(mat90)"
   ]
  },
  {
   "cell_type": "code",
   "execution_count": 51,
   "id": "f54127f7",
   "metadata": {},
   "outputs": [
    {
     "name": "stdout",
     "output_type": "stream",
     "text": [
      "[[3 3 3 5 3]\n",
      " [3 3 3 5 3]\n",
      " [5 5 5 5 5]\n",
      " [3 3 3 5 3]\n",
      " [1 3 3 5 3]] # rorate 270 <left> anti-clockwise\n"
     ]
    },
    {
     "data": {
      "text/plain": [
       "<matplotlib.image.AxesImage at 0x19c8f353ee0>"
      ]
     },
     "execution_count": 51,
     "metadata": {},
     "output_type": "execute_result"
    },
    {
     "data": {
      "image/png": "[encoded data removed]",
      "text/plain": [
       "<Figure size 640x480 with 1 Axes>"
      ]
     },
     "metadata": {},
     "output_type": "display_data"
    }
   ],
   "source": [
    "# 逆时针旋转 270 度\n",
    "mat270 = np.rot90(mat, 3)\n",
    "print(mat270, \"# rorate 270 <left> anti-clockwise\")\n",
    "plt.imshow(mat270)"
   ]
  },
  {
   "cell_type": "markdown",
   "id": "9a8c268d",
   "metadata": {},
   "source": [
    "## 卷积（Convolution）计算"
   ]
  },
  {
   "cell_type": "code",
   "execution_count": 54,
   "id": "e93dbf27",
   "metadata": {},
   "outputs": [],
   "source": [
    "# 使用 NumPy 完成卷积计算\n",
    "import numpy as np\n",
    "\n",
    "# image array\n",
    "image = np.array([[1, 1, 1, 0, 0],\n",
    "                [0, 1, 1, 1, 0],\n",
    "                [0, 0, 1, 1, 1],\n",
    "                [0, 0, 1, 1, 0],\n",
    "                [0, 1, 1, 0, 0]])\n",
    "# kernel\n",
    "kernel = np.array([[1, 0, 1],\n",
    "                   [0, 1, 0],\n",
    "                   [1, 0, 1]])\n",
    "\n",
    "# Get the shape of the image and kernel\n",
    "image_height, image_width = image.shape\n",
    "kernel_height, kernel_width = kernel.shape\n",
    "\n",
    "# Initialize the output image as a zero-filled array\n",
    "convol_result_array = np.zeros((image_height - kernel_height + 1, image_width - kernel_width + 1))\n",
    "\n",
    "# Perform convolution\n",
    "for i in range(convol_result_array .shape[0]):\n",
    "    for j in range(convol_result_array .shape[1]):\n",
    "        convol_result_array[i,j] = np.sum(kernel * image[i:i+kernel_height, j:j+kernel_width])\n",
    "        \n"
   ]
  },
  {
   "cell_type": "code",
   "execution_count": 53,
   "id": "e5591605",
   "metadata": {},
   "outputs": [
    {
     "data": {
      "image/png": "[encoded data removed]",
      "text/plain": [
       "<Figure size 640x480 with 1 Axes>"
      ]
     },
     "metadata": {},
     "output_type": "display_data"
    }
   ],
   "source": [
    "import matplotlib.pyplot as plt\n",
    "\n",
    "# plot the image array as an image\n",
    "plt.imshow(image, cmap='gray')\n",
    "plt.show()"
   ]
  },
  {
   "cell_type": "code",
   "execution_count": 55,
   "id": "163cb183",
   "metadata": {},
   "outputs": [
    {
     "data": {
      "image/png": "[encoded data removed]",
      "text/plain": [
       "<Figure size 640x480 with 1 Axes>"
      ]
     },
     "metadata": {},
     "output_type": "display_data"
    }
   ],
   "source": [
    "# plot the kernel array as an image\n",
    "plt.imshow(kernel, cmap='gray')\n",
    "plt.show()"
   ]
  },
  {
   "cell_type": "code",
   "execution_count": 57,
   "id": "146d6bdb",
   "metadata": {
    "scrolled": true
   },
   "outputs": [
    {
     "data": {
      "image/png": "[encoded data removed]",
      "text/plain": [
       "<Figure size 640x480 with 1 Axes>"
      ]
     },
     "metadata": {},
     "output_type": "display_data"
    }
   ],
   "source": [
    "# plot the result array of convolution as an image\n",
    "plt.imshow(convol_result_array, cmap='gray')\n",
    "plt.show()"
   ]
  },
  {
   "cell_type": "code",
   "execution_count": null,
   "id": "86039159",
   "metadata": {},
   "outputs": [],
   "source": []
  }
 ],
 "metadata": {
  "kernelspec": {
   "display_name": "Python 3 (ipykernel)",
   "language": "python",
   "name": "python3"
  },
  "language_info": {
   "codemirror_mode": {
    "name": "ipython",
    "version": 3
   },
   "file_extension": ".py",
   "mimetype": "text/x-python",
   "name": "python",
   "nbconvert_exporter": "python",
   "pygments_lexer": "ipython3",
   "version": "3.10.11"
  }
 },
 "nbformat": 4,
 "nbformat_minor": 5
}
