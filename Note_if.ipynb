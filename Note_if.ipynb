{
 "cells": [
  {
   "cell_type": "markdown",
   "id": "b21116a4",
   "metadata": {},
   "source": [
    "- Python 支持数学中的常见 逻辑条件：\n",
    "    - 等于：`a == b`\n",
    "    - 不等于：`a != b`\n",
    "    - 小于：`a < b`\n",
    "    - 小于或等于：`a <= b`\n",
    "    - 大于：`a > b`\n",
    "    - 大于或等于：`a >= b`"
   ]
  },
  {
   "cell_type": "code",
   "execution_count": 1,
   "id": "c8985bd7",
   "metadata": {},
   "outputs": [
    {
     "name": "stdout",
     "output_type": "stream",
     "text": [
      "b is greater than a\n"
     ]
    }
   ],
   "source": [
    "a = 33\n",
    "b = 200\n",
    "\n",
    "if b > a:\n",
    "  print(\"b is greater than a\")"
   ]
  },
  {
   "cell_type": "markdown",
   "id": "2448b616",
   "metadata": {},
   "source": [
    "- 缩进（Indentation）\n",
    "    - Python 使用 缩进（行首的空格）来定义代码中的范围。\n",
    "    - 在执行代码时，如果没有正确使用缩进将被报错。"
   ]
  },
  {
   "cell_type": "code",
   "execution_count": 3,
   "id": "ea016484",
   "metadata": {},
   "outputs": [
    {
     "name": "stdout",
     "output_type": "stream",
     "text": [
      "b is greater than a\n"
     ]
    }
   ],
   "source": [
    "a = 33\n",
    "b = 200\n",
    "if b > a:\n",
    "    print(\"b is greater than a\")"
   ]
  },
  {
   "cell_type": "markdown",
   "id": "cdc338a2",
   "metadata": {},
   "source": [
    "- else 关键字捕获前面条件中未捕获的任何内容"
   ]
  },
  {
   "cell_type": "code",
   "execution_count": 4,
   "id": "565a56fc",
   "metadata": {},
   "outputs": [
    {
     "name": "stdout",
     "output_type": "stream",
     "text": [
      "a is greater than b\n"
     ]
    }
   ],
   "source": [
    "a = 200\n",
    "b = 33\n",
    "\n",
    "if b > a:\n",
    "  print(\"b is greater than a\")\n",
    "elif a == b:\n",
    "  print(\"a and b are equal\")\n",
    "else:\n",
    "  print(\"a is greater than b\")"
   ]
  },
  {
   "cell_type": "markdown",
   "id": "5afa6bdf",
   "metadata": {},
   "source": [
    "- 如果 只有一个语句要执行，可以把它和 if 语句写在同一行。"
   ]
  },
  {
   "cell_type": "code",
   "execution_count": 5,
   "id": "ef7421bd",
   "metadata": {},
   "outputs": [
    {
     "name": "stdout",
     "output_type": "stream",
     "text": [
      "a is greater than b\n"
     ]
    }
   ],
   "source": [
    "if a > b: print(\"a is greater than b\")"
   ]
  },
  {
   "cell_type": "markdown",
   "id": "26aec975",
   "metadata": {},
   "source": [
    "- 如果 只有两条语句要执行，一条用于 if，另一条用于 else，则可以将它们全部放在同一行"
   ]
  },
  {
   "cell_type": "code",
   "execution_count": 6,
   "id": "864a3bbd",
   "metadata": {},
   "outputs": [
    {
     "name": "stdout",
     "output_type": "stream",
     "text": [
      "B\n"
     ]
    }
   ],
   "source": [
    "a = 2\n",
    "b = 330\n",
    "\n",
    "print(\"A\") if a > b else print(\"B\")"
   ]
  },
  {
   "cell_type": "markdown",
   "id": "542891fd",
   "metadata": {},
   "source": [
    "- 还可以在同一行上有多个 else 语句："
   ]
  },
  {
   "cell_type": "code",
   "execution_count": 7,
   "id": "88b4de09",
   "metadata": {},
   "outputs": [
    {
     "name": "stdout",
     "output_type": "stream",
     "text": [
      "=\n"
     ]
    }
   ],
   "source": [
    "a = 330\n",
    "b = 330\n",
    "\n",
    "print(\"A\") if a > b else print(\"=\") if a == b else print(\"B\")"
   ]
  },
  {
   "cell_type": "markdown",
   "id": "00a15e1a",
   "metadata": {},
   "source": [
    "- and 关键字是 逻辑运算符，用于组合条件语句："
   ]
  },
  {
   "cell_type": "code",
   "execution_count": 8,
   "id": "d9cde3f4",
   "metadata": {},
   "outputs": [
    {
     "name": "stdout",
     "output_type": "stream",
     "text": [
      "Both conditions are True\n"
     ]
    }
   ],
   "source": [
    "a = 200\n",
    "b = 33\n",
    "c = 500\n",
    "\n",
    "if a > b and c > a:\n",
    "  print(\"Both conditions are True\")"
   ]
  },
  {
   "cell_type": "markdown",
   "id": "6060e69f",
   "metadata": {},
   "source": [
    "- or 关键字是逻辑运算符，用于组合条件语句："
   ]
  },
  {
   "cell_type": "code",
   "execution_count": 9,
   "id": "b435fbeb",
   "metadata": {},
   "outputs": [
    {
     "name": "stdout",
     "output_type": "stream",
     "text": [
      "At least one of the conditions is True\n"
     ]
    }
   ],
   "source": [
    "a = 200\n",
    "b = 33\n",
    "c = 500\n",
    "\n",
    "if a > b or a > c:\n",
    "  print(\"At least one of the conditions is True\")"
   ]
  },
  {
   "cell_type": "markdown",
   "id": "7b57f9c4",
   "metadata": {},
   "source": [
    "- 可以在 if 语句中包含 if 语句，这称为 if 嵌套  。"
   ]
  },
  {
   "cell_type": "code",
   "execution_count": 10,
   "id": "3ceb6f29",
   "metadata": {},
   "outputs": [
    {
     "name": "stdout",
     "output_type": "stream",
     "text": [
      "Above ten,\n",
      "and also above 20!\n"
     ]
    }
   ],
   "source": [
    "x = 41\n",
    "\n",
    "if x > 10:\n",
    "  print(\"Above ten,\")\n",
    "  if x > 20:\n",
    "    print(\"and also above 20!\")\n",
    "  else:\n",
    "    print(\"but not above 20.\")"
   ]
  },
  {
   "cell_type": "markdown",
   "id": "47701ad0",
   "metadata": {},
   "source": [
    "- if 语句不能为空，如果由于某种原因 if 语句中没有要执行的语句，可放入 pass 语句 以避免出错。"
   ]
  },
  {
   "cell_type": "code",
   "execution_count": 11,
   "id": "ec8c7cf9",
   "metadata": {},
   "outputs": [],
   "source": [
    "a = 33\n",
    "b = 200\n",
    "\n",
    "if b > a:\n",
    "  pass"
   ]
  },
  {
   "cell_type": "code",
   "execution_count": null,
   "id": "698a0ffb",
   "metadata": {},
   "outputs": [],
   "source": []
  }
 ],
 "metadata": {
  "kernelspec": {
   "display_name": "Python 3 (ipykernel)",
   "language": "python",
   "name": "python3"
  },
  "language_info": {
   "codemirror_mode": {
    "name": "ipython",
    "version": 3
   },
   "file_extension": ".py",
   "mimetype": "text/x-python",
   "name": "python",
   "nbconvert_exporter": "python",
   "pygments_lexer": "ipython3",
   "version": "3.10.10"
  }
 },
 "nbformat": 4,
 "nbformat_minor": 5
}
