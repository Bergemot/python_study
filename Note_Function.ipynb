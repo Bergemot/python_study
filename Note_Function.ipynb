{
 "cells": [
  {
   "cell_type": "markdown",
   "id": "cdfbde31",
   "metadata": {},
   "source": [
    "# 基础"
   ]
  },
  {
   "cell_type": "code",
   "execution_count": 1,
   "id": "978a2a94",
   "metadata": {},
   "outputs": [],
   "source": [
    "# 使用关键字 def 定义一个函数\n",
    "def my_function():\n",
    "  print(\"Hello from a function\")"
   ]
  },
  {
   "cell_type": "code",
   "execution_count": 2,
   "id": "b1b93e2a",
   "metadata": {},
   "outputs": [
    {
     "name": "stdout",
     "output_type": "stream",
     "text": [
      "Hello from a function\n"
     ]
    }
   ],
   "source": [
    "# 使用 函数名 后跟 一对括号 调用函数。\n",
    "my_function()"
   ]
  },
  {
   "cell_type": "code",
   "execution_count": 3,
   "id": "4f655958",
   "metadata": {},
   "outputs": [
    {
     "name": "stdout",
     "output_type": "stream",
     "text": [
      "15\n",
      "25\n",
      "45\n"
     ]
    }
   ],
   "source": [
    "# 使用 return 语句获得函数返回值。\n",
    "def my_function(x):\n",
    "  return 5 * x\n",
    "\n",
    "print(my_function(3))\n",
    "print(my_function(5))\n",
    "print(my_function(9))"
   ]
  },
  {
   "cell_type": "code",
   "execution_count": 4,
   "id": "0d832c35",
   "metadata": {},
   "outputs": [],
   "source": [
    "# 函数定义不能为空，如果由于某种原因有一个没有内容的函数定义，可以使用 pass 语句避免报错。\n",
    "def myfunction():\n",
    "  pass"
   ]
  },
  {
   "cell_type": "markdown",
   "id": "cfa30188",
   "metadata": {},
   "source": [
    "# 参数"
   ]
  },
  {
   "cell_type": "markdown",
   "id": "e7abf19c",
   "metadata": {},
   "source": [
    "- 数据可以作为参数传递给函数。\n",
    "- 参数在函数名之后的括号内指定。\n",
    "    - 可以根据需要添加任意数量的参数，只需将它们用逗号分隔即可。\n",
    "\n",
    "- 下例是带有一个参数 (`firstname`) 的函数。\n",
    "    - 当函数被调用时，传递一个名字，它在函数内部被打印出全名：\n",
    "        \n",
    "        Emil Refsnes\n",
    "        \n",
    "        Tobias Refsnes\n",
    "        \n",
    "        Linus Refsnes"
   ]
  },
  {
   "cell_type": "markdown",
   "id": "abb7598d",
   "metadata": {},
   "source": [
    "- **形参（Parameters）** 和 **实参（Arguments）**用于同一事物：传递给函数的信息。\n",
    "- `Parameters` 是在定义函数时括号内列出的变量名，是形式上的参数名，简称为 **形参（Parameters）**。\n",
    "- `Arguments` 是在调用函数时发送给函数的具体值，是真实的参数值，简称为 **实参（Arguments）**。"
   ]
  },
  {
   "cell_type": "code",
   "execution_count": 5,
   "id": "aef5efba",
   "metadata": {},
   "outputs": [
    {
     "name": "stdout",
     "output_type": "stream",
     "text": [
      "Emil Refsnes\n",
      "Tobias Refsnes\n",
      "Linus Refsnes\n"
     ]
    }
   ],
   "source": [
    "# 定义函数\n",
    "def my_function(fname):\n",
    "  print(fname + \" Refsnes\")\n",
    "\n",
    "# 调用函数\n",
    "my_function(\"Emil\")\n",
    "my_function(\"Tobias\")\n",
    "my_function(\"Linus\")"
   ]
  },
  {
   "cell_type": "markdown",
   "id": "e6384696",
   "metadata": {},
   "source": [
    "### 参数的数目\n",
    "- 默认情况下，必须使用正确数量的参数调用函数。\n",
    "    - 这意味着如果函数需要 2 个参数，则必须使用 2 个参数调用该函数。"
   ]
  },
  {
   "cell_type": "code",
   "execution_count": 6,
   "id": "7bac3297",
   "metadata": {},
   "outputs": [
    {
     "name": "stdout",
     "output_type": "stream",
     "text": [
      "Emil Refsnes\n"
     ]
    }
   ],
   "source": [
    "def my_function(fname, lname):\n",
    "  print(fname + \" \" + lname)\n",
    "\n",
    "my_function(\"Emil\", \"Refsnes\")"
   ]
  },
  {
   "cell_type": "markdown",
   "id": "bcd13869",
   "metadata": {},
   "source": [
    "- 如果不知道将传递给函数的参数数量，可在函数定义中的参数名称前添加 *。函数将接收一个参数元组（Tuple），并可以相应地访问这些参数。"
   ]
  },
  {
   "cell_type": "code",
   "execution_count": 7,
   "id": "b5473081",
   "metadata": {},
   "outputs": [
    {
     "name": "stdout",
     "output_type": "stream",
     "text": [
      "The youngest child is Linus\n"
     ]
    }
   ],
   "source": [
    "def my_function(*kids):\n",
    "  print(\"The youngest child is \" + kids[2])\n",
    "\n",
    "my_function(\"Emil\", \"Tobias\", \"Linus\")"
   ]
  },
  {
   "cell_type": "markdown",
   "id": "bc6ee6b2",
   "metadata": {},
   "source": [
    "### 关键字参数（Keyword Arguments）"
   ]
  },
  {
   "cell_type": "code",
   "execution_count": 8,
   "id": "266ee9b4",
   "metadata": {},
   "outputs": [
    {
     "name": "stdout",
     "output_type": "stream",
     "text": [
      "The youngest child is Linus\n"
     ]
    }
   ],
   "source": [
    "# 使用 key = value 语法发送参数。这样，参数的顺序就不重要了。\n",
    "def my_function(child3, child2, child1):\n",
    "  print(\"The youngest child is \" + child3)\n",
    "\n",
    "my_function(child1 = \"Emil\", child2 = \"Tobias\", child3 = \"Linus\")"
   ]
  },
  {
   "cell_type": "markdown",
   "id": "2422757d",
   "metadata": {},
   "source": [
    "### 任意关键字参数 **kwargs"
   ]
  },
  {
   "cell_type": "markdown",
   "id": "fcba2f9a",
   "metadata": {},
   "source": [
    "- 如果不知道将传递给函数的关键字参数的数量，可在函数定义中的参数名称前添加两个星号：**。这样，函数将接收参数字典，并可以相应地访问项目。"
   ]
  },
  {
   "cell_type": "code",
   "execution_count": 9,
   "id": "234958db",
   "metadata": {},
   "outputs": [
    {
     "name": "stdout",
     "output_type": "stream",
     "text": [
      "His last name is Refsnes\n"
     ]
    }
   ],
   "source": [
    "def my_function(**kid):\n",
    "  print(\"His last name is \" + kid[\"lname\"])\n",
    "\n",
    "my_function(fname = \"Tobias\", lname = \"Refsnes\")"
   ]
  },
  {
   "cell_type": "markdown",
   "id": "b736894c",
   "metadata": {},
   "source": [
    "### 默认参数值"
   ]
  },
  {
   "cell_type": "code",
   "execution_count": 10,
   "id": "a215ab88",
   "metadata": {},
   "outputs": [
    {
     "name": "stdout",
     "output_type": "stream",
     "text": [
      "I am from Sweden\n",
      "I am from India\n",
      "I am from Norway\n",
      "I am from Brazil\n"
     ]
    }
   ],
   "source": [
    "# 如果调用不带参数的函数，它使用默认值：\n",
    "def my_function(country = \"Norway\"):\n",
    "  print(\"I am from \" + country)\n",
    "\n",
    "my_function(\"Sweden\")\n",
    "my_function(\"India\")\n",
    "my_function()\n",
    "my_function(\"Brazil\")"
   ]
  },
  {
   "cell_type": "markdown",
   "id": "019475e7",
   "metadata": {},
   "source": [
    "- 可以将任何数据类型的参数发送给函数（`字符串、数字、列表、字典`等），它将在函数内部被视为相同的数据类型。\n",
    "- 例如。 如果发送一个列表（List） 作为参数，它在到达函数时仍然是一个列表。"
   ]
  },
  {
   "cell_type": "code",
   "execution_count": 11,
   "id": "cc781921",
   "metadata": {},
   "outputs": [
    {
     "name": "stdout",
     "output_type": "stream",
     "text": [
      "apple\n",
      "banana\n",
      "cherry\n"
     ]
    }
   ],
   "source": [
    "def my_function(food):\n",
    "  for x in food:\n",
    "    print(x)\n",
    "\n",
    "fruits = [\"apple\", \"banana\", \"cherry\"]\n",
    "\n",
    "my_function(fruits)"
   ]
  },
  {
   "cell_type": "markdown",
   "id": "fd04e2d4",
   "metadata": {},
   "source": [
    "# 递归（Recursion）函数"
   ]
  },
  {
   "cell_type": "markdown",
   "id": "22e5bcbc",
   "metadata": {},
   "source": [
    "- **递归（Recursion）**是一个 数学 和 编程概念。\n",
    "- **递归函数** 是指 函数可以调用自身。\n",
    "- 递归 是一种非常有效，且数学上优雅的编程方法。"
   ]
  },
  {
   "cell_type": "code",
   "execution_count": 12,
   "id": "4abaab26",
   "metadata": {},
   "outputs": [
    {
     "name": "stdout",
     "output_type": "stream",
     "text": [
      "120\n"
     ]
    }
   ],
   "source": [
    "# 计算正整数的阶乘\n",
    "def factorial(n):\n",
    "    if n == 0:\n",
    "        return 1\n",
    "    else:\n",
    "        return n * factorial(n-1)\n",
    "\n",
    "print(factorial(5))"
   ]
  },
  {
   "cell_type": "code",
   "execution_count": 13,
   "id": "571f1bec",
   "metadata": {},
   "outputs": [
    {
     "name": "stdout",
     "output_type": "stream",
     "text": [
      "False\n",
      "True\n"
     ]
    }
   ],
   "source": [
    "# 检测回文（Palindrome）\n",
    "def palindrome(dna):\n",
    "\n",
    "    \"\"\"Return True if dna is a palindrome, False if not.\"\"\"\n",
    "    return dna == dna[::-1]\n",
    "\t\n",
    "print(palindrome('atcg'))\n",
    "print(palindrome('atcgattagcta'))"
   ]
  },
  {
   "cell_type": "markdown",
   "id": "209bcf05",
   "metadata": {},
   "source": [
    "###  [::-1]\n",
    "- `[::-1]` 是 Python 中的 **切片符号**，用于在 Python 中 反转序列（字符串、列表、元组等）。\n",
    "\n",
    "- 第一个冒号 `:` 表示切片的开始（默认为序列的开始），第二个冒号 `:` 表示切片的结束（默认为序列的结束）， `-1` 表示步长。"
   ]
  },
  {
   "cell_type": "code",
   "execution_count": 14,
   "id": "ac0a5143",
   "metadata": {},
   "outputs": [
    {
     "name": "stdout",
     "output_type": "stream",
     "text": [
      "acatgt\n"
     ]
    }
   ],
   "source": [
    "dna = 'atcgattagcta'\n",
    "print(dna[::-2])"
   ]
  },
  {
   "cell_type": "markdown",
   "id": "ead08531",
   "metadata": {},
   "source": [
    "## Lambda 函数"
   ]
  },
  {
   "cell_type": "markdown",
   "id": "346756ea",
   "metadata": {},
   "source": [
    "- **什么是 Lambda 函数？**\n",
    "    \n",
    "    ---\n",
    "    \n",
    "    - Lambda 函数是一个 匿名函数（Anonymous function）。\n",
    "    - 一个 Lambda 函数 可以接受任意数量的参数，但 只能有一个表达式。\n",
    "        "
   ]
  },
  {
   "cell_type": "code",
   "execution_count": 16,
   "id": "b8630da7",
   "metadata": {},
   "outputs": [
    {
     "name": "stdout",
     "output_type": "stream",
     "text": [
      "15\n"
     ]
    }
   ],
   "source": [
    "# 将参数 `a` 加 10，并返回结果：\n",
    "x = lambda a : a + 10\n",
    "print(x(5))"
   ]
  },
  {
   "cell_type": "code",
   "execution_count": 17,
   "id": "8cba37ed",
   "metadata": {},
   "outputs": [
    {
     "name": "stdout",
     "output_type": "stream",
     "text": [
      "30\n"
     ]
    }
   ],
   "source": [
    "# Lambda 函数可以接受任意数量的参数。\n",
    "x = lambda a, b : a * b\n",
    "print(x(5, 6))"
   ]
  },
  {
   "cell_type": "code",
   "execution_count": 18,
   "id": "cb2d1aa2",
   "metadata": {},
   "outputs": [
    {
     "name": "stdout",
     "output_type": "stream",
     "text": [
      "13\n"
     ]
    }
   ],
   "source": [
    "x = lambda a, b, c : a + b + c\n",
    "print(x(5, 6, 2))"
   ]
  },
  {
   "cell_type": "markdown",
   "id": "29bad36c",
   "metadata": {},
   "source": [
    "- 为什么要使用 Lambda 函数？"
   ]
  },
  {
   "cell_type": "markdown",
   "id": "c65ce7d7",
   "metadata": {},
   "source": [
    "- 假设有一个带有 一个参数 n 的函数，并且该参数将 乘以一个未知数 a。"
   ]
  },
  {
   "cell_type": "code",
   "execution_count": 20,
   "id": "fafd9328",
   "metadata": {},
   "outputs": [],
   "source": [
    "def myfunc(n):\n",
    "  return lambda a : a * n"
   ]
  },
  {
   "cell_type": "markdown",
   "id": "c50dd586",
   "metadata": {},
   "source": [
    "- `myfunc` 函数返回一个 `lambda` 函数，该函数接受一个参数 `a` ，并将其乘以传递给 `myfunc` 的 `n` 的值。\n",
    "\n",
    "- 下例中，`mydoubler` 函数调用 `myfunc` 函数，将参数值  `2` 传递给 `myfunc` 函数中的参数 `n`，并接受返回的带有一个参数 `a` 的 `lambda` 函数。"
   ]
  },
  {
   "cell_type": "code",
   "execution_count": 21,
   "id": "649dfea4",
   "metadata": {},
   "outputs": [
    {
     "name": "stdout",
     "output_type": "stream",
     "text": [
      "22\n"
     ]
    }
   ],
   "source": [
    "def myfunc(n):\n",
    "  return lambda a : a * n\n",
    "\n",
    "# 创建一个将发送来的数字乘以 2 的函数\n",
    "mydoubler = myfunc(2)\n",
    "\n",
    "# 调用 mydoubler 函数\n",
    "print(mydoubler(11))"
   ]
  },
  {
   "cell_type": "markdown",
   "id": "d09d5ece",
   "metadata": {},
   "source": [
    "- 下例中，mytripler 函数调用 myfunc 函数，将参数值  3 传递给 myfunc 函数中的参数 n，并接受返回的带有一个参数 a 的 lambda 函数。"
   ]
  },
  {
   "cell_type": "code",
   "execution_count": 22,
   "id": "fa63ec4d",
   "metadata": {},
   "outputs": [
    {
     "name": "stdout",
     "output_type": "stream",
     "text": [
      "33\n"
     ]
    }
   ],
   "source": [
    "def myfunc(n):\n",
    "  return lambda a : a * n\n",
    "\n",
    "# 创建一个将发送来的数字乘以 3 的函数\n",
    "mytripler = myfunc(3)\n",
    "\n",
    "# 调用 mytripler 函数\n",
    "print(mytripler(11))"
   ]
  },
  {
   "cell_type": "markdown",
   "id": "f781ecd8",
   "metadata": {},
   "source": [
    "- 使用同一个函数创建两个新的函数"
   ]
  },
  {
   "cell_type": "code",
   "execution_count": 23,
   "id": "f09b7394",
   "metadata": {},
   "outputs": [
    {
     "name": "stdout",
     "output_type": "stream",
     "text": [
      "22\n",
      "33\n"
     ]
    }
   ],
   "source": [
    "def myfunc(n):\n",
    "  return lambda a : a * n\n",
    "\n",
    "# 创建两个新的函数\n",
    "mydoubler = myfunc(2)\n",
    "mytripler = myfunc(3)\n",
    "\n",
    "# 调用两个新创建的函数\n",
    "print(mydoubler(11))\n",
    "print(mytripler(11))"
   ]
  },
  {
   "cell_type": "markdown",
   "id": "aeade43b",
   "metadata": {},
   "source": [
    "## map函数"
   ]
  },
  {
   "cell_type": "markdown",
   "id": "3b8e9ac4",
   "metadata": {},
   "source": [
    "- map() 函数是Python内置的函数之一，它的作用是将一个函数应用到一个或多个可迭代对象中的每个元素上，并返回一个由这些函数结果组成的迭代器。"
   ]
  },
  {
   "cell_type": "code",
   "execution_count": 24,
   "id": "2f7066af",
   "metadata": {},
   "outputs": [
    {
     "name": "stdout",
     "output_type": "stream",
     "text": [
      "[1, 4, 9, 16, 25]\n"
     ]
    }
   ],
   "source": [
    "def square(x):\n",
    "    return x**2\n",
    "\n",
    "my_list = [1, 2, 3, 4, 5]\n",
    "squared_list = list(map(square, my_list))\n",
    "print(squared_list)"
   ]
  },
  {
   "cell_type": "markdown",
   "id": "fb41d4e9",
   "metadata": {},
   "source": [
    "- map() 函数与 lambda 函数结合使用，代码更简洁。"
   ]
  },
  {
   "cell_type": "code",
   "execution_count": 25,
   "id": "51e3520b",
   "metadata": {},
   "outputs": [
    {
     "name": "stdout",
     "output_type": "stream",
     "text": [
      "[1, 4, 9, 16, 25]\n"
     ]
    }
   ],
   "source": [
    "my_list = [1, 2, 3, 4, 5]\n",
    "squared_list = list(map(lambda x: x**2, my_list))\n",
    "print(squared_list)"
   ]
  },
  {
   "cell_type": "code",
   "execution_count": 27,
   "id": "9d11f404",
   "metadata": {},
   "outputs": [
    {
     "name": "stdout",
     "output_type": "stream",
     "text": [
      "[10, 40, 90, 160, 250]\n"
     ]
    }
   ],
   "source": [
    "def multiply(x, y):\n",
    "    return x*y\n",
    "\n",
    "my_list1 = [1, 2, 3, 4, 5]\n",
    "my_list2 = [10, 20, 30, 40, 50]\n",
    "product_list = list(map(multiply, my_list1, my_list2))\n",
    "print(product_list)"
   ]
  },
  {
   "cell_type": "markdown",
   "id": "41a84da7",
   "metadata": {},
   "source": [
    "## 函数装饰器（Decorators）"
   ]
  },
  {
   "cell_type": "markdown",
   "id": "058a2495",
   "metadata": {},
   "source": [
    "### 传递函数作为参数"
   ]
  },
  {
   "cell_type": "code",
   "execution_count": 28,
   "id": "32e2cd66",
   "metadata": {},
   "outputs": [
    {
     "name": "stdout",
     "output_type": "stream",
     "text": [
      "10\n"
     ]
    }
   ],
   "source": [
    "def add(x, y):\n",
    "    return x + y\n",
    "\n",
    "def calculate(func, x, y):\n",
    "    return func(x, y)\n",
    "\n",
    "result = calculate(add, 4, 6)\n",
    "print(result)  # prints 10"
   ]
  },
  {
   "cell_type": "markdown",
   "id": "bcc71aa9",
   "metadata": {},
   "source": [
    "- 该代码定义了两个函数：`add(x, y)` 和 `calculate(func, x, y)`。\n",
    "- `add(x, y)` 函数接受两个参数并返回它们的和。\n",
    "- `calculate(func, x, y)` 函数包含三个参数：函数 `func` 和两个数字 `x` 和 `y`。 它返回使用参数 x 和 y 调用函数 func 的结果。\n",
    "- 调用 `calculate()` 函数时，将 `add` 作为函数参数，数字 `4` 和 `6` 分别作为 `x` 和 `y` 参数。 这意味着 add() 函数将在 x=4 和 y=6 时调用，add(4, 6) 的结果（即 10）将由 calculate() 返回。\n",
    "- 最后，结果存储在 `result` 变量中，打印输出 10。"
   ]
  },
  {
   "cell_type": "markdown",
   "id": "52637bbe",
   "metadata": {},
   "source": [
    "### 将函数作为值返回"
   ]
  },
  {
   "cell_type": "code",
   "execution_count": 29,
   "id": "e639c64d",
   "metadata": {},
   "outputs": [
    {
     "name": "stdout",
     "output_type": "stream",
     "text": [
      "Hello, Atlantis!\n"
     ]
    }
   ],
   "source": [
    "def greeting(name):\n",
    "    def hello():\n",
    "        return \"Hello, \" + name + \"!\"\n",
    "    return hello\n",
    "\n",
    "greet = greeting(\"Atlantis\")\n",
    "print(greet())  # prints \"Hello, Atlantis!\"\n",
    "\n",
    "# Output: Hello, Atlantis!"
   ]
  },
  {
   "cell_type": "markdown",
   "id": "f64849e2",
   "metadata": {},
   "source": [
    "- 该代码定义了一个函数 `greeting()`。\n",
    "- 在 `greeting()` 函数内部，还有另一个函数 `hello()`。 这个内部函数返回一个字符串，上面写着“Hello”，后跟名称参数和一个感叹号。\n",
    "- `greeting()` 函数然后返回 hello() 函数。\n",
    "- 当调用 `greeting()` 时，它会返回一个函数 `hello`，`hello` 函数返回一句问候语。"
   ]
  },
  {
   "cell_type": "markdown",
   "id": "41d387c3",
   "metadata": {},
   "source": [
    "### 带@符号的装饰器"
   ]
  },
  {
   "cell_type": "code",
   "execution_count": 30,
   "id": "17626cfd",
   "metadata": {},
   "outputs": [
    {
     "name": "stdout",
     "output_type": "stream",
     "text": [
      "I am going to divide 2 and 5\n",
      "0.4\n",
      "I am going to divide 2 and 0\n",
      "Whoops! cannot divide\n"
     ]
    }
   ],
   "source": [
    "def smart_divide(func):\n",
    "    def inner(a, b):\n",
    "        print(\"I am going to divide\", a, \"and\", b)\n",
    "        if b == 0:\n",
    "            print(\"Whoops! cannot divide\")\n",
    "            return\n",
    "\n",
    "        return func(a, b)\n",
    "    return inner\n",
    "\n",
    "@smart_divide\n",
    "def divide(a, b):\n",
    "    print(a/b)\n",
    "\n",
    "divide(2,5)\n",
    "\n",
    "divide(2,0)"
   ]
  },
  {
   "cell_type": "markdown",
   "id": "c4bc25c9",
   "metadata": {},
   "source": [
    "- **@smart_divide**\n",
    "    - 此行代码中，`@`符号后面的 `smart_divide` 被称为 **装饰器函数（Decorator function）**。\n",
    "    - **装饰器函数** 是一个将 另一个函数作为参数、修改其行为，并返回一个新函数的函数。\n",
    "    - 本例中首先定义了一个装饰器函数 `smart_divide(func)` ，它将函数 `func` 作为参数。\n",
    "    - 装饰器函数返回一个名为 `inner(a, b)` 的新函数，它接受两个参数 a 和 b。\n",
    "    - 在 `inner()` 函数内部，首先打印一条消息，表明它将除以两个参数 a 和 b。\n",
    "    - 然后，它检查 b 是否为零。 如果是，它会打印一条消息，表明它不能划分并返回 None。 如果 b 不为零，它会使用参数 a 和 b 调用 **原始函数** `func(a, b)`。"
   ]
  },
  {
   "cell_type": "code",
   "execution_count": null,
   "id": "e89ee898",
   "metadata": {},
   "outputs": [],
   "source": []
  }
 ],
 "metadata": {
  "kernelspec": {
   "display_name": "Python 3 (ipykernel)",
   "language": "python",
   "name": "python3"
  },
  "language_info": {
   "codemirror_mode": {
    "name": "ipython",
    "version": 3
   },
   "file_extension": ".py",
   "mimetype": "text/x-python",
   "name": "python",
   "nbconvert_exporter": "python",
   "pygments_lexer": "ipython3",
   "version": "3.10.10"
  }
 },
 "nbformat": 4,
 "nbformat_minor": 5
}
