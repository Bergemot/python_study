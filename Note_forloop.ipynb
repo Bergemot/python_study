{
 "cells": [
  {
   "cell_type": "markdown",
   "id": "64e3ade5",
   "metadata": {},
   "source": [
    "# for 循环"
   ]
  },
  {
   "cell_type": "code",
   "execution_count": 1,
   "id": "e9c09757",
   "metadata": {},
   "outputs": [
    {
     "name": "stdout",
     "output_type": "stream",
     "text": [
      "apple\n",
      "banana\n",
      "cherry\n"
     ]
    }
   ],
   "source": [
    "# 遍历列表（list）\n",
    "\n",
    "fruits = [\"apple\", \"banana\", \"cherry\"]\n",
    "\n",
    "for x in fruits:\n",
    "    print(x)"
   ]
  },
  {
   "cell_type": "markdown",
   "id": "1b80c0d0",
   "metadata": {},
   "source": [
    "- **缩进**：每级缩进都使用 `4` 个空格。\n",
    "- **行长**：每行不超过 80 个字符，注释行不超过 72 个字符。\n",
    "- **空行**：不影响代码运行，但影响代码的可读性。\n",
    "- **注释**：使用 `#` 书写注释行，增加代码的可读性"
   ]
  },
  {
   "cell_type": "code",
   "execution_count": 2,
   "id": "303269d1",
   "metadata": {},
   "outputs": [
    {
     "name": "stdout",
     "output_type": "stream",
     "text": [
      "b\n",
      "a\n",
      "n\n",
      "a\n",
      "n\n",
      "a\n"
     ]
    }
   ],
   "source": [
    "# 遍历字符串（String）\n",
    "\n",
    "for x in \"banana\":\n",
    "    print(x)"
   ]
  },
  {
   "cell_type": "markdown",
   "id": "966ae38a",
   "metadata": {},
   "source": [
    "## >遍历字典"
   ]
  },
  {
   "cell_type": "code",
   "execution_count": 3,
   "id": "5f1cec23",
   "metadata": {},
   "outputs": [
    {
     "name": "stdout",
     "output_type": "stream",
     "text": [
      "brand\n",
      "model\n",
      "year\n"
     ]
    }
   ],
   "source": [
    "# 遍历字典 键名：\n",
    "my_dict = {\n",
    "  \"brand\": \"Ford\",\n",
    "  \"model\": \"Mustang\",\n",
    "  \"year\": 1964\n",
    "}\n",
    "\n",
    "for x in my_dict:\n",
    "  print(x)"
   ]
  },
  {
   "cell_type": "code",
   "execution_count": 4,
   "id": "c94d2428",
   "metadata": {},
   "outputs": [
    {
     "name": "stdout",
     "output_type": "stream",
     "text": [
      "Ford\n",
      "Mustang\n",
      "1964\n"
     ]
    }
   ],
   "source": [
    "# 遍历字典 值：\n",
    "\n",
    "my_dict = {\n",
    "  \"brand\": \"Ford\",\n",
    "  \"model\": \"Mustang\",\n",
    "  \"year\": 1964\n",
    "}\n",
    "\n",
    "for x in my_dict:\n",
    "  print(my_dict[x])"
   ]
  },
  {
   "cell_type": "code",
   "execution_count": 5,
   "id": "457dec84",
   "metadata": {},
   "outputs": [
    {
     "name": "stdout",
     "output_type": "stream",
     "text": [
      "Ford\n",
      "Mustang\n",
      "1964\n"
     ]
    }
   ],
   "source": [
    "# 使用 values() 方法遍历字典值：\n",
    "\n",
    "my_dict = {\n",
    "  \"brand\": \"Ford\",\n",
    "  \"model\": \"Mustang\",\n",
    "  \"year\": 1964\n",
    "}\n",
    "\n",
    "for x in my_dict.values():\n",
    "  print(x)"
   ]
  },
  {
   "cell_type": "code",
   "execution_count": 6,
   "id": "f5d388a1",
   "metadata": {},
   "outputs": [
    {
     "name": "stdout",
     "output_type": "stream",
     "text": [
      "brand Ford\n",
      "model Mustang\n",
      "year 1964\n"
     ]
    }
   ],
   "source": [
    "# 使用 items() 方法遍历字典键值对\n",
    "\n",
    "for x, y in my_dict.items():\n",
    "  print(x, y)"
   ]
  },
  {
   "cell_type": "markdown",
   "id": "13480284",
   "metadata": {},
   "source": [
    "## >range 函数"
   ]
  },
  {
   "cell_type": "code",
   "execution_count": 8,
   "id": "7609a733",
   "metadata": {},
   "outputs": [
    {
     "name": "stdout",
     "output_type": "stream",
     "text": [
      "0\n",
      "1\n",
      "2\n",
      "3\n",
      "4\n",
      "5\n"
     ]
    }
   ],
   "source": [
    "x = range(6)\n",
    "for n in x:\n",
    "  print(n)"
   ]
  },
  {
   "cell_type": "code",
   "execution_count": 9,
   "id": "12dbe7a0",
   "metadata": {},
   "outputs": [
    {
     "name": "stdout",
     "output_type": "stream",
     "text": [
      "3\n",
      "4\n",
      "5\n"
     ]
    }
   ],
   "source": [
    "x = range(3, 6)\n",
    "for n in x:\n",
    "  print(n)"
   ]
  },
  {
   "cell_type": "code",
   "execution_count": 12,
   "id": "b169cc23",
   "metadata": {},
   "outputs": [
    {
     "name": "stdout",
     "output_type": "stream",
     "text": [
      "0\n",
      "2\n",
      "4\n",
      "6\n",
      "8\n",
      "10\n",
      "12\n",
      "14\n",
      "16\n",
      "18\n"
     ]
    }
   ],
   "source": [
    "x = range(0, 20, 2)\n",
    "for n in x:\n",
    "  print(n)"
   ]
  },
  {
   "cell_type": "markdown",
   "id": "75ebc003",
   "metadata": {},
   "source": [
    "## >break 语句"
   ]
  },
  {
   "cell_type": "code",
   "execution_count": 11,
   "id": "7961c2a2",
   "metadata": {},
   "outputs": [
    {
     "name": "stdout",
     "output_type": "stream",
     "text": [
      "apple\n",
      "banana\n"
     ]
    }
   ],
   "source": [
    "# 使用 break 语句，可以在循环遍历所有项目之前停止循环\n",
    "\n",
    "fruits = [\"apple\", \"banana\", \"cherry\"]\n",
    "\n",
    "for x in fruits:\n",
    "    print(x)\n",
    "    if x == \"banana\":\n",
    "        break"
   ]
  },
  {
   "cell_type": "code",
   "execution_count": 13,
   "id": "87fe378d",
   "metadata": {},
   "outputs": [
    {
     "name": "stdout",
     "output_type": "stream",
     "text": [
      "apple\n",
      "cherry\n"
     ]
    }
   ],
   "source": [
    "# 当 x 为 \"banana\" 时退出循环，但这次中断出现在打印之前\n",
    "fruits = [\"apple\", \"cherry\", \"banana\"]\n",
    "\n",
    "for x in fruits:\n",
    "    if x == \"banana\":\n",
    "        break\n",
    "    print(x)"
   ]
  },
  {
   "cell_type": "markdown",
   "id": "57e3775b",
   "metadata": {},
   "source": [
    "## >Python 推导式"
   ]
  },
  {
   "cell_type": "markdown",
   "id": "29dd0869",
   "metadata": {},
   "source": [
    " ### **字典推导式**"
   ]
  },
  {
   "cell_type": "code",
   "execution_count": 14,
   "id": "6216b7f9",
   "metadata": {},
   "outputs": [],
   "source": [
    "import random\n",
    "\n",
    "# Generate a random protein sequence of length 200\n",
    "aa = ['A', 'R', 'N', 'D', 'C', 'Q', 'E', 'G', 'H', 'I', 'L', 'K', 'M', 'F', 'P', 'S', 'T', 'W', 'Y', 'V']\n",
    "seq = ''.join(random.choices(aa, k=200))"
   ]
  },
  {
   "cell_type": "markdown",
   "id": "73c75f95",
   "metadata": {},
   "source": [
    "- 调用 random 模块，使用其中的 choices 方法每次从 aa 列表（list）随机选取一种氨基酸，使用 join 函数生成一条长度为 200 个氨基酸的序列，保存在 seq 中。"
   ]
  },
  {
   "cell_type": "code",
   "execution_count": 15,
   "id": "c02b29f3",
   "metadata": {},
   "outputs": [],
   "source": [
    "# Calculate amino acid composition\n",
    "aa_count = {a: seq.count(a) for a in aa}\n",
    "total_count = sum(aa_count.values())\n",
    "aa_freq = {a: count / total_count*100 for a, count in aa_count.items()}"
   ]
  },
  {
   "cell_type": "markdown",
   "id": "334ad643",
   "metadata": {},
   "source": [
    "- aa_count = `{a: seq.count(a) for a in aa}` 被称为 字典推导式（dictionary comprehension）。\n",
    "- 在这行代码中，`aa_count` 是一个字典变量。\n",
    "- 字典中，每个值的 键名（key）`a` 通过 `for` 循环从列表 `aa` 中逐一读取。\n",
    "- 每个键名 `a` 对应的 值（value）即对应的氨基酸在序列 `seq` 中出现的次数（`seq.count(a)`）。\n",
    "- 这样，使用 字典推导式（dictionary comprehension）创建出字典变量 `aa_count`。\n",
    "\n",
    "---\n",
    "\n",
    "- 同样，使用 字典推导式（dictionary comprehension）`aa_freq = {a: count / total_count*100 for a, count in aa_count.items()}` 创建出字典变量 `aa_freq` 。"
   ]
  },
  {
   "cell_type": "markdown",
   "id": "0de6caf2",
   "metadata": {},
   "source": [
    "### 列表推导式（List comprehension）"
   ]
  },
  {
   "cell_type": "markdown",
   "id": "b1c6363c",
   "metadata": {},
   "source": [
    "- 例 1：过滤掉长度小于或等于3的字符串列表，并将剩下的转换成大写字母。"
   ]
  },
  {
   "cell_type": "code",
   "execution_count": 16,
   "id": "faa6af8f",
   "metadata": {},
   "outputs": [
    {
     "name": "stdout",
     "output_type": "stream",
     "text": [
      "['ALICE', 'JERRY', 'WENDY', 'SMITH']\n"
     ]
    }
   ],
   "source": [
    "names = ['Bob','Tom','alice','Jerry','Wendy','Smith']\n",
    "new_names = [name.upper() for name in names if len(name)>3]\n",
    "print(new_names)"
   ]
  },
  {
   "cell_type": "markdown",
   "id": "054ab1d8",
   "metadata": {},
   "source": [
    "- 例 2：计算 30 以内可以被 3 整除的整数。"
   ]
  },
  {
   "cell_type": "code",
   "execution_count": 19,
   "id": "7d01e7ed",
   "metadata": {},
   "outputs": [
    {
     "name": "stdout",
     "output_type": "stream",
     "text": [
      "[0, 3, 6, 9, 12, 15, 18, 21, 24, 27]\n"
     ]
    }
   ],
   "source": [
    "multiples = [i for i in range(30) if i % 3 == 0]\n",
    "print(multiples)"
   ]
  },
  {
   "cell_type": "markdown",
   "id": "1334cc7e",
   "metadata": {},
   "source": [
    "### 集合推导式（Set comprehension）"
   ]
  },
  {
   "cell_type": "markdown",
   "id": "3d777971",
   "metadata": {},
   "source": [
    "- 例：计算数字 1,2,3 的平方数。"
   ]
  },
  {
   "cell_type": "code",
   "execution_count": 18,
   "id": "cc439321",
   "metadata": {},
   "outputs": [
    {
     "name": "stdout",
     "output_type": "stream",
     "text": [
      "{1, 4, 9}\n"
     ]
    }
   ],
   "source": [
    "setnew = {i**2 for i in (1,2,3)}\n",
    "print(setnew)"
   ]
  },
  {
   "cell_type": "markdown",
   "id": "15eda7e9",
   "metadata": {},
   "source": [
    "### 元组推导式（Tuple comprehension）（生成器表达式）"
   ]
  },
  {
   "cell_type": "markdown",
   "id": "a44cee09",
   "metadata": {},
   "source": [
    "- 例：生成一个包含数字 1~9 的元组。"
   ]
  },
  {
   "cell_type": "code",
   "execution_count": 24,
   "id": "e9b29729",
   "metadata": {},
   "outputs": [
    {
     "name": "stdout",
     "output_type": "stream",
     "text": [
      "<generator object <genexpr> at 0x000001F266EDBA70>\n",
      "<class 'generator'>\n",
      "(1, 2, 3, 4, 5, 6, 7, 8, 9)\n"
     ]
    }
   ],
   "source": [
    "a = (x for x in range(1,10))\n",
    "print(a)\n",
    "print(type(a))\n",
    "#<generator object <genexpr> at 0x7faf6ee20a50>  # 返回的是生成器对象\n",
    "print(tuple(a))       # 使用 tuple() 函数，可以直接将生成器对象转换成元组\n",
    "# (1, 2, 3, 4, 5, 6, 7, 8, 9)"
   ]
  },
  {
   "cell_type": "markdown",
   "id": "f785d111",
   "metadata": {},
   "source": [
    "> Write a program that uses a for loop to iterate over a dictionary of prices for various items, and calculates the total cost of all items."
   ]
  },
  {
   "cell_type": "code",
   "execution_count": 25,
   "id": "4e91b74b",
   "metadata": {},
   "outputs": [
    {
     "name": "stdout",
     "output_type": "stream",
     "text": [
      "The total cost of all items is: $3.05\n"
     ]
    }
   ],
   "source": [
    "prices = {'apple': 0.75, 'banana': 0.60, 'orange': 0.80, 'pear': 0.90}\n",
    "\n",
    "total_cost = 0\n",
    "for item, price in prices.items():\n",
    "    total_cost += price\n",
    "\n",
    "print(f\"The total cost of all items is: ${total_cost:.2f}\")"
   ]
  },
  {
   "cell_type": "markdown",
   "id": "716d391e",
   "metadata": {},
   "source": [
    "- 字符串开头的 **`f`** 表示这是一个格式化的字符串文字。\n",
    "- 字符串中的文本用双引号括起来。\n",
    "- 在字符串中，我们为 **`total_cost`** 的值包含一个占位符，我们希望将其包含在字符串中。 占位符括在大括号 **`{}`** 中。\n",
    "- 在占位符之后，我们包含一个冒号 **`:`**，然后是格式说明符 **`.2f`**。 这告诉 Python 将 **`total_cost`** 的值格式化为带两位小数的浮点数。\n",
    "- 最后，我们在 **`total_cost`** 的值之前包含美元符号 **`$`**，以表明这是一个美元金额。"
   ]
  },
  {
   "cell_type": "markdown",
   "id": "9f17034b",
   "metadata": {},
   "source": [
    "> Write a program that uses a for loop to iterate over a dictionary of names and ages, and prints out the names of all people who are over 18 years old."
   ]
  },
  {
   "cell_type": "code",
   "execution_count": 26,
   "id": "cc86b789",
   "metadata": {},
   "outputs": [
    {
     "name": "stdout",
     "output_type": "stream",
     "text": [
      "Alice\n",
      "Charlie\n",
      "David\n"
     ]
    }
   ],
   "source": [
    "people = {'Alice': 25, 'Bob': 17, 'Charlie': 30, 'David': 20}\n",
    "\n",
    "for name, age in people.items():\n",
    "    if age > 18:\n",
    "        print(name)"
   ]
  },
  {
   "cell_type": "code",
   "execution_count": 30,
   "id": "925fa519",
   "metadata": {},
   "outputs": [
    {
     "name": "stdout",
     "output_type": "stream",
     "text": [
      "dict_keys(['Alice', 'Charlie', 'David'])\n"
     ]
    }
   ],
   "source": [
    "people = {'Alice': 25, 'Bob': 17, 'Charlie': 30, 'David': 20}\n",
    "over_18={a:people[a] for a in people if people[a]>18}\n",
    "print(over_18.keys())"
   ]
  }
 ],
 "metadata": {
  "kernelspec": {
   "display_name": "Python 3 (ipykernel)",
   "language": "python",
   "name": "python3"
  },
  "language_info": {
   "codemirror_mode": {
    "name": "ipython",
    "version": 3
   },
   "file_extension": ".py",
   "mimetype": "text/x-python",
   "name": "python",
   "nbconvert_exporter": "python",
   "pygments_lexer": "ipython3",
   "version": "3.10.10"
  }
 },
 "nbformat": 4,
 "nbformat_minor": 5
}
