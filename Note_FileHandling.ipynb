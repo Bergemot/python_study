{
 "cells": [
  {
   "cell_type": "markdown",
   "id": "ecc6e3d6",
   "metadata": {},
   "source": [
    "# 文件操作"
   ]
  },
  {
   "cell_type": "markdown",
   "id": "c896d015",
   "metadata": {},
   "source": [
    "- 使用 `open()` 函数打开文件。\n",
    "    - `open()` 函数有两个参数； 文件名（*filename*） 和 模式（*mode*）。\n",
    "    - 打开文件有 4 种不同的方法（模式）：\n",
    "        - `r` - 读取，默认值。 打开文件进行读取，如果文件不存在则报错。\n",
    "        - `a` - 打开一个文件向内追加内容，如果文件不存在则创建该文件。\n",
    "        - `w` - 打开一个文件向内写入内容，如果文件不存在则创建该文件。\n",
    "        - `x` - 创建指定文件，如果文件存在则返回错误。\n",
    "    - 此外，还可以指定文件是否应作为二进制（binary）或 文本（text）模式处理。\n",
    "        - `t` - 文本，默认值。 文本模式。\n",
    "        - `b` - 二进制模式（例如图像）。"
   ]
  },
  {
   "cell_type": "markdown",
   "id": "7a277906",
   "metadata": {},
   "source": [
    "## 打开文件"
   ]
  },
  {
   "cell_type": "code",
   "execution_count": 1,
   "id": "f9eb33d6",
   "metadata": {},
   "outputs": [],
   "source": [
    "# 打开文件 默认rt\n",
    "f = open(\"demofile.txt\")"
   ]
  },
  {
   "cell_type": "code",
   "execution_count": 3,
   "id": "81ad0257",
   "metadata": {},
   "outputs": [],
   "source": [
    "filename = 'spike.fasta'\n",
    "filehandle = open(filename, 'r')"
   ]
  },
  {
   "cell_type": "markdown",
   "id": "54e7f720",
   "metadata": {},
   "source": [
    "## 使用 read() 方法读取整个文件。"
   ]
  },
  {
   "cell_type": "code",
   "execution_count": 27,
   "id": "7fa5d701",
   "metadata": {},
   "outputs": [
    {
     "name": "stdout",
     "output_type": "stream",
     "text": [
      "hello world! good morning! happy new year!\n",
      "<class 'str'>\n",
      "42\n"
     ]
    }
   ],
   "source": [
    "f = open(\"demofile.txt\", \"r\")\n",
    "text=f.read()\n",
    "text=text.replace(\"\\n\",\" \")\n",
    "#print(f.read())\n",
    "print(text)\n",
    "print(type(text))\n",
    "print(len(text))"
   ]
  },
  {
   "cell_type": "markdown",
   "id": "9b0a3173",
   "metadata": {},
   "source": [
    "## 只读取文件部分内容\n",
    "    - 默认情况下，`read()` 方法返回整个文本，但也可以指定要返回的字符数。\n",
    "    - 例：返回文件的前 `5` 个字符。"
   ]
  },
  {
   "cell_type": "code",
   "execution_count": 20,
   "id": "9db5913c",
   "metadata": {},
   "outputs": [
    {
     "name": "stdout",
     "output_type": "stream",
     "text": [
      "hello\n"
     ]
    }
   ],
   "source": [
    "f = open(\"demofile.txt\", \"r\")\n",
    "print(f.read(5))"
   ]
  },
  {
   "cell_type": "markdown",
   "id": "8093defe",
   "metadata": {},
   "source": [
    "## 使用 readline() 方法返回一行"
   ]
  },
  {
   "cell_type": "code",
   "execution_count": 21,
   "id": "3ad4fee2",
   "metadata": {},
   "outputs": [
    {
     "name": "stdout",
     "output_type": "stream",
     "text": [
      "hello world!\n",
      "\n"
     ]
    }
   ],
   "source": [
    "f = open(\"demofile.txt\", \"r\")\n",
    "print(f.readline())"
   ]
  },
  {
   "cell_type": "markdown",
   "id": "6d67d9a9",
   "metadata": {},
   "source": [
    "## 通过调用 readline() 两次，可以读取前两行。"
   ]
  },
  {
   "cell_type": "code",
   "execution_count": 22,
   "id": "ae2ef139",
   "metadata": {},
   "outputs": [
    {
     "name": "stdout",
     "output_type": "stream",
     "text": [
      "hello world!\n",
      "\n",
      "good morning!\n",
      "\n"
     ]
    }
   ],
   "source": [
    "f = open(\"demofile.txt\", \"r\")\n",
    "print(f.readline())\n",
    "print(f.readline())"
   ]
  },
  {
   "cell_type": "markdown",
   "id": "559a0424",
   "metadata": {},
   "source": [
    "## 通过 for 循环遍历文件的行，逐行读取整个文件。"
   ]
  },
  {
   "cell_type": "code",
   "execution_count": 23,
   "id": "db65de1f",
   "metadata": {},
   "outputs": [
    {
     "name": "stdout",
     "output_type": "stream",
     "text": [
      "hello world!\n",
      "\n",
      "good morning!\n",
      "\n",
      "happy new year!\n"
     ]
    }
   ],
   "source": [
    "f = open(\"demofile.txt\", \"r\")\n",
    "for x in f:\n",
    "  print(x)"
   ]
  },
  {
   "cell_type": "markdown",
   "id": "55a9cd6f",
   "metadata": {},
   "source": [
    "## 使用 readlines() 读取文件中的每一行，并存储在一个列表中。"
   ]
  },
  {
   "cell_type": "code",
   "execution_count": 24,
   "id": "16760d51",
   "metadata": {},
   "outputs": [
    {
     "name": "stdout",
     "output_type": "stream",
     "text": [
      "good morning!\n",
      "\n"
     ]
    }
   ],
   "source": [
    "f = open(\"demofile.txt\", \"r\")\n",
    "\n",
    "lines = f.readlines()\n",
    "print(lines[1])"
   ]
  },
  {
   "cell_type": "code",
   "execution_count": 31,
   "id": "5c13a795",
   "metadata": {},
   "outputs": [
    {
     "ename": "UnicodeDecodeError",
     "evalue": "'gbk' codec can't decode byte 0x90 in position 19: illegal multibyte sequence",
     "output_type": "error",
     "traceback": [
      "\u001b[1;31m---------------------------------------------------------------------------\u001b[0m",
      "\u001b[1;31mUnicodeDecodeError\u001b[0m                        Traceback (most recent call last)",
      "Cell \u001b[1;32mIn[31], line 2\u001b[0m\n\u001b[0;32m      1\u001b[0m f\u001b[38;5;241m=\u001b[39m\u001b[38;5;28mopen\u001b[39m(\u001b[38;5;124m\"\u001b[39m\u001b[38;5;124mbomb.PNG\u001b[39m\u001b[38;5;124m\"\u001b[39m)\n\u001b[1;32m----> 2\u001b[0m \u001b[38;5;28mprint\u001b[39m(\u001b[43mf\u001b[49m\u001b[38;5;241;43m.\u001b[39;49m\u001b[43mread\u001b[49m\u001b[43m(\u001b[49m\u001b[43m)\u001b[49m)\n",
      "\u001b[1;31mUnicodeDecodeError\u001b[0m: 'gbk' codec can't decode byte 0x90 in position 19: illegal multibyte sequence"
     ]
    }
   ],
   "source": [
    "f=open(\"bomb.PNG\")\n",
    "print(f.read())"
   ]
  },
  {
   "cell_type": "markdown",
   "id": "589f68e4",
   "metadata": {},
   "source": [
    "## 写入文件"
   ]
  },
  {
   "cell_type": "markdown",
   "id": "dc8e081a",
   "metadata": {},
   "source": [
    "### open() + write() 方法"
   ]
  },
  {
   "cell_type": "markdown",
   "id": "25a21289",
   "metadata": {},
   "source": [
    "- 在 `open()` 函数中添加一个参数：\n",
    "    \n",
    "    \n",
    "    - `a` - 追加 - 将追加到文件的末尾。"
   ]
  },
  {
   "cell_type": "code",
   "execution_count": 38,
   "id": "cb592126",
   "metadata": {},
   "outputs": [
    {
     "name": "stdout",
     "output_type": "stream",
     "text": [
      "I have deleted the content!You are welcome!\n"
     ]
    }
   ],
   "source": [
    "f = open(\"demofile2.txt\", \"a\")\n",
    "f.write(\"You are welcome!\")\n",
    "f.close()\n",
    "\n",
    "#open and read the file after the appending:\n",
    "f = open(\"demofile2.txt\", \"r\")\n",
    "print(f.read())"
   ]
  },
  {
   "cell_type": "markdown",
   "id": "3aa0e7b8",
   "metadata": {},
   "source": [
    "    \n",
    " - `w` - 写入 - 将覆盖任何现有内容。"
   ]
  },
  {
   "cell_type": "code",
   "execution_count": 39,
   "id": "b25d1355",
   "metadata": {},
   "outputs": [
    {
     "name": "stdout",
     "output_type": "stream",
     "text": [
      "I have deleted the content!\n"
     ]
    }
   ],
   "source": [
    "f = open(\"demofile3.txt\", \"w\")\n",
    "f.write(\"I have deleted the content!\")\n",
    "f.close()\n",
    "\n",
    "#open and read the file after the appending:\n",
    "f = open(\"demofile3.txt\", \"r\")\n",
    "print(f.read())"
   ]
  },
  {
   "cell_type": "markdown",
   "id": "d07ba6f1",
   "metadata": {},
   "source": [
    "- open() + print() 方法"
   ]
  },
  {
   "cell_type": "code",
   "execution_count": 42,
   "id": "e2b3734c",
   "metadata": {},
   "outputs": [],
   "source": [
    "filename = 'my_seq.fasta'\n",
    "filehandle = open(filename, 'w')\n",
    "\n",
    "print(\">my_dna\", file = filehandle)\n",
    "print(\"ATCG\", file = filehandle)"
   ]
  },
  {
   "cell_type": "markdown",
   "id": "5314743c",
   "metadata": {},
   "source": [
    "## 关闭文件\n",
    "- 作用 close() 方法关闭文件。"
   ]
  },
  {
   "cell_type": "code",
   "execution_count": 41,
   "id": "f9413c19",
   "metadata": {},
   "outputs": [
    {
     "name": "stdout",
     "output_type": "stream",
     "text": [
      "hello world!\n",
      "\n"
     ]
    }
   ],
   "source": [
    "f = open(\"demofile.txt\", \"r\")\n",
    "print(f.readline())\n",
    "f.close()"
   ]
  },
  {
   "cell_type": "markdown",
   "id": "b7e99392",
   "metadata": {},
   "source": [
    "## 删除文件和文件夹"
   ]
  },
  {
   "cell_type": "markdown",
   "id": "380c00ee",
   "metadata": {},
   "source": [
    "- 导入 OS 模块，并运行其 os.remove() 函数删除文件。"
   ]
  },
  {
   "cell_type": "code",
   "execution_count": 43,
   "id": "fa48dcd8",
   "metadata": {},
   "outputs": [],
   "source": [
    "import os\n",
    "\n",
    "os.remove(\"demofile.txt\")"
   ]
  },
  {
   "cell_type": "markdown",
   "id": "f41c0ec4",
   "metadata": {},
   "source": [
    "- 检查文件是否存在"
   ]
  },
  {
   "cell_type": "code",
   "execution_count": 44,
   "id": "1eac652b",
   "metadata": {},
   "outputs": [
    {
     "name": "stdout",
     "output_type": "stream",
     "text": [
      "The file does not exist\n"
     ]
    }
   ],
   "source": [
    "import os\n",
    "\n",
    "if os.path.exists(\"demofile.txt\"):\n",
    "  os.remove(\"demofile.txt\")\n",
    "else:\n",
    "  print(\"The file does not exist\")"
   ]
  },
  {
   "cell_type": "markdown",
   "id": "a7cba681",
   "metadata": {},
   "source": [
    "- 删除文件夹\n",
    "    - 要删除整个文件夹，使用 `os.rmdir()` 方法："
   ]
  },
  {
   "cell_type": "code",
   "execution_count": 47,
   "id": "5ee79614",
   "metadata": {},
   "outputs": [
    {
     "name": "stdout",
     "output_type": "stream",
     "text": [
      "The folder does not exist\n"
     ]
    }
   ],
   "source": [
    "import os\n",
    "if os.path.exists(\"myfolder\"):\n",
    "    os.rmdir(\"myfolder\")\n",
    "else:\n",
    "  print(\"The folder does not exist\")"
   ]
  },
  {
   "cell_type": "code",
   "execution_count": null,
   "id": "b8950616",
   "metadata": {},
   "outputs": [],
   "source": []
  }
 ],
 "metadata": {
  "kernelspec": {
   "display_name": "Python 3 (ipykernel)",
   "language": "python",
   "name": "python3"
  },
  "language_info": {
   "codemirror_mode": {
    "name": "ipython",
    "version": 3
   },
   "file_extension": ".py",
   "mimetype": "text/x-python",
   "name": "python",
   "nbconvert_exporter": "python",
   "pygments_lexer": "ipython3",
   "version": "3.10.10"
  }
 },
 "nbformat": 4,
 "nbformat_minor": 5
}
